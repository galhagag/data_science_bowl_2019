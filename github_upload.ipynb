{
 "cells": [
  {
   "cell_type": "markdown",
   "metadata": {},
   "source": [
    "<div class=\"alert alert-block alert-info\">\n",
    "<h2> 2019 Data Science Bowl </h2>\n",
    "</div>\n"
   ]
  },
  {
   "cell_type": "markdown",
   "metadata": {},
   "source": [
    "PBS KIDS Measure Up! app, a game-based learning tool. In this Bowl the main goal is to gain insights into how media can help children learn important skills for success in school and life, predict scores on in-game assessments and create an algorithm that will lead to better-designed games.\n",
    "\n",
    "The outcomes in this competition are grouped into 4 groups (labeled accuracy_group in the data):\n",
    "\n",
    "* 3: the assessment was solved on the first attempt\n",
    "\n",
    "* 2: the assessment was solved on the second attempt\n",
    "\n",
    "* 1: the assessment was solved after 3 or more attempts\n",
    "\n",
    "* 0: the assessment was never solved\n",
    "\n",
    "Evaluation metric - **quadratic weighted kappa**.\n",
    "\n",
    "Referance: The first place in this competition achived a score of 0.568 (the 100th place got a score of 0.547)."
   ]
  },
  {
   "cell_type": "markdown",
   "metadata": {},
   "source": [
    "## In This Notebook :\n",
    "\n",
    "- Data explorations\n",
    "- feature engineering\n",
    "- Data cleansing \n",
    "- Divide user into two groups - new & advanced\n",
    "- Model each group seperately\n",
    "    - Trying different methods dealing with class imbalanced\n",
    "    - Group cross validation (by users id)\n",
    "    - GridSearch for hyperparameters tuning\n",
    "- Choosing the best performing model for predicting the test set\n",
    "\n",
    "**Note:** The goal was the predict the last assessment result each user took. In order to maximize the information from the data set, for each assessment a user took I'll gather the previous data till that moment and add it as a new training set as for the target is known."
   ]
  },
  {
   "cell_type": "markdown",
   "metadata": {},
   "source": [
    "## Imports & File Upload"
   ]
  },
  {
   "cell_type": "code",
   "execution_count": 1,
   "metadata": {
    "_cell_guid": "b1076dfc-b9ad-4769-8c92-a6c4dae69d19",
    "_uuid": "8f2839f25d086af736a60e9eeb907d3b93b6e0e5"
   },
   "outputs": [],
   "source": [
    "import json\n",
    "import numpy as np\n",
    "import pandas as pd\n",
    "import matplotlib.pyplot as plt\n",
    "from sklearn.pipeline import Pipeline, make_pipeline\n",
    "from sklearn.preprocessing import StandardScaler\n",
    "from sklearn.model_selection import GroupKFold\n",
    "from sklearn.model_selection import train_test_split\n",
    "from sklearn.model_selection import GroupShuffleSplit\n",
    "# from imblearn.over_sampling import SMOTENC\n",
    "import xgboost as xgb\n",
    "import lightgbm as lgb\n",
    "from sklearn.model_selection import GridSearchCV\n",
    "from sklearn.model_selection import RandomizedSearchCV\n",
    "from sklearn.metrics import mean_squared_error\n",
    "from sklearn.metrics import cohen_kappa_score\n",
    "from sklearn.metrics import confusion_matrix\n",
    "\n",
    "pd.set_option('max_colwidth',300)\n",
    "pd.options.display.max_rows = 2500\n",
    "\n",
    "import pickle\n",
    "import gc\n",
    "\n",
    "import warnings\n",
    "warnings.filterwarnings('ignore')"
   ]
  },
  {
   "cell_type": "code",
   "execution_count": 2,
   "metadata": {},
   "outputs": [
    {
     "data": {
      "text/plain": [
       "(11341042, 11)"
      ]
     },
     "execution_count": 2,
     "metadata": {},
     "output_type": "execute_result"
    }
   ],
   "source": [
    "train = pd.read_csv('train.csv')\n",
    "train.shape"
   ]
  },
  {
   "cell_type": "markdown",
   "metadata": {},
   "source": [
    "---"
   ]
  },
  {
   "cell_type": "markdown",
   "metadata": {},
   "source": [
    "# Exploring The Data & Feature Engineering"
   ]
  },
  {
   "cell_type": "code",
   "execution_count": 3,
   "metadata": {},
   "outputs": [
    {
     "data": {
      "text/html": [
       "<div>\n",
       "<style scoped>\n",
       "    .dataframe tbody tr th:only-of-type {\n",
       "        vertical-align: middle;\n",
       "    }\n",
       "\n",
       "    .dataframe tbody tr th {\n",
       "        vertical-align: top;\n",
       "    }\n",
       "\n",
       "    .dataframe thead th {\n",
       "        text-align: right;\n",
       "    }\n",
       "</style>\n",
       "<table border=\"1\" class=\"dataframe\">\n",
       "  <thead>\n",
       "    <tr style=\"text-align: right;\">\n",
       "      <th></th>\n",
       "      <th>event_id</th>\n",
       "      <th>game_session</th>\n",
       "      <th>timestamp</th>\n",
       "      <th>event_data</th>\n",
       "      <th>installation_id</th>\n",
       "      <th>event_count</th>\n",
       "      <th>event_code</th>\n",
       "      <th>game_time</th>\n",
       "      <th>title</th>\n",
       "      <th>type</th>\n",
       "      <th>world</th>\n",
       "    </tr>\n",
       "  </thead>\n",
       "  <tbody>\n",
       "    <tr>\n",
       "      <th>0</th>\n",
       "      <td>27253bdc</td>\n",
       "      <td>45bb1e1b6b50c07b</td>\n",
       "      <td>2019-09-06T17:53:46.937Z</td>\n",
       "      <td>{\"event_code\": 2000, \"event_count\": 1}</td>\n",
       "      <td>0001e90f</td>\n",
       "      <td>1</td>\n",
       "      <td>2000</td>\n",
       "      <td>0</td>\n",
       "      <td>Welcome to Lost Lagoon!</td>\n",
       "      <td>Clip</td>\n",
       "      <td>NONE</td>\n",
       "    </tr>\n",
       "    <tr>\n",
       "      <th>1</th>\n",
       "      <td>27253bdc</td>\n",
       "      <td>17eeb7f223665f53</td>\n",
       "      <td>2019-09-06T17:54:17.519Z</td>\n",
       "      <td>{\"event_code\": 2000, \"event_count\": 1}</td>\n",
       "      <td>0001e90f</td>\n",
       "      <td>1</td>\n",
       "      <td>2000</td>\n",
       "      <td>0</td>\n",
       "      <td>Magma Peak - Level 1</td>\n",
       "      <td>Clip</td>\n",
       "      <td>MAGMAPEAK</td>\n",
       "    </tr>\n",
       "    <tr>\n",
       "      <th>2</th>\n",
       "      <td>77261ab5</td>\n",
       "      <td>0848ef14a8dc6892</td>\n",
       "      <td>2019-09-06T17:54:56.302Z</td>\n",
       "      <td>{\"version\":\"1.0\",\"event_count\":1,\"game_time\":0,\"event_code\":2000}</td>\n",
       "      <td>0001e90f</td>\n",
       "      <td>1</td>\n",
       "      <td>2000</td>\n",
       "      <td>0</td>\n",
       "      <td>Sandcastle Builder (Activity)</td>\n",
       "      <td>Activity</td>\n",
       "      <td>MAGMAPEAK</td>\n",
       "    </tr>\n",
       "    <tr>\n",
       "      <th>3</th>\n",
       "      <td>b2dba42b</td>\n",
       "      <td>0848ef14a8dc6892</td>\n",
       "      <td>2019-09-06T17:54:56.387Z</td>\n",
       "      <td>{\"description\":\"Let's build a sandcastle! First, fill up your mold with sand! You can use the shovel here. The mold gives the sand its shape!\",\"identifier\":\"Dot_LetsSandcastle,Dot_FillMold,Dot_MoldShape\",\"media_type\":\"audio\",\"total_duration\":6758,\"event_count\":2,\"game_time\":53,\"event_code\":3010}</td>\n",
       "      <td>0001e90f</td>\n",
       "      <td>2</td>\n",
       "      <td>3010</td>\n",
       "      <td>53</td>\n",
       "      <td>Sandcastle Builder (Activity)</td>\n",
       "      <td>Activity</td>\n",
       "      <td>MAGMAPEAK</td>\n",
       "    </tr>\n",
       "    <tr>\n",
       "      <th>4</th>\n",
       "      <td>1bb5fbdb</td>\n",
       "      <td>0848ef14a8dc6892</td>\n",
       "      <td>2019-09-06T17:55:03.253Z</td>\n",
       "      <td>{\"description\":\"Let's build a sandcastle! First, fill up your mold with sand! You can use the shovel here. The mold gives the sand its shape!\",\"identifier\":\"Dot_LetsSandcastle,Dot_FillMold,Dot_MoldShape\",\"media_type\":\"audio\",\"duration\":6919,\"event_count\":3,\"game_time\":6972,\"event_code\":3110}</td>\n",
       "      <td>0001e90f</td>\n",
       "      <td>3</td>\n",
       "      <td>3110</td>\n",
       "      <td>6972</td>\n",
       "      <td>Sandcastle Builder (Activity)</td>\n",
       "      <td>Activity</td>\n",
       "      <td>MAGMAPEAK</td>\n",
       "    </tr>\n",
       "  </tbody>\n",
       "</table>\n",
       "</div>"
      ],
      "text/plain": [
       "   event_id      game_session                 timestamp  \\\n",
       "0  27253bdc  45bb1e1b6b50c07b  2019-09-06T17:53:46.937Z   \n",
       "1  27253bdc  17eeb7f223665f53  2019-09-06T17:54:17.519Z   \n",
       "2  77261ab5  0848ef14a8dc6892  2019-09-06T17:54:56.302Z   \n",
       "3  b2dba42b  0848ef14a8dc6892  2019-09-06T17:54:56.387Z   \n",
       "4  1bb5fbdb  0848ef14a8dc6892  2019-09-06T17:55:03.253Z   \n",
       "\n",
       "                                                                                                                                                                                                                                                                                                 event_data  \\\n",
       "0                                                                                                                                                                                                                                                                    {\"event_code\": 2000, \"event_count\": 1}   \n",
       "1                                                                                                                                                                                                                                                                    {\"event_code\": 2000, \"event_count\": 1}   \n",
       "2                                                                                                                                                                                                                                         {\"version\":\"1.0\",\"event_count\":1,\"game_time\":0,\"event_code\":2000}   \n",
       "3  {\"description\":\"Let's build a sandcastle! First, fill up your mold with sand! You can use the shovel here. The mold gives the sand its shape!\",\"identifier\":\"Dot_LetsSandcastle,Dot_FillMold,Dot_MoldShape\",\"media_type\":\"audio\",\"total_duration\":6758,\"event_count\":2,\"game_time\":53,\"event_code\":3010}   \n",
       "4      {\"description\":\"Let's build a sandcastle! First, fill up your mold with sand! You can use the shovel here. The mold gives the sand its shape!\",\"identifier\":\"Dot_LetsSandcastle,Dot_FillMold,Dot_MoldShape\",\"media_type\":\"audio\",\"duration\":6919,\"event_count\":3,\"game_time\":6972,\"event_code\":3110}   \n",
       "\n",
       "  installation_id  event_count  event_code  game_time  \\\n",
       "0        0001e90f            1        2000          0   \n",
       "1        0001e90f            1        2000          0   \n",
       "2        0001e90f            1        2000          0   \n",
       "3        0001e90f            2        3010         53   \n",
       "4        0001e90f            3        3110       6972   \n",
       "\n",
       "                           title      type      world  \n",
       "0        Welcome to Lost Lagoon!      Clip       NONE  \n",
       "1           Magma Peak - Level 1      Clip  MAGMAPEAK  \n",
       "2  Sandcastle Builder (Activity)  Activity  MAGMAPEAK  \n",
       "3  Sandcastle Builder (Activity)  Activity  MAGMAPEAK  \n",
       "4  Sandcastle Builder (Activity)  Activity  MAGMAPEAK  "
      ]
     },
     "execution_count": 3,
     "metadata": {},
     "output_type": "execute_result"
    }
   ],
   "source": [
    "train.head()"
   ]
  },
  {
   "cell_type": "code",
   "execution_count": 4,
   "metadata": {},
   "outputs": [],
   "source": [
    "# reorder the columns in logical order\n",
    "\n",
    "new_order = ['timestamp', 'installation_id', 'game_session', 'world', 'title', 'game_time', 'event_count', 'type' , 'event_code', 'event_id', 'event_data']\n",
    "train = train.sort_values(['installation_id','timestamp'])\n",
    "\n",
    "train = train.loc[:, new_order]"
   ]
  },
  {
   "cell_type": "markdown",
   "metadata": {},
   "source": [
    "Removing users with no assessments (won't help assessing the user performance):"
   ]
  },
  {
   "cell_type": "code",
   "execution_count": 5,
   "metadata": {},
   "outputs": [
    {
     "data": {
      "text/plain": [
       "4248"
      ]
     },
     "execution_count": 5,
     "metadata": {},
     "output_type": "execute_result"
    }
   ],
   "source": [
    "# according to the description, the event_code for assessments - 4110/4100\n",
    "\n",
    "installation_with_ass = train.loc[(train.event_code==4100) | (train.event_code==4110),'installation_id'].unique()\n",
    "len(installation_with_ass)"
   ]
  },
  {
   "cell_type": "code",
   "execution_count": 6,
   "metadata": {},
   "outputs": [],
   "source": [
    "#  installation ids with assessments\n",
    "\n",
    "inst_with_ass = \\\n",
    "train.loc[(((train.title=='Bird Measurer (Assessment)') & (train.event_code==4110)) |\n",
    "                ((train.title!='Bird Measurer (Assessment)') & (train.event_code==4100))\n",
    "         & (train.type=='Assessment')),'installation_id'].unique()"
   ]
  },
  {
   "cell_type": "code",
   "execution_count": 7,
   "metadata": {},
   "outputs": [],
   "source": [
    "train_with_ass = train.loc[train.installation_id.isin(inst_with_ass)]"
   ]
  },
  {
   "cell_type": "code",
   "execution_count": 8,
   "metadata": {},
   "outputs": [
    {
     "data": {
      "text/html": [
       "<div>\n",
       "<style scoped>\n",
       "    .dataframe tbody tr th:only-of-type {\n",
       "        vertical-align: middle;\n",
       "    }\n",
       "\n",
       "    .dataframe tbody tr th {\n",
       "        vertical-align: top;\n",
       "    }\n",
       "\n",
       "    .dataframe thead th {\n",
       "        text-align: right;\n",
       "    }\n",
       "</style>\n",
       "<table border=\"1\" class=\"dataframe\">\n",
       "  <thead>\n",
       "    <tr style=\"text-align: right;\">\n",
       "      <th></th>\n",
       "      <th>timestamp</th>\n",
       "      <th>installation_id</th>\n",
       "      <th>game_session</th>\n",
       "      <th>world</th>\n",
       "      <th>title</th>\n",
       "      <th>game_time</th>\n",
       "      <th>event_count</th>\n",
       "      <th>type</th>\n",
       "      <th>event_code</th>\n",
       "      <th>event_id</th>\n",
       "      <th>event_data</th>\n",
       "    </tr>\n",
       "  </thead>\n",
       "  <tbody>\n",
       "    <tr>\n",
       "      <th>1538</th>\n",
       "      <td>2019-08-06T04:57:18.904Z</td>\n",
       "      <td>0006a69f</td>\n",
       "      <td>34ba1a28d02ba8ba</td>\n",
       "      <td>NONE</td>\n",
       "      <td>Welcome to Lost Lagoon!</td>\n",
       "      <td>0</td>\n",
       "      <td>1</td>\n",
       "      <td>Clip</td>\n",
       "      <td>2000</td>\n",
       "      <td>27253bdc</td>\n",
       "      <td>{\"event_code\": 2000, \"event_count\": 1}</td>\n",
       "    </tr>\n",
       "    <tr>\n",
       "      <th>1539</th>\n",
       "      <td>2019-08-06T04:57:45.301Z</td>\n",
       "      <td>0006a69f</td>\n",
       "      <td>4b57c9a59474a1b9</td>\n",
       "      <td>MAGMAPEAK</td>\n",
       "      <td>Magma Peak - Level 1</td>\n",
       "      <td>0</td>\n",
       "      <td>1</td>\n",
       "      <td>Clip</td>\n",
       "      <td>2000</td>\n",
       "      <td>27253bdc</td>\n",
       "      <td>{\"event_code\": 2000, \"event_count\": 1}</td>\n",
       "    </tr>\n",
       "    <tr>\n",
       "      <th>1540</th>\n",
       "      <td>2019-08-06T04:58:14.538Z</td>\n",
       "      <td>0006a69f</td>\n",
       "      <td>2b9d5af79bcdb79f</td>\n",
       "      <td>MAGMAPEAK</td>\n",
       "      <td>Sandcastle Builder (Activity)</td>\n",
       "      <td>0</td>\n",
       "      <td>1</td>\n",
       "      <td>Activity</td>\n",
       "      <td>2000</td>\n",
       "      <td>77261ab5</td>\n",
       "      <td>{\"version\":\"1.0\",\"event_count\":1,\"game_time\":0,\"event_code\":2000}</td>\n",
       "    </tr>\n",
       "    <tr>\n",
       "      <th>1541</th>\n",
       "      <td>2019-08-06T04:58:14.615Z</td>\n",
       "      <td>0006a69f</td>\n",
       "      <td>2b9d5af79bcdb79f</td>\n",
       "      <td>MAGMAPEAK</td>\n",
       "      <td>Sandcastle Builder (Activity)</td>\n",
       "      <td>29</td>\n",
       "      <td>2</td>\n",
       "      <td>Activity</td>\n",
       "      <td>3010</td>\n",
       "      <td>b2dba42b</td>\n",
       "      <td>{\"description\":\"Let's build a sandcastle! First, fill up your mold with sand! You can use the shovel here. The mold gives the sand its shape!\",\"identifier\":\"Dot_LetsSandcastle,Dot_FillMold,Dot_MoldShape\",\"media_type\":\"audio\",\"total_duration\":6758,\"event_count\":2,\"game_time\":29,\"event_code\":3010}</td>\n",
       "    </tr>\n",
       "    <tr>\n",
       "      <th>1542</th>\n",
       "      <td>2019-08-06T04:58:16.680Z</td>\n",
       "      <td>0006a69f</td>\n",
       "      <td>2b9d5af79bcdb79f</td>\n",
       "      <td>MAGMAPEAK</td>\n",
       "      <td>Sandcastle Builder (Activity)</td>\n",
       "      <td>2137</td>\n",
       "      <td>3</td>\n",
       "      <td>Activity</td>\n",
       "      <td>4070</td>\n",
       "      <td>1325467d</td>\n",
       "      <td>{\"coordinates\":{\"x\":273,\"y\":650,\"stage_width\":1015,\"stage_height\":762},\"event_count\":3,\"game_time\":2137,\"event_code\":4070}</td>\n",
       "    </tr>\n",
       "  </tbody>\n",
       "</table>\n",
       "</div>"
      ],
      "text/plain": [
       "                     timestamp installation_id      game_session      world  \\\n",
       "1538  2019-08-06T04:57:18.904Z        0006a69f  34ba1a28d02ba8ba       NONE   \n",
       "1539  2019-08-06T04:57:45.301Z        0006a69f  4b57c9a59474a1b9  MAGMAPEAK   \n",
       "1540  2019-08-06T04:58:14.538Z        0006a69f  2b9d5af79bcdb79f  MAGMAPEAK   \n",
       "1541  2019-08-06T04:58:14.615Z        0006a69f  2b9d5af79bcdb79f  MAGMAPEAK   \n",
       "1542  2019-08-06T04:58:16.680Z        0006a69f  2b9d5af79bcdb79f  MAGMAPEAK   \n",
       "\n",
       "                              title  game_time  event_count      type  \\\n",
       "1538        Welcome to Lost Lagoon!          0            1      Clip   \n",
       "1539           Magma Peak - Level 1          0            1      Clip   \n",
       "1540  Sandcastle Builder (Activity)          0            1  Activity   \n",
       "1541  Sandcastle Builder (Activity)         29            2  Activity   \n",
       "1542  Sandcastle Builder (Activity)       2137            3  Activity   \n",
       "\n",
       "      event_code  event_id  \\\n",
       "1538        2000  27253bdc   \n",
       "1539        2000  27253bdc   \n",
       "1540        2000  77261ab5   \n",
       "1541        3010  b2dba42b   \n",
       "1542        4070  1325467d   \n",
       "\n",
       "                                                                                                                                                                                                                                                                                                    event_data  \n",
       "1538                                                                                                                                                                                                                                                                    {\"event_code\": 2000, \"event_count\": 1}  \n",
       "1539                                                                                                                                                                                                                                                                    {\"event_code\": 2000, \"event_count\": 1}  \n",
       "1540                                                                                                                                                                                                                                         {\"version\":\"1.0\",\"event_count\":1,\"game_time\":0,\"event_code\":2000}  \n",
       "1541  {\"description\":\"Let's build a sandcastle! First, fill up your mold with sand! You can use the shovel here. The mold gives the sand its shape!\",\"identifier\":\"Dot_LetsSandcastle,Dot_FillMold,Dot_MoldShape\",\"media_type\":\"audio\",\"total_duration\":6758,\"event_count\":2,\"game_time\":29,\"event_code\":3010}  \n",
       "1542                                                                                                                                                                                {\"coordinates\":{\"x\":273,\"y\":650,\"stage_width\":1015,\"stage_height\":762},\"event_count\":3,\"game_time\":2137,\"event_code\":4070}  "
      ]
     },
     "execution_count": 8,
     "metadata": {},
     "output_type": "execute_result"
    }
   ],
   "source": [
    "train_with_ass.head()"
   ]
  },
  {
   "cell_type": "code",
   "execution_count": 9,
   "metadata": {},
   "outputs": [
    {
     "name": "stdout",
     "output_type": "stream",
     "text": [
      "<class 'pandas.core.frame.DataFrame'>\n",
      "Int64Index: 7734558 entries, 1538 to 11337825\n",
      "Data columns (total 11 columns):\n",
      "timestamp          object\n",
      "installation_id    object\n",
      "game_session       object\n",
      "world              object\n",
      "title              object\n",
      "game_time          int64\n",
      "event_count        int64\n",
      "type               object\n",
      "event_code         int64\n",
      "event_id           object\n",
      "event_data         object\n",
      "dtypes: int64(3), object(8)\n",
      "memory usage: 708.1+ MB\n"
     ]
    }
   ],
   "source": [
    "train_with_ass.info()"
   ]
  },
  {
   "cell_type": "code",
   "execution_count": 10,
   "metadata": {},
   "outputs": [],
   "source": [
    "# converting to datetime format \n",
    "\n",
    "train_with_ass.timestamp = pd.to_datetime(train_with_ass.timestamp)\n",
    "train_with_ass['date'] = train_with_ass.timestamp.dt.date\n",
    "train_with_ass['time'] = train_with_ass.timestamp.dt.time"
   ]
  },
  {
   "cell_type": "code",
   "execution_count": 11,
   "metadata": {},
   "outputs": [
    {
     "name": "stdout",
     "output_type": "stream",
     "text": [
      "(11341042, 11)\n"
     ]
    },
    {
     "data": {
      "text/plain": [
       "(7734558, 13)"
      ]
     },
     "execution_count": 11,
     "metadata": {},
     "output_type": "execute_result"
    }
   ],
   "source": [
    "# size of new dataset\n",
    "\n",
    "print(train.shape)\n",
    "train_with_ass.shape"
   ]
  },
  {
   "cell_type": "markdown",
   "metadata": {},
   "source": [
    "#### For ram saving reasons...\n",
    "del train\n",
    "gc.collect()"
   ]
  },
  {
   "cell_type": "code",
   "execution_count": 12,
   "metadata": {},
   "outputs": [
    {
     "data": {
      "text/plain": [
       "3614"
      ]
     },
     "execution_count": 12,
     "metadata": {},
     "output_type": "execute_result"
    }
   ],
   "source": [
    "# total users in dataset\n",
    "\n",
    "train_with_ass.installation_id.nunique()"
   ]
  },
  {
   "cell_type": "code",
   "execution_count": 13,
   "metadata": {},
   "outputs": [
    {
     "data": {
      "image/png": "[encoded data removed]",
      "text/plain": [
       "<Figure size 720x432 with 1 Axes>"
      ]
     },
     "metadata": {
      "needs_background": "light"
     },
     "output_type": "display_data"
    }
   ],
   "source": [
    "plt.figure(figsize=(10,6))\n",
    "game_sessions = train_with_ass.groupby('installation_id')['game_session'].nunique().value_counts()\n",
    "game_sessions.iloc[:30].plot(kind='bar')\n",
    "plt.title('game sessions per user')\n",
    "plt.show()"
   ]
  },
  {
   "cell_type": "markdown",
   "metadata": {},
   "source": [
    "**210 users have less the 20 game sessions**"
   ]
  },
  {
   "cell_type": "code",
   "execution_count": 14,
   "metadata": {},
   "outputs": [
    {
     "data": {
      "text/plain": [
       "210"
      ]
     },
     "execution_count": 14,
     "metadata": {},
     "output_type": "execute_result"
    }
   ],
   "source": [
    "game_sessions.loc[game_sessions<20].count()"
   ]
  },
  {
   "cell_type": "code",
   "execution_count": 15,
   "metadata": {},
   "outputs": [
    {
     "data": {
      "text/plain": [
       "58988"
      ]
     },
     "execution_count": 15,
     "metadata": {},
     "output_type": "execute_result"
    }
   ],
   "source": [
    "train_with_ass.groupby('installation_id')['game_session'].count().max()"
   ]
  },
  {
   "cell_type": "code",
   "execution_count": 16,
   "metadata": {},
   "outputs": [
    {
     "data": {
      "image/png": "[encoded data removed]",
      "text/plain": [
       "<Figure size 432x288 with 1 Axes>"
      ]
     },
     "metadata": {
      "needs_background": "light"
     },
     "output_type": "display_data"
    }
   ],
   "source": [
    "train_with_ass.groupby('installation_id')['game_session'].count().hist(bins=100)\n",
    "plt.title('game session hist')\n",
    "plt.show()"
   ]
  },
  {
   "cell_type": "markdown",
   "metadata": {},
   "source": [
    "The data is highly right skewed. Most users had only few game sessions.\n",
    "\n",
    "**I'll later divide the data to novice and advanced users.**\n",
    "- novice = users with only one assessment completed\n",
    "- advanced = users with more than one assessment completed"
   ]
  },
  {
   "cell_type": "code",
   "execution_count": 17,
   "metadata": {},
   "outputs": [
    {
     "data": {
      "image/png": "[encoded data removed]",
      "text/plain": [
       "<Figure size 432x288 with 1 Axes>"
      ]
     },
     "metadata": {
      "needs_background": "light"
     },
     "output_type": "display_data"
    }
   ],
   "source": [
    "(train_with_ass\n",
    " .groupby('world')['game_session'].count()\n",
    " .sort_values(ascending=False)\n",
    " .plot(kind='barh', title='game session per world')\n",
    ")\n",
    "plt.show()"
   ]
  },
  {
   "cell_type": "markdown",
   "metadata": {},
   "source": [
    "`MAGMAPEAK` is the most popular world. \n",
    "\n",
    "There's some game session with `NONE` world. I'll take a look at these rows."
   ]
  },
  {
   "cell_type": "code",
   "execution_count": 18,
   "metadata": {},
   "outputs": [
    {
     "name": "stdout",
     "output_type": "stream",
     "text": [
      "6938\n"
     ]
    },
    {
     "data": {
      "text/html": [
       "<div>\n",
       "<style scoped>\n",
       "    .dataframe tbody tr th:only-of-type {\n",
       "        vertical-align: middle;\n",
       "    }\n",
       "\n",
       "    .dataframe tbody tr th {\n",
       "        vertical-align: top;\n",
       "    }\n",
       "\n",
       "    .dataframe thead th {\n",
       "        text-align: right;\n",
       "    }\n",
       "</style>\n",
       "<table border=\"1\" class=\"dataframe\">\n",
       "  <thead>\n",
       "    <tr style=\"text-align: right;\">\n",
       "      <th></th>\n",
       "      <th>timestamp</th>\n",
       "      <th>installation_id</th>\n",
       "      <th>game_session</th>\n",
       "      <th>world</th>\n",
       "      <th>title</th>\n",
       "      <th>game_time</th>\n",
       "      <th>event_count</th>\n",
       "      <th>type</th>\n",
       "      <th>event_code</th>\n",
       "      <th>event_id</th>\n",
       "      <th>event_data</th>\n",
       "      <th>date</th>\n",
       "      <th>time</th>\n",
       "    </tr>\n",
       "  </thead>\n",
       "  <tbody>\n",
       "    <tr>\n",
       "      <th>1538</th>\n",
       "      <td>2019-08-06 04:57:18.904000+00:00</td>\n",
       "      <td>0006a69f</td>\n",
       "      <td>34ba1a28d02ba8ba</td>\n",
       "      <td>NONE</td>\n",
       "      <td>Welcome to Lost Lagoon!</td>\n",
       "      <td>0</td>\n",
       "      <td>1</td>\n",
       "      <td>Clip</td>\n",
       "      <td>2000</td>\n",
       "      <td>27253bdc</td>\n",
       "      <td>{\"event_code\": 2000, \"event_count\": 1}</td>\n",
       "      <td>2019-08-06</td>\n",
       "      <td>04:57:18.904000</td>\n",
       "    </tr>\n",
       "    <tr>\n",
       "      <th>1774</th>\n",
       "      <td>2019-08-06 05:07:03.331000+00:00</td>\n",
       "      <td>0006a69f</td>\n",
       "      <td>4d566eabbefd780d</td>\n",
       "      <td>NONE</td>\n",
       "      <td>Welcome to Lost Lagoon!</td>\n",
       "      <td>0</td>\n",
       "      <td>1</td>\n",
       "      <td>Clip</td>\n",
       "      <td>2000</td>\n",
       "      <td>27253bdc</td>\n",
       "      <td>{\"event_code\": 2000, \"event_count\": 1}</td>\n",
       "      <td>2019-08-06</td>\n",
       "      <td>05:07:03.331000</td>\n",
       "    </tr>\n",
       "    <tr>\n",
       "      <th>3296</th>\n",
       "      <td>2019-08-06 17:42:59.589000+00:00</td>\n",
       "      <td>0006a69f</td>\n",
       "      <td>3b0a3935246e2b78</td>\n",
       "      <td>NONE</td>\n",
       "      <td>Welcome to Lost Lagoon!</td>\n",
       "      <td>0</td>\n",
       "      <td>1</td>\n",
       "      <td>Clip</td>\n",
       "      <td>2000</td>\n",
       "      <td>27253bdc</td>\n",
       "      <td>{\"event_code\": 2000, \"event_count\": 1}</td>\n",
       "      <td>2019-08-06</td>\n",
       "      <td>17:42:59.589000</td>\n",
       "    </tr>\n",
       "    <tr>\n",
       "      <th>4257</th>\n",
       "      <td>2019-08-09 18:21:26.440000+00:00</td>\n",
       "      <td>0006a69f</td>\n",
       "      <td>63909c20b822ffcc</td>\n",
       "      <td>NONE</td>\n",
       "      <td>Welcome to Lost Lagoon!</td>\n",
       "      <td>0</td>\n",
       "      <td>1</td>\n",
       "      <td>Clip</td>\n",
       "      <td>2000</td>\n",
       "      <td>27253bdc</td>\n",
       "      <td>{\"event_code\": 2000, \"event_count\": 1}</td>\n",
       "      <td>2019-08-09</td>\n",
       "      <td>18:21:26.440000</td>\n",
       "    </tr>\n",
       "    <tr>\n",
       "      <th>5339</th>\n",
       "      <td>2019-09-13 00:30:24.242000+00:00</td>\n",
       "      <td>0006c192</td>\n",
       "      <td>3e3ac29e618b6f0a</td>\n",
       "      <td>NONE</td>\n",
       "      <td>Welcome to Lost Lagoon!</td>\n",
       "      <td>0</td>\n",
       "      <td>1</td>\n",
       "      <td>Clip</td>\n",
       "      <td>2000</td>\n",
       "      <td>27253bdc</td>\n",
       "      <td>{\"event_code\": 2000, \"event_count\": 1}</td>\n",
       "      <td>2019-09-13</td>\n",
       "      <td>00:30:24.242000</td>\n",
       "    </tr>\n",
       "    <tr>\n",
       "      <th>5560</th>\n",
       "      <td>2019-09-14 00:01:01.270000+00:00</td>\n",
       "      <td>0006c192</td>\n",
       "      <td>6983be6646598935</td>\n",
       "      <td>NONE</td>\n",
       "      <td>Welcome to Lost Lagoon!</td>\n",
       "      <td>0</td>\n",
       "      <td>1</td>\n",
       "      <td>Clip</td>\n",
       "      <td>2000</td>\n",
       "      <td>27253bdc</td>\n",
       "      <td>{\"event_code\": 2000, \"event_count\": 1}</td>\n",
       "      <td>2019-09-14</td>\n",
       "      <td>00:01:01.270000</td>\n",
       "    </tr>\n",
       "    <tr>\n",
       "      <th>5562</th>\n",
       "      <td>2019-09-14 15:04:34.845000+00:00</td>\n",
       "      <td>0006c192</td>\n",
       "      <td>a9fbd6119581ac51</td>\n",
       "      <td>NONE</td>\n",
       "      <td>Welcome to Lost Lagoon!</td>\n",
       "      <td>0</td>\n",
       "      <td>1</td>\n",
       "      <td>Clip</td>\n",
       "      <td>2000</td>\n",
       "      <td>27253bdc</td>\n",
       "      <td>{\"event_code\": 2000, \"event_count\": 1}</td>\n",
       "      <td>2019-09-14</td>\n",
       "      <td>15:04:34.845000</td>\n",
       "    </tr>\n",
       "    <tr>\n",
       "      <th>6913</th>\n",
       "      <td>2019-09-20 13:04:42.601000+00:00</td>\n",
       "      <td>0006c192</td>\n",
       "      <td>246cb8a7316554a7</td>\n",
       "      <td>NONE</td>\n",
       "      <td>Welcome to Lost Lagoon!</td>\n",
       "      <td>0</td>\n",
       "      <td>1</td>\n",
       "      <td>Clip</td>\n",
       "      <td>2000</td>\n",
       "      <td>27253bdc</td>\n",
       "      <td>{\"event_code\": 2000, \"event_count\": 1}</td>\n",
       "      <td>2019-09-20</td>\n",
       "      <td>13:04:42.601000</td>\n",
       "    </tr>\n",
       "    <tr>\n",
       "      <th>10063</th>\n",
       "      <td>2019-09-05 13:52:48.101000+00:00</td>\n",
       "      <td>001d0ed0</td>\n",
       "      <td>07dce61ec6fd52ac</td>\n",
       "      <td>NONE</td>\n",
       "      <td>Welcome to Lost Lagoon!</td>\n",
       "      <td>0</td>\n",
       "      <td>1</td>\n",
       "      <td>Clip</td>\n",
       "      <td>2000</td>\n",
       "      <td>27253bdc</td>\n",
       "      <td>{\"event_code\": 2000, \"event_count\": 1}</td>\n",
       "      <td>2019-09-05</td>\n",
       "      <td>13:52:48.101000</td>\n",
       "    </tr>\n",
       "    <tr>\n",
       "      <th>11103</th>\n",
       "      <td>2019-10-05 23:48:27.823000+00:00</td>\n",
       "      <td>00225f67</td>\n",
       "      <td>fe34349639799cd6</td>\n",
       "      <td>NONE</td>\n",
       "      <td>Welcome to Lost Lagoon!</td>\n",
       "      <td>0</td>\n",
       "      <td>1</td>\n",
       "      <td>Clip</td>\n",
       "      <td>2000</td>\n",
       "      <td>27253bdc</td>\n",
       "      <td>{\"event_code\": 2000, \"event_count\": 1}</td>\n",
       "      <td>2019-10-05</td>\n",
       "      <td>23:48:27.823000</td>\n",
       "    </tr>\n",
       "  </tbody>\n",
       "</table>\n",
       "</div>"
      ],
      "text/plain": [
       "                             timestamp installation_id      game_session  \\\n",
       "1538  2019-08-06 04:57:18.904000+00:00        0006a69f  34ba1a28d02ba8ba   \n",
       "1774  2019-08-06 05:07:03.331000+00:00        0006a69f  4d566eabbefd780d   \n",
       "3296  2019-08-06 17:42:59.589000+00:00        0006a69f  3b0a3935246e2b78   \n",
       "4257  2019-08-09 18:21:26.440000+00:00        0006a69f  63909c20b822ffcc   \n",
       "5339  2019-09-13 00:30:24.242000+00:00        0006c192  3e3ac29e618b6f0a   \n",
       "5560  2019-09-14 00:01:01.270000+00:00        0006c192  6983be6646598935   \n",
       "5562  2019-09-14 15:04:34.845000+00:00        0006c192  a9fbd6119581ac51   \n",
       "6913  2019-09-20 13:04:42.601000+00:00        0006c192  246cb8a7316554a7   \n",
       "10063 2019-09-05 13:52:48.101000+00:00        001d0ed0  07dce61ec6fd52ac   \n",
       "11103 2019-10-05 23:48:27.823000+00:00        00225f67  fe34349639799cd6   \n",
       "\n",
       "      world                    title  game_time  event_count  type  \\\n",
       "1538   NONE  Welcome to Lost Lagoon!          0            1  Clip   \n",
       "1774   NONE  Welcome to Lost Lagoon!          0            1  Clip   \n",
       "3296   NONE  Welcome to Lost Lagoon!          0            1  Clip   \n",
       "4257   NONE  Welcome to Lost Lagoon!          0            1  Clip   \n",
       "5339   NONE  Welcome to Lost Lagoon!          0            1  Clip   \n",
       "5560   NONE  Welcome to Lost Lagoon!          0            1  Clip   \n",
       "5562   NONE  Welcome to Lost Lagoon!          0            1  Clip   \n",
       "6913   NONE  Welcome to Lost Lagoon!          0            1  Clip   \n",
       "10063  NONE  Welcome to Lost Lagoon!          0            1  Clip   \n",
       "11103  NONE  Welcome to Lost Lagoon!          0            1  Clip   \n",
       "\n",
       "       event_code  event_id                              event_data  \\\n",
       "1538         2000  27253bdc  {\"event_code\": 2000, \"event_count\": 1}   \n",
       "1774         2000  27253bdc  {\"event_code\": 2000, \"event_count\": 1}   \n",
       "3296         2000  27253bdc  {\"event_code\": 2000, \"event_count\": 1}   \n",
       "4257         2000  27253bdc  {\"event_code\": 2000, \"event_count\": 1}   \n",
       "5339         2000  27253bdc  {\"event_code\": 2000, \"event_count\": 1}   \n",
       "5560         2000  27253bdc  {\"event_code\": 2000, \"event_count\": 1}   \n",
       "5562         2000  27253bdc  {\"event_code\": 2000, \"event_count\": 1}   \n",
       "6913         2000  27253bdc  {\"event_code\": 2000, \"event_count\": 1}   \n",
       "10063        2000  27253bdc  {\"event_code\": 2000, \"event_count\": 1}   \n",
       "11103        2000  27253bdc  {\"event_code\": 2000, \"event_count\": 1}   \n",
       "\n",
       "             date             time  \n",
       "1538   2019-08-06  04:57:18.904000  \n",
       "1774   2019-08-06  05:07:03.331000  \n",
       "3296   2019-08-06  17:42:59.589000  \n",
       "4257   2019-08-09  18:21:26.440000  \n",
       "5339   2019-09-13  00:30:24.242000  \n",
       "5560   2019-09-14  00:01:01.270000  \n",
       "5562   2019-09-14  15:04:34.845000  \n",
       "6913   2019-09-20  13:04:42.601000  \n",
       "10063  2019-09-05  13:52:48.101000  \n",
       "11103  2019-10-05  23:48:27.823000  "
      ]
     },
     "execution_count": 18,
     "metadata": {},
     "output_type": "execute_result"
    }
   ],
   "source": [
    "print(train_with_ass.query(\"world=='NONE'\").shape[0])\n",
    "train_with_ass.query(\"world=='NONE'\").head(10)"
   ]
  },
  {
   "cell_type": "code",
   "execution_count": 19,
   "metadata": {},
   "outputs": [
    {
     "data": {
      "text/plain": [
       "True"
      ]
     },
     "execution_count": 19,
     "metadata": {},
     "output_type": "execute_result"
    }
   ],
   "source": [
    "(train_with_ass.query(\"world=='NONE'\").event_code==2000).all()"
   ]
  },
  {
   "cell_type": "markdown",
   "metadata": {},
   "source": [
    "`NONE` world represent initial game window with a clip and `even_code` of 2000. I'll keep it as is."
   ]
  },
  {
   "cell_type": "code",
   "execution_count": 20,
   "metadata": {},
   "outputs": [
    {
     "data": {
      "image/png": "[encoded data removed]",
      "text/plain": [
       "<Figure size 1080x432 with 1 Axes>"
      ]
     },
     "metadata": {
      "needs_background": "light"
     },
     "output_type": "display_data"
    }
   ],
   "source": [
    "(train_with_ass\n",
    " .groupby('date')['installation_id'].nunique()\n",
    " .plot(kind='line', c='darkred',title='total users each day used the app', figsize=(15,6))\n",
    ")\n",
    "plt.show()"
   ]
  },
  {
   "cell_type": "markdown",
   "metadata": {},
   "source": [
    "In general, There's an increasing use in the app. Some local (trend) decreases were detected, probably because of weekends."
   ]
  },
  {
   "cell_type": "markdown",
   "metadata": {},
   "source": [
    "## New Feature - Success\\Failed in Assessment"
   ]
  },
  {
   "cell_type": "code",
   "execution_count": 21,
   "metadata": {},
   "outputs": [],
   "source": [
    "ass_codes = (((train_with_ass.title=='Bird Measurer (Assessment)') & (train_with_ass.event_code==4110)) |\n",
    "                ((train_with_ass.title!='Bird Measurer (Assessment)') & (train_with_ass.event_code==4100) & \n",
    "                 (train_with_ass.type=='Assessment')))"
   ]
  },
  {
   "cell_type": "code",
   "execution_count": 22,
   "metadata": {},
   "outputs": [
    {
     "data": {
      "text/plain": [
       "(41549, 13)"
      ]
     },
     "execution_count": 22,
     "metadata": {},
     "output_type": "execute_result"
    }
   ],
   "source": [
    "# total ass. events to train on:\n",
    "train_with_ass.loc[ass_codes].shape"
   ]
  },
  {
   "cell_type": "markdown",
   "metadata": {},
   "source": [
    "**Extracting the success\\failed attribute from `event_data` columns:** "
   ]
  },
  {
   "cell_type": "code",
   "execution_count": 23,
   "metadata": {},
   "outputs": [
    {
     "data": {
      "text/html": [
       "<div>\n",
       "<style scoped>\n",
       "    .dataframe tbody tr th:only-of-type {\n",
       "        vertical-align: middle;\n",
       "    }\n",
       "\n",
       "    .dataframe tbody tr th {\n",
       "        vertical-align: top;\n",
       "    }\n",
       "\n",
       "    .dataframe thead th {\n",
       "        text-align: right;\n",
       "    }\n",
       "</style>\n",
       "<table border=\"1\" class=\"dataframe\">\n",
       "  <thead>\n",
       "    <tr style=\"text-align: right;\">\n",
       "      <th></th>\n",
       "      <th>timestamp</th>\n",
       "      <th>installation_id</th>\n",
       "      <th>game_session</th>\n",
       "      <th>world</th>\n",
       "      <th>title</th>\n",
       "      <th>game_time</th>\n",
       "      <th>event_count</th>\n",
       "      <th>type</th>\n",
       "      <th>event_code</th>\n",
       "      <th>event_id</th>\n",
       "      <th>event_data</th>\n",
       "      <th>date</th>\n",
       "      <th>time</th>\n",
       "    </tr>\n",
       "  </thead>\n",
       "  <tbody>\n",
       "    <tr>\n",
       "      <th>1538</th>\n",
       "      <td>2019-08-06 04:57:18.904000+00:00</td>\n",
       "      <td>0006a69f</td>\n",
       "      <td>34ba1a28d02ba8ba</td>\n",
       "      <td>NONE</td>\n",
       "      <td>Welcome to Lost Lagoon!</td>\n",
       "      <td>0</td>\n",
       "      <td>1</td>\n",
       "      <td>Clip</td>\n",
       "      <td>2000</td>\n",
       "      <td>27253bdc</td>\n",
       "      <td>{\"event_code\": 2000, \"event_count\": 1}</td>\n",
       "      <td>2019-08-06</td>\n",
       "      <td>04:57:18.904000</td>\n",
       "    </tr>\n",
       "    <tr>\n",
       "      <th>1539</th>\n",
       "      <td>2019-08-06 04:57:45.301000+00:00</td>\n",
       "      <td>0006a69f</td>\n",
       "      <td>4b57c9a59474a1b9</td>\n",
       "      <td>MAGMAPEAK</td>\n",
       "      <td>Magma Peak - Level 1</td>\n",
       "      <td>0</td>\n",
       "      <td>1</td>\n",
       "      <td>Clip</td>\n",
       "      <td>2000</td>\n",
       "      <td>27253bdc</td>\n",
       "      <td>{\"event_code\": 2000, \"event_count\": 1}</td>\n",
       "      <td>2019-08-06</td>\n",
       "      <td>04:57:45.301000</td>\n",
       "    </tr>\n",
       "  </tbody>\n",
       "</table>\n",
       "</div>"
      ],
      "text/plain": [
       "                            timestamp installation_id      game_session  \\\n",
       "1538 2019-08-06 04:57:18.904000+00:00        0006a69f  34ba1a28d02ba8ba   \n",
       "1539 2019-08-06 04:57:45.301000+00:00        0006a69f  4b57c9a59474a1b9   \n",
       "\n",
       "          world                    title  game_time  event_count  type  \\\n",
       "1538       NONE  Welcome to Lost Lagoon!          0            1  Clip   \n",
       "1539  MAGMAPEAK     Magma Peak - Level 1          0            1  Clip   \n",
       "\n",
       "      event_code  event_id                              event_data  \\\n",
       "1538        2000  27253bdc  {\"event_code\": 2000, \"event_count\": 1}   \n",
       "1539        2000  27253bdc  {\"event_code\": 2000, \"event_count\": 1}   \n",
       "\n",
       "            date             time  \n",
       "1538  2019-08-06  04:57:18.904000  \n",
       "1539  2019-08-06  04:57:45.301000  "
      ]
     },
     "execution_count": 23,
     "metadata": {},
     "output_type": "execute_result"
    }
   ],
   "source": [
    "train_with_ass.head(2)"
   ]
  },
  {
   "cell_type": "code",
   "execution_count": 24,
   "metadata": {},
   "outputs": [],
   "source": [
    "event_data = train_with_ass.loc[(((train_with_ass.title=='Bird Measurer (Assessment)') & (train_with_ass.event_code==4110)) |\n",
    "                ((train_with_ass.title!='Bird Measurer (Assessment)') & (train_with_ass.event_code==4100) & \n",
    "                 (train_with_ass.type=='Assessment'))),'event_data'].apply(lambda s: json.loads(s))"
   ]
  },
  {
   "cell_type": "code",
   "execution_count": 25,
   "metadata": {},
   "outputs": [
    {
     "data": {
      "text/html": [
       "<div>\n",
       "<style scoped>\n",
       "    .dataframe tbody tr th:only-of-type {\n",
       "        vertical-align: middle;\n",
       "    }\n",
       "\n",
       "    .dataframe tbody tr th {\n",
       "        vertical-align: top;\n",
       "    }\n",
       "\n",
       "    .dataframe thead th {\n",
       "        text-align: right;\n",
       "    }\n",
       "</style>\n",
       "<table border=\"1\" class=\"dataframe\">\n",
       "  <thead>\n",
       "    <tr style=\"text-align: right;\">\n",
       "      <th></th>\n",
       "      <th>correct</th>\n",
       "    </tr>\n",
       "    <tr>\n",
       "      <th>index</th>\n",
       "      <th></th>\n",
       "    </tr>\n",
       "  </thead>\n",
       "  <tbody>\n",
       "    <tr>\n",
       "      <th>2228</th>\n",
       "      <td>True</td>\n",
       "    </tr>\n",
       "    <tr>\n",
       "      <th>2709</th>\n",
       "      <td>False</td>\n",
       "    </tr>\n",
       "    <tr>\n",
       "      <th>2715</th>\n",
       "      <td>False</td>\n",
       "    </tr>\n",
       "    <tr>\n",
       "      <th>2720</th>\n",
       "      <td>False</td>\n",
       "    </tr>\n",
       "    <tr>\n",
       "      <th>2725</th>\n",
       "      <td>False</td>\n",
       "    </tr>\n",
       "  </tbody>\n",
       "</table>\n",
       "</div>"
      ],
      "text/plain": [
       "       correct\n",
       "index         \n",
       "2228      True\n",
       "2709     False\n",
       "2715     False\n",
       "2720     False\n",
       "2725     False"
      ]
     },
     "execution_count": 25,
     "metadata": {},
     "output_type": "execute_result"
    }
   ],
   "source": [
    "event_data.reset_index().join(pd.io.json.json_normalize(event_data).correct).set_index('index').drop(columns='event_data').head()"
   ]
  },
  {
   "cell_type": "code",
   "execution_count": 26,
   "metadata": {},
   "outputs": [],
   "source": [
    "#  adding the new col as a feature in the main df\n",
    "\n",
    "train_with_ass = train_with_ass.join(event_data.reset_index().join(pd.io.json.json_normalize(event_data).correct).set_index('index').drop(columns='event_data'))"
   ]
  },
  {
   "cell_type": "code",
   "execution_count": 27,
   "metadata": {},
   "outputs": [],
   "source": [
    "# I won't be using event_data col anymore so I'll drop it\n",
    "\n",
    "train_with_ass.drop(columns='event_data', inplace=True)"
   ]
  },
  {
   "cell_type": "markdown",
   "metadata": {},
   "source": [
    "## Exploring Users Behavior:"
   ]
  },
  {
   "cell_type": "code",
   "execution_count": 28,
   "metadata": {},
   "outputs": [
    {
     "data": {
      "text/html": [
       "<div>\n",
       "<style scoped>\n",
       "    .dataframe tbody tr th:only-of-type {\n",
       "        vertical-align: middle;\n",
       "    }\n",
       "\n",
       "    .dataframe tbody tr th {\n",
       "        vertical-align: top;\n",
       "    }\n",
       "\n",
       "    .dataframe thead th {\n",
       "        text-align: right;\n",
       "    }\n",
       "</style>\n",
       "<table border=\"1\" class=\"dataframe\">\n",
       "  <thead>\n",
       "    <tr style=\"text-align: right;\">\n",
       "      <th></th>\n",
       "      <th>timestamp</th>\n",
       "      <th>installation_id</th>\n",
       "      <th>game_session</th>\n",
       "      <th>world</th>\n",
       "      <th>title</th>\n",
       "      <th>game_time</th>\n",
       "      <th>event_count</th>\n",
       "      <th>type</th>\n",
       "      <th>event_code</th>\n",
       "      <th>event_id</th>\n",
       "      <th>date</th>\n",
       "      <th>time</th>\n",
       "      <th>correct</th>\n",
       "    </tr>\n",
       "  </thead>\n",
       "  <tbody>\n",
       "    <tr>\n",
       "      <th>11042975</th>\n",
       "      <td>2019-07-24 14:59:45.428000+00:00</td>\n",
       "      <td>f90e8b6e</td>\n",
       "      <td>fa60dc6361ab2725</td>\n",
       "      <td>TREETOPCITY</td>\n",
       "      <td>Mushroom Sorter (Assessment)</td>\n",
       "      <td>44056</td>\n",
       "      <td>82</td>\n",
       "      <td>Assessment</td>\n",
       "      <td>4100</td>\n",
       "      <td>25fa8af4</td>\n",
       "      <td>2019-07-24</td>\n",
       "      <td>14:59:45.428000</td>\n",
       "      <td>False</td>\n",
       "    </tr>\n",
       "    <tr>\n",
       "      <th>11043016</th>\n",
       "      <td>2019-07-24 15:00:37.407000+00:00</td>\n",
       "      <td>f90e8b6e</td>\n",
       "      <td>fa60dc6361ab2725</td>\n",
       "      <td>TREETOPCITY</td>\n",
       "      <td>Mushroom Sorter (Assessment)</td>\n",
       "      <td>96043</td>\n",
       "      <td>123</td>\n",
       "      <td>Assessment</td>\n",
       "      <td>4100</td>\n",
       "      <td>25fa8af4</td>\n",
       "      <td>2019-07-24</td>\n",
       "      <td>15:00:37.407000</td>\n",
       "      <td>False</td>\n",
       "    </tr>\n",
       "    <tr>\n",
       "      <th>11043067</th>\n",
       "      <td>2019-07-24 15:02:47.036000+00:00</td>\n",
       "      <td>f90e8b6e</td>\n",
       "      <td>fa60dc6361ab2725</td>\n",
       "      <td>TREETOPCITY</td>\n",
       "      <td>Mushroom Sorter (Assessment)</td>\n",
       "      <td>225669</td>\n",
       "      <td>174</td>\n",
       "      <td>Assessment</td>\n",
       "      <td>4100</td>\n",
       "      <td>25fa8af4</td>\n",
       "      <td>2019-07-24</td>\n",
       "      <td>15:02:47.036000</td>\n",
       "      <td>True</td>\n",
       "    </tr>\n",
       "    <tr>\n",
       "      <th>11043175</th>\n",
       "      <td>2019-07-25 14:48:52.676000+00:00</td>\n",
       "      <td>f90e8b6e</td>\n",
       "      <td>b3d7158e45f615fe</td>\n",
       "      <td>TREETOPCITY</td>\n",
       "      <td>Mushroom Sorter (Assessment)</td>\n",
       "      <td>3420696</td>\n",
       "      <td>50</td>\n",
       "      <td>Assessment</td>\n",
       "      <td>4100</td>\n",
       "      <td>25fa8af4</td>\n",
       "      <td>2019-07-25</td>\n",
       "      <td>14:48:52.676000</td>\n",
       "      <td>True</td>\n",
       "    </tr>\n",
       "    <tr>\n",
       "      <th>11044455</th>\n",
       "      <td>2019-07-25 15:57:41.568000+00:00</td>\n",
       "      <td>f90e8b6e</td>\n",
       "      <td>b91447a995bc067d</td>\n",
       "      <td>CRYSTALCAVES</td>\n",
       "      <td>Cart Balancer (Assessment)</td>\n",
       "      <td>12287</td>\n",
       "      <td>17</td>\n",
       "      <td>Assessment</td>\n",
       "      <td>4100</td>\n",
       "      <td>d122731b</td>\n",
       "      <td>2019-07-25</td>\n",
       "      <td>15:57:41.568000</td>\n",
       "      <td>False</td>\n",
       "    </tr>\n",
       "    <tr>\n",
       "      <th>11045020</th>\n",
       "      <td>2019-07-25 20:24:19.532000+00:00</td>\n",
       "      <td>f90e8b6e</td>\n",
       "      <td>3e9dc42c1558ca6e</td>\n",
       "      <td>CRYSTALCAVES</td>\n",
       "      <td>Chest Sorter (Assessment)</td>\n",
       "      <td>44210</td>\n",
       "      <td>57</td>\n",
       "      <td>Assessment</td>\n",
       "      <td>4100</td>\n",
       "      <td>93b353f2</td>\n",
       "      <td>2019-07-25</td>\n",
       "      <td>20:24:19.532000</td>\n",
       "      <td>False</td>\n",
       "    </tr>\n",
       "    <tr>\n",
       "      <th>11045048</th>\n",
       "      <td>2019-07-25 20:24:36.232000+00:00</td>\n",
       "      <td>f90e8b6e</td>\n",
       "      <td>3e9dc42c1558ca6e</td>\n",
       "      <td>CRYSTALCAVES</td>\n",
       "      <td>Chest Sorter (Assessment)</td>\n",
       "      <td>60912</td>\n",
       "      <td>85</td>\n",
       "      <td>Assessment</td>\n",
       "      <td>4100</td>\n",
       "      <td>93b353f2</td>\n",
       "      <td>2019-07-25</td>\n",
       "      <td>20:24:36.232000</td>\n",
       "      <td>False</td>\n",
       "    </tr>\n",
       "    <tr>\n",
       "      <th>11045070</th>\n",
       "      <td>2019-07-25 20:24:52.766000+00:00</td>\n",
       "      <td>f90e8b6e</td>\n",
       "      <td>3e9dc42c1558ca6e</td>\n",
       "      <td>CRYSTALCAVES</td>\n",
       "      <td>Chest Sorter (Assessment)</td>\n",
       "      <td>77447</td>\n",
       "      <td>107</td>\n",
       "      <td>Assessment</td>\n",
       "      <td>4100</td>\n",
       "      <td>93b353f2</td>\n",
       "      <td>2019-07-25</td>\n",
       "      <td>20:24:52.766000</td>\n",
       "      <td>True</td>\n",
       "    </tr>\n",
       "    <tr>\n",
       "      <th>11047341</th>\n",
       "      <td>2019-07-26 00:00:20.023000+00:00</td>\n",
       "      <td>f90e8b6e</td>\n",
       "      <td>0ae4cd26e61a521b</td>\n",
       "      <td>MAGMAPEAK</td>\n",
       "      <td>Cauldron Filler (Assessment)</td>\n",
       "      <td>7065</td>\n",
       "      <td>10</td>\n",
       "      <td>Assessment</td>\n",
       "      <td>4100</td>\n",
       "      <td>392e14df</td>\n",
       "      <td>2019-07-26</td>\n",
       "      <td>00:00:20.023000</td>\n",
       "      <td>False</td>\n",
       "    </tr>\n",
       "    <tr>\n",
       "      <th>11047424</th>\n",
       "      <td>2019-07-26 00:01:56.961000+00:00</td>\n",
       "      <td>f90e8b6e</td>\n",
       "      <td>0ae4cd26e61a521b</td>\n",
       "      <td>MAGMAPEAK</td>\n",
       "      <td>Cauldron Filler (Assessment)</td>\n",
       "      <td>104006</td>\n",
       "      <td>93</td>\n",
       "      <td>Assessment</td>\n",
       "      <td>4100</td>\n",
       "      <td>392e14df</td>\n",
       "      <td>2019-07-26</td>\n",
       "      <td>00:01:56.961000</td>\n",
       "      <td>False</td>\n",
       "    </tr>\n",
       "    <tr>\n",
       "      <th>11047434</th>\n",
       "      <td>2019-07-26 00:02:03.611000+00:00</td>\n",
       "      <td>f90e8b6e</td>\n",
       "      <td>0ae4cd26e61a521b</td>\n",
       "      <td>MAGMAPEAK</td>\n",
       "      <td>Cauldron Filler (Assessment)</td>\n",
       "      <td>110657</td>\n",
       "      <td>102</td>\n",
       "      <td>Assessment</td>\n",
       "      <td>4100</td>\n",
       "      <td>392e14df</td>\n",
       "      <td>2019-07-26</td>\n",
       "      <td>00:02:03.611000</td>\n",
       "      <td>True</td>\n",
       "    </tr>\n",
       "    <tr>\n",
       "      <th>11049007</th>\n",
       "      <td>2019-07-27 18:33:12.522000+00:00</td>\n",
       "      <td>f90e8b6e</td>\n",
       "      <td>5a7ef8de5854ddd7</td>\n",
       "      <td>MAGMAPEAK</td>\n",
       "      <td>Cauldron Filler (Assessment)</td>\n",
       "      <td>19270</td>\n",
       "      <td>22</td>\n",
       "      <td>Assessment</td>\n",
       "      <td>4100</td>\n",
       "      <td>392e14df</td>\n",
       "      <td>2019-07-27</td>\n",
       "      <td>18:33:12.522000</td>\n",
       "      <td>False</td>\n",
       "    </tr>\n",
       "    <tr>\n",
       "      <th>11049048</th>\n",
       "      <td>2019-07-27 18:33:51.953000+00:00</td>\n",
       "      <td>f90e8b6e</td>\n",
       "      <td>5a7ef8de5854ddd7</td>\n",
       "      <td>MAGMAPEAK</td>\n",
       "      <td>Cauldron Filler (Assessment)</td>\n",
       "      <td>58706</td>\n",
       "      <td>63</td>\n",
       "      <td>Assessment</td>\n",
       "      <td>4100</td>\n",
       "      <td>392e14df</td>\n",
       "      <td>2019-07-27</td>\n",
       "      <td>18:33:51.953000</td>\n",
       "      <td>False</td>\n",
       "    </tr>\n",
       "    <tr>\n",
       "      <th>11049092</th>\n",
       "      <td>2019-07-27 18:35:23.463000+00:00</td>\n",
       "      <td>f90e8b6e</td>\n",
       "      <td>5a7ef8de5854ddd7</td>\n",
       "      <td>MAGMAPEAK</td>\n",
       "      <td>Cauldron Filler (Assessment)</td>\n",
       "      <td>150213</td>\n",
       "      <td>107</td>\n",
       "      <td>Assessment</td>\n",
       "      <td>4100</td>\n",
       "      <td>392e14df</td>\n",
       "      <td>2019-07-27</td>\n",
       "      <td>18:35:23.463000</td>\n",
       "      <td>True</td>\n",
       "    </tr>\n",
       "  </tbody>\n",
       "</table>\n",
       "</div>"
      ],
      "text/plain": [
       "                                timestamp installation_id      game_session  \\\n",
       "11042975 2019-07-24 14:59:45.428000+00:00        f90e8b6e  fa60dc6361ab2725   \n",
       "11043016 2019-07-24 15:00:37.407000+00:00        f90e8b6e  fa60dc6361ab2725   \n",
       "11043067 2019-07-24 15:02:47.036000+00:00        f90e8b6e  fa60dc6361ab2725   \n",
       "11043175 2019-07-25 14:48:52.676000+00:00        f90e8b6e  b3d7158e45f615fe   \n",
       "11044455 2019-07-25 15:57:41.568000+00:00        f90e8b6e  b91447a995bc067d   \n",
       "11045020 2019-07-25 20:24:19.532000+00:00        f90e8b6e  3e9dc42c1558ca6e   \n",
       "11045048 2019-07-25 20:24:36.232000+00:00        f90e8b6e  3e9dc42c1558ca6e   \n",
       "11045070 2019-07-25 20:24:52.766000+00:00        f90e8b6e  3e9dc42c1558ca6e   \n",
       "11047341 2019-07-26 00:00:20.023000+00:00        f90e8b6e  0ae4cd26e61a521b   \n",
       "11047424 2019-07-26 00:01:56.961000+00:00        f90e8b6e  0ae4cd26e61a521b   \n",
       "11047434 2019-07-26 00:02:03.611000+00:00        f90e8b6e  0ae4cd26e61a521b   \n",
       "11049007 2019-07-27 18:33:12.522000+00:00        f90e8b6e  5a7ef8de5854ddd7   \n",
       "11049048 2019-07-27 18:33:51.953000+00:00        f90e8b6e  5a7ef8de5854ddd7   \n",
       "11049092 2019-07-27 18:35:23.463000+00:00        f90e8b6e  5a7ef8de5854ddd7   \n",
       "\n",
       "                 world                         title  game_time  event_count  \\\n",
       "11042975   TREETOPCITY  Mushroom Sorter (Assessment)      44056           82   \n",
       "11043016   TREETOPCITY  Mushroom Sorter (Assessment)      96043          123   \n",
       "11043067   TREETOPCITY  Mushroom Sorter (Assessment)     225669          174   \n",
       "11043175   TREETOPCITY  Mushroom Sorter (Assessment)    3420696           50   \n",
       "11044455  CRYSTALCAVES    Cart Balancer (Assessment)      12287           17   \n",
       "11045020  CRYSTALCAVES     Chest Sorter (Assessment)      44210           57   \n",
       "11045048  CRYSTALCAVES     Chest Sorter (Assessment)      60912           85   \n",
       "11045070  CRYSTALCAVES     Chest Sorter (Assessment)      77447          107   \n",
       "11047341     MAGMAPEAK  Cauldron Filler (Assessment)       7065           10   \n",
       "11047424     MAGMAPEAK  Cauldron Filler (Assessment)     104006           93   \n",
       "11047434     MAGMAPEAK  Cauldron Filler (Assessment)     110657          102   \n",
       "11049007     MAGMAPEAK  Cauldron Filler (Assessment)      19270           22   \n",
       "11049048     MAGMAPEAK  Cauldron Filler (Assessment)      58706           63   \n",
       "11049092     MAGMAPEAK  Cauldron Filler (Assessment)     150213          107   \n",
       "\n",
       "                type  event_code  event_id        date             time  \\\n",
       "11042975  Assessment        4100  25fa8af4  2019-07-24  14:59:45.428000   \n",
       "11043016  Assessment        4100  25fa8af4  2019-07-24  15:00:37.407000   \n",
       "11043067  Assessment        4100  25fa8af4  2019-07-24  15:02:47.036000   \n",
       "11043175  Assessment        4100  25fa8af4  2019-07-25  14:48:52.676000   \n",
       "11044455  Assessment        4100  d122731b  2019-07-25  15:57:41.568000   \n",
       "11045020  Assessment        4100  93b353f2  2019-07-25  20:24:19.532000   \n",
       "11045048  Assessment        4100  93b353f2  2019-07-25  20:24:36.232000   \n",
       "11045070  Assessment        4100  93b353f2  2019-07-25  20:24:52.766000   \n",
       "11047341  Assessment        4100  392e14df  2019-07-26  00:00:20.023000   \n",
       "11047424  Assessment        4100  392e14df  2019-07-26  00:01:56.961000   \n",
       "11047434  Assessment        4100  392e14df  2019-07-26  00:02:03.611000   \n",
       "11049007  Assessment        4100  392e14df  2019-07-27  18:33:12.522000   \n",
       "11049048  Assessment        4100  392e14df  2019-07-27  18:33:51.953000   \n",
       "11049092  Assessment        4100  392e14df  2019-07-27  18:35:23.463000   \n",
       "\n",
       "         correct  \n",
       "11042975   False  \n",
       "11043016   False  \n",
       "11043067    True  \n",
       "11043175    True  \n",
       "11044455   False  \n",
       "11045020   False  \n",
       "11045048   False  \n",
       "11045070    True  \n",
       "11047341   False  \n",
       "11047424   False  \n",
       "11047434    True  \n",
       "11049007   False  \n",
       "11049048   False  \n",
       "11049092    True  "
      ]
     },
     "execution_count": 28,
     "metadata": {},
     "output_type": "execute_result"
    }
   ],
   "source": [
    "# I'll use user id 'f90e8b6e' as a random example \n",
    "\n",
    "train_with_ass.loc[(train_with_ass.installation_id=='f90e8b6e') & ass_codes].head(100)"
   ]
  },
  {
   "cell_type": "code",
   "execution_count": 29,
   "metadata": {},
   "outputs": [
    {
     "data": {
      "text/html": [
       "<div>\n",
       "<style scoped>\n",
       "    .dataframe tbody tr th:only-of-type {\n",
       "        vertical-align: middle;\n",
       "    }\n",
       "\n",
       "    .dataframe tbody tr th {\n",
       "        vertical-align: top;\n",
       "    }\n",
       "\n",
       "    .dataframe thead th {\n",
       "        text-align: right;\n",
       "    }\n",
       "</style>\n",
       "<table border=\"1\" class=\"dataframe\">\n",
       "  <thead>\n",
       "    <tr style=\"text-align: right;\">\n",
       "      <th></th>\n",
       "      <th>timestamp</th>\n",
       "      <th>installation_id</th>\n",
       "      <th>game_session</th>\n",
       "      <th>world</th>\n",
       "      <th>title</th>\n",
       "      <th>game_time</th>\n",
       "      <th>event_count</th>\n",
       "      <th>type</th>\n",
       "      <th>event_code</th>\n",
       "      <th>event_id</th>\n",
       "      <th>date</th>\n",
       "      <th>time</th>\n",
       "      <th>correct</th>\n",
       "    </tr>\n",
       "  </thead>\n",
       "  <tbody>\n",
       "    <tr>\n",
       "      <th>3899504</th>\n",
       "      <td>2019-09-23 23:26:04.086000+00:00</td>\n",
       "      <td>554fc65a</td>\n",
       "      <td>b219692dbec3cffe</td>\n",
       "      <td>MAGMAPEAK</td>\n",
       "      <td>Dino Drink</td>\n",
       "      <td>293506</td>\n",
       "      <td>131</td>\n",
       "      <td>Game</td>\n",
       "      <td>3021</td>\n",
       "      <td>77ead60d</td>\n",
       "      <td>2019-09-23</td>\n",
       "      <td>23:26:04.086000</td>\n",
       "      <td>NaN</td>\n",
       "    </tr>\n",
       "    <tr>\n",
       "      <th>3899505</th>\n",
       "      <td>2019-09-23 23:26:10.836000+00:00</td>\n",
       "      <td>554fc65a</td>\n",
       "      <td>b219692dbec3cffe</td>\n",
       "      <td>MAGMAPEAK</td>\n",
       "      <td>Dino Drink</td>\n",
       "      <td>300249</td>\n",
       "      <td>132</td>\n",
       "      <td>Game</td>\n",
       "      <td>3121</td>\n",
       "      <td>4d911100</td>\n",
       "      <td>2019-09-23</td>\n",
       "      <td>23:26:10.836000</td>\n",
       "      <td>NaN</td>\n",
       "    </tr>\n",
       "  </tbody>\n",
       "</table>\n",
       "</div>"
      ],
      "text/plain": [
       "                               timestamp installation_id      game_session  \\\n",
       "3899504 2019-09-23 23:26:04.086000+00:00        554fc65a  b219692dbec3cffe   \n",
       "3899505 2019-09-23 23:26:10.836000+00:00        554fc65a  b219692dbec3cffe   \n",
       "\n",
       "             world       title  game_time  event_count  type  event_code  \\\n",
       "3899504  MAGMAPEAK  Dino Drink     293506          131  Game        3021   \n",
       "3899505  MAGMAPEAK  Dino Drink     300249          132  Game        3121   \n",
       "\n",
       "         event_id        date             time correct  \n",
       "3899504  77ead60d  2019-09-23  23:26:04.086000     NaN  \n",
       "3899505  4d911100  2019-09-23  23:26:10.836000     NaN  "
      ]
     },
     "execution_count": 29,
     "metadata": {},
     "output_type": "execute_result"
    }
   ],
   "source": [
    "train_with_ass.loc[train_with_ass.installation_id=='554fc65a'].tail(2)"
   ]
  },
  {
   "cell_type": "markdown",
   "metadata": {},
   "source": [
    "## **User Statistics**"
   ]
  },
  {
   "cell_type": "code",
   "execution_count": 30,
   "metadata": {},
   "outputs": [],
   "source": [
    "my_installation_id = 'f90e8b6e'"
   ]
  },
  {
   "cell_type": "code",
   "execution_count": 31,
   "metadata": {},
   "outputs": [
    {
     "data": {
      "text/plain": [
       "(8629, 13)"
      ]
     },
     "execution_count": 31,
     "metadata": {},
     "output_type": "execute_result"
    }
   ],
   "source": [
    "train_id = train_with_ass.loc[train_with_ass.installation_id==my_installation_id]\n",
    "train_id.shape"
   ]
  },
  {
   "cell_type": "code",
   "execution_count": 32,
   "metadata": {},
   "outputs": [],
   "source": [
    "ass_codes = [4100,4110]"
   ]
  },
  {
   "cell_type": "code",
   "execution_count": 33,
   "metadata": {},
   "outputs": [
    {
     "data": {
      "text/plain": [
       "20"
      ]
     },
     "execution_count": 33,
     "metadata": {},
     "output_type": "execute_result"
    }
   ],
   "source": [
    "# assessments the user took:\n",
    "train_id.event_code.isin(ass_codes).sum()"
   ]
  },
  {
   "cell_type": "code",
   "execution_count": 34,
   "metadata": {},
   "outputs": [
    {
     "data": {
      "text/html": [
       "<div>\n",
       "<style scoped>\n",
       "    .dataframe tbody tr th:only-of-type {\n",
       "        vertical-align: middle;\n",
       "    }\n",
       "\n",
       "    .dataframe tbody tr th {\n",
       "        vertical-align: top;\n",
       "    }\n",
       "\n",
       "    .dataframe thead th {\n",
       "        text-align: right;\n",
       "    }\n",
       "</style>\n",
       "<table border=\"1\" class=\"dataframe\">\n",
       "  <thead>\n",
       "    <tr style=\"text-align: right;\">\n",
       "      <th></th>\n",
       "      <th>timestamp</th>\n",
       "      <th>correct</th>\n",
       "    </tr>\n",
       "  </thead>\n",
       "  <tbody>\n",
       "    <tr>\n",
       "      <th>11042975</th>\n",
       "      <td>2019-07-24 14:59:45.428000+00:00</td>\n",
       "      <td>False</td>\n",
       "    </tr>\n",
       "    <tr>\n",
       "      <th>11043016</th>\n",
       "      <td>2019-07-24 15:00:37.407000+00:00</td>\n",
       "      <td>False</td>\n",
       "    </tr>\n",
       "    <tr>\n",
       "      <th>11043067</th>\n",
       "      <td>2019-07-24 15:02:47.036000+00:00</td>\n",
       "      <td>True</td>\n",
       "    </tr>\n",
       "    <tr>\n",
       "      <th>11043175</th>\n",
       "      <td>2019-07-25 14:48:52.676000+00:00</td>\n",
       "      <td>True</td>\n",
       "    </tr>\n",
       "    <tr>\n",
       "      <th>11044455</th>\n",
       "      <td>2019-07-25 15:57:41.568000+00:00</td>\n",
       "      <td>False</td>\n",
       "    </tr>\n",
       "  </tbody>\n",
       "</table>\n",
       "</div>"
      ],
      "text/plain": [
       "                                timestamp correct\n",
       "11042975 2019-07-24 14:59:45.428000+00:00   False\n",
       "11043016 2019-07-24 15:00:37.407000+00:00   False\n",
       "11043067 2019-07-24 15:02:47.036000+00:00    True\n",
       "11043175 2019-07-25 14:48:52.676000+00:00    True\n",
       "11044455 2019-07-25 15:57:41.568000+00:00   False"
      ]
     },
     "execution_count": 34,
     "metadata": {},
     "output_type": "execute_result"
    }
   ],
   "source": [
    "# all user attepts:\n",
    "\n",
    "train_id.loc[train_id.event_code.isin(ass_codes),['timestamp','correct']].head()"
   ]
  },
  {
   "cell_type": "code",
   "execution_count": 35,
   "metadata": {},
   "outputs": [],
   "source": [
    "# timestamp for the sec. assessment:\n",
    "\n",
    "timestamp_ass = '2019-07-25 20:26:55.492000+00:00'"
   ]
  },
  {
   "cell_type": "code",
   "execution_count": 36,
   "metadata": {},
   "outputs": [
    {
     "data": {
      "text/html": [
       "<div>\n",
       "<style scoped>\n",
       "    .dataframe tbody tr th:only-of-type {\n",
       "        vertical-align: middle;\n",
       "    }\n",
       "\n",
       "    .dataframe tbody tr th {\n",
       "        vertical-align: top;\n",
       "    }\n",
       "\n",
       "    .dataframe thead th {\n",
       "        text-align: right;\n",
       "    }\n",
       "</style>\n",
       "<table border=\"1\" class=\"dataframe\">\n",
       "  <thead>\n",
       "    <tr style=\"text-align: right;\">\n",
       "      <th></th>\n",
       "      <th>timestamp</th>\n",
       "      <th>installation_id</th>\n",
       "      <th>game_session</th>\n",
       "      <th>world</th>\n",
       "      <th>title</th>\n",
       "      <th>game_time</th>\n",
       "      <th>event_count</th>\n",
       "      <th>type</th>\n",
       "      <th>event_code</th>\n",
       "      <th>event_id</th>\n",
       "      <th>date</th>\n",
       "      <th>time</th>\n",
       "      <th>correct</th>\n",
       "    </tr>\n",
       "  </thead>\n",
       "  <tbody>\n",
       "    <tr>\n",
       "      <th>11045131</th>\n",
       "      <td>2019-07-25 20:26:52.318000+00:00</td>\n",
       "      <td>f90e8b6e</td>\n",
       "      <td>8ac3ed2151e7f16e</td>\n",
       "      <td>TREETOPCITY</td>\n",
       "      <td>Air Show</td>\n",
       "      <td>53299</td>\n",
       "      <td>49</td>\n",
       "      <td>Game</td>\n",
       "      <td>4070</td>\n",
       "      <td>bcceccc6</td>\n",
       "      <td>2019-07-25</td>\n",
       "      <td>20:26:52.318000</td>\n",
       "      <td>NaN</td>\n",
       "    </tr>\n",
       "    <tr>\n",
       "      <th>11045132</th>\n",
       "      <td>2019-07-25 20:26:52.598000+00:00</td>\n",
       "      <td>f90e8b6e</td>\n",
       "      <td>8ac3ed2151e7f16e</td>\n",
       "      <td>TREETOPCITY</td>\n",
       "      <td>Air Show</td>\n",
       "      <td>53583</td>\n",
       "      <td>50</td>\n",
       "      <td>Game</td>\n",
       "      <td>4070</td>\n",
       "      <td>bcceccc6</td>\n",
       "      <td>2019-07-25</td>\n",
       "      <td>20:26:52.598000</td>\n",
       "      <td>NaN</td>\n",
       "    </tr>\n",
       "    <tr>\n",
       "      <th>11045133</th>\n",
       "      <td>2019-07-25 20:26:53.048000+00:00</td>\n",
       "      <td>f90e8b6e</td>\n",
       "      <td>8ac3ed2151e7f16e</td>\n",
       "      <td>TREETOPCITY</td>\n",
       "      <td>Air Show</td>\n",
       "      <td>54033</td>\n",
       "      <td>51</td>\n",
       "      <td>Game</td>\n",
       "      <td>4070</td>\n",
       "      <td>bcceccc6</td>\n",
       "      <td>2019-07-25</td>\n",
       "      <td>20:26:53.048000</td>\n",
       "      <td>NaN</td>\n",
       "    </tr>\n",
       "    <tr>\n",
       "      <th>11045134</th>\n",
       "      <td>2019-07-25 20:26:53.349000+00:00</td>\n",
       "      <td>f90e8b6e</td>\n",
       "      <td>8ac3ed2151e7f16e</td>\n",
       "      <td>TREETOPCITY</td>\n",
       "      <td>Air Show</td>\n",
       "      <td>54333</td>\n",
       "      <td>52</td>\n",
       "      <td>Game</td>\n",
       "      <td>4070</td>\n",
       "      <td>bcceccc6</td>\n",
       "      <td>2019-07-25</td>\n",
       "      <td>20:26:53.349000</td>\n",
       "      <td>NaN</td>\n",
       "    </tr>\n",
       "    <tr>\n",
       "      <th>11045135</th>\n",
       "      <td>2019-07-25 20:26:53.796000+00:00</td>\n",
       "      <td>f90e8b6e</td>\n",
       "      <td>8ac3ed2151e7f16e</td>\n",
       "      <td>TREETOPCITY</td>\n",
       "      <td>Air Show</td>\n",
       "      <td>54783</td>\n",
       "      <td>53</td>\n",
       "      <td>Game</td>\n",
       "      <td>4070</td>\n",
       "      <td>bcceccc6</td>\n",
       "      <td>2019-07-25</td>\n",
       "      <td>20:26:53.796000</td>\n",
       "      <td>NaN</td>\n",
       "    </tr>\n",
       "  </tbody>\n",
       "</table>\n",
       "</div>"
      ],
      "text/plain": [
       "                                timestamp installation_id      game_session  \\\n",
       "11045131 2019-07-25 20:26:52.318000+00:00        f90e8b6e  8ac3ed2151e7f16e   \n",
       "11045132 2019-07-25 20:26:52.598000+00:00        f90e8b6e  8ac3ed2151e7f16e   \n",
       "11045133 2019-07-25 20:26:53.048000+00:00        f90e8b6e  8ac3ed2151e7f16e   \n",
       "11045134 2019-07-25 20:26:53.349000+00:00        f90e8b6e  8ac3ed2151e7f16e   \n",
       "11045135 2019-07-25 20:26:53.796000+00:00        f90e8b6e  8ac3ed2151e7f16e   \n",
       "\n",
       "                world     title  game_time  event_count  type  event_code  \\\n",
       "11045131  TREETOPCITY  Air Show      53299           49  Game        4070   \n",
       "11045132  TREETOPCITY  Air Show      53583           50  Game        4070   \n",
       "11045133  TREETOPCITY  Air Show      54033           51  Game        4070   \n",
       "11045134  TREETOPCITY  Air Show      54333           52  Game        4070   \n",
       "11045135  TREETOPCITY  Air Show      54783           53  Game        4070   \n",
       "\n",
       "          event_id        date             time correct  \n",
       "11045131  bcceccc6  2019-07-25  20:26:52.318000     NaN  \n",
       "11045132  bcceccc6  2019-07-25  20:26:52.598000     NaN  \n",
       "11045133  bcceccc6  2019-07-25  20:26:53.048000     NaN  \n",
       "11045134  bcceccc6  2019-07-25  20:26:53.349000     NaN  \n",
       "11045135  bcceccc6  2019-07-25  20:26:53.796000     NaN  "
      ]
     },
     "execution_count": 36,
     "metadata": {},
     "output_type": "execute_result"
    }
   ],
   "source": [
    "# subset of data till ass. timestamp:\n",
    "\n",
    "train_id_time = train_id.loc[train_id.timestamp<timestamp_ass]\n",
    "train_id_time.tail(5)"
   ]
  },
  {
   "cell_type": "markdown",
   "metadata": {},
   "source": [
    "### User Assessment Accuracy Function"
   ]
  },
  {
   "cell_type": "code",
   "execution_count": 37,
   "metadata": {},
   "outputs": [],
   "source": [
    "def true_attemp_num(correct):\n",
    "    if sum(correct)==0:\n",
    "        return 0\n",
    "    else:\n",
    "        return len(correct)"
   ]
  },
  {
   "cell_type": "code",
   "execution_count": 38,
   "metadata": {},
   "outputs": [],
   "source": [
    "def group_score(attemp):\n",
    "    if attemp > 2:\n",
    "        return 1\n",
    "    elif attemp >1:\n",
    "        return 2\n",
    "    elif attemp==1:\n",
    "        return 3\n",
    "    else:\n",
    "        return 0"
   ]
  },
  {
   "cell_type": "code",
   "execution_count": 39,
   "metadata": {},
   "outputs": [],
   "source": [
    "total_success = train_id_time.loc[(train_id_time.event_code.isin(ass_codes)) & (train_id_time.correct==True), 'correct'].sum()\n",
    "total_tries = train_id_time.loc[(train_id_time.event_code.isin(ass_codes)) , 'correct'].shape[0]\n",
    "accuracy_id = total_success / total_tries"
   ]
  },
  {
   "cell_type": "code",
   "execution_count": 40,
   "metadata": {},
   "outputs": [
    {
     "data": {
      "text/plain": [
       "(3, 8, 0.375)"
      ]
     },
     "execution_count": 40,
     "metadata": {},
     "output_type": "execute_result"
    }
   ],
   "source": [
    "total_success, total_tries, accuracy_id"
   ]
  },
  {
   "cell_type": "markdown",
   "metadata": {},
   "source": [
    "### function for calculating the group_score"
   ]
  },
  {
   "cell_type": "code",
   "execution_count": 41,
   "metadata": {},
   "outputs": [],
   "source": [
    "def label_group_score(id_time):\n",
    "    \n",
    "    ### this function calculates the group_score for df subset\n",
    "\n",
    "    score_table = id_time.loc[(((train_with_ass.title=='Bird Measurer (Assessment)') & (train_with_ass.event_code==4110)) |\n",
    "                ((train_with_ass.title!='Bird Measurer (Assessment)') & (train_with_ass.event_code==4100)& (train_with_ass.type=='Assessment')))].groupby(['date','title','game_session'])['correct'].agg(['count','sum']).reset_index()\n",
    "    score_table['group_score'] = 0\n",
    "    score_table['accuracy'] = 0\n",
    "\n",
    "    for row in range(score_table.shape[0]):\n",
    "        if score_table.loc[row,'sum']==0:\n",
    "            pass\n",
    "        elif score_table.loc[row,'count'] == 1:\n",
    "            score_table.loc[row,'group_score'] = 3\n",
    "            score_table.loc[row,'accuracy'] =  (1 / score_table.loc[row,'count'])\n",
    "            \n",
    "        elif score_table.loc[row,'count'] > 2:\n",
    "            score_table.loc[row,'group_score'] = 1\n",
    "            score_table.loc[row,'accuracy'] = (1 / score_table.loc[row,'count'])\n",
    "        else:\n",
    "            score_table.loc[row,'group_score'] = 2\n",
    "            score_table.loc[row,'accuracy'] = (1 / score_table.loc[row,'count'])\n",
    "            \n",
    "    \n",
    "    return score_table.groupby('title')['group_score','accuracy'].mean().reset_index()\n"
   ]
  },
  {
   "cell_type": "markdown",
   "metadata": {},
   "source": [
    "# New Features - Users Stats"
   ]
  },
  {
   "cell_type": "code",
   "execution_count": 42,
   "metadata": {},
   "outputs": [],
   "source": [
    "id_groups = train_with_ass.groupby('installation_id', sort=False)"
   ]
  },
  {
   "cell_type": "code",
   "execution_count": 43,
   "metadata": {},
   "outputs": [],
   "source": [
    "# 180mins\n",
    "\n",
    "df_id = []\n",
    "\n",
    "for name, group in id_groups:\n",
    "    ass_times = group.loc[(((group.title=='Bird Measurer (Assessment)') \n",
    "                            & (group.event_code==4110)) |\n",
    "                ((group.title!='Bird Measurer (Assessment)') \n",
    "                 & (group.event_code==4100) & \n",
    "                 (group.type=='Assessment'))),'timestamp'].unique()\n",
    "    \n",
    "    prev_time = np.nan\n",
    "\n",
    "    for time in ass_times:\n",
    "        df_date_id = []\n",
    "        id_time = group.loc[group.timestamp<time]\n",
    "        ass = id_time.loc[(((id_time.title=='Bird Measurer (Assessment)') \n",
    "                                        & (id_time.event_code==4110)) |\n",
    "                                            ((id_time.title!='Bird Measurer (Assessment)') \n",
    "                                             & (id_time.event_code==4100) & \n",
    "                                             (id_time.type=='Assessment')))]\n",
    "\n",
    "#         total time spend in each game\n",
    "\n",
    "        prev_game_per_date = id_time.loc[id_time.type=='Game'].groupby(['game_session','title'])['game_time'].max()\n",
    "        total_game_time_id = prev_game_per_date.groupby('title').sum()\n",
    "        total_game_time_id = total_game_time_id.to_frame().T\n",
    "        total_game_time_id.index = [(name, time)] * len(total_game_time_id)\n",
    "        total_game_time_id.columns = ['total_game_time_' + str(col) for col in total_game_time_id.columns]\n",
    "        df_date_id.append(total_game_time_id)\n",
    "        \n",
    "#         total moves (events) completed in each game\n",
    "\n",
    "        prev_game_moves_per_date = id_time.loc[id_time.type=='Game'].groupby(['game_session','title'])['event_count'].max()\n",
    "        total_game_moves_id = prev_game_moves_per_date.groupby('title').sum()\n",
    "        total_game_moves_id = total_game_moves_id.to_frame().T\n",
    "        total_game_moves_id.index = [(name, time)] * len(total_game_moves_id)\n",
    "        total_game_moves_id.columns = ['total_game_moves_' + str(col) for col in total_game_moves_id.columns]\n",
    "        df_date_id.append(total_game_moves_id)\n",
    "\n",
    "#         time spend in each activity\n",
    "\n",
    "        prev_activity_per_date = id_time.loc[id_time.type=='Activity'].groupby(['game_session','title'])['game_time'].max()\n",
    "        total_activity_time_id = prev_activity_per_date.groupby('title').sum()\n",
    "        total_activity_time_id = total_activity_time_id.to_frame().T\n",
    "        total_activity_time_id.index =[(name, time)] * len(total_activity_time_id)\n",
    "        total_activity_time_id.columns = ['total_activity_time_' + str(col) for col in total_activity_time_id.columns]\n",
    "        df_date_id.append(total_activity_time_id)\n",
    "        \n",
    "#         total moves (events) completed in each activity\n",
    "\n",
    "        prev_activity_moves_per_date = id_time.loc[id_time.type=='Activity'].groupby(['game_session','title'])['event_count'].max()\n",
    "        total_activity_moves_id = prev_activity_moves_per_date.groupby('title').sum()\n",
    "        total_activity_moves_id = total_activity_moves_id.to_frame().T\n",
    "        total_activity_moves_id.index = [(name, time)] * len(total_activity_moves_id)\n",
    "        total_activity_moves_id.columns = ['total_activity_moves_' + str(col) for col in total_activity_moves_id.columns]\n",
    "        df_date_id.append(total_activity_moves_id)\n",
    "        \n",
    "#         prev. time in ass\n",
    "\n",
    "        if not(pd.isna(prev_time)) and \\\n",
    "        id_time.iloc[-1].game_session == group.loc[group.timestamp==prev_time,'game_session'].iloc[0]: \n",
    "\n",
    "            # another try in session\n",
    "            prev_ass_per_date = group.loc[(group.type=='Assessment') &\n",
    "                                          (group.timestamp<=prev_time)].groupby(['game_session','title'])['game_time'].max()\n",
    "        else:\n",
    "            # data untill the start of session\n",
    "            start_session_time = id_time.loc[id_time.game_session==id_time.iloc[-1].game_session,'timestamp'].min() \n",
    "            prev_ass_per_date = group.loc[(group.type=='Assessment') &\n",
    "                                      (group.timestamp<start_session_time)].groupby(['game_session','title'])['game_time'].max()\n",
    "\n",
    "        total_ass_time_id = prev_ass_per_date.groupby('title').sum()\n",
    "        total_ass_time_id = total_ass_time_id.to_frame().T\n",
    "        total_ass_time_id.index = [(name, time)] * len(total_ass_time_id)\n",
    "        total_ass_time_id.columns = ['total_ass_time_' + str(col) for col in total_ass_time_id.columns]\n",
    "        df_date_id.append(total_ass_time_id)\n",
    "\n",
    "\n",
    "\n",
    "#         total prev ass moves per game\n",
    "\n",
    "        if not(pd.isna(prev_time)) and \\\n",
    "        id_time.iloc[-1].game_session == group.loc[group.timestamp==prev_time,'game_session'].iloc[0]: \n",
    "            prev_ass_moves_per_date = group.loc[(group.type=='Assessment') &\n",
    "                                          (group.timestamp<=prev_time)].groupby(['game_session','title'])['event_count'].max()\n",
    "        else:\n",
    "            prev_ass_moves_per_date = group.loc[(group.type=='Assessment') &\n",
    "                                              (group.timestamp<start_session_time)].groupby(['game_session','title'])['event_count'].max()\n",
    "\n",
    "        total_ass_moves_id = prev_ass_moves_per_date.groupby('title').sum()\n",
    "        total_ass_moves_id = total_ass_moves_id.to_frame().T\n",
    "        total_ass_moves_id.index = [(name, time)] * len(total_ass_moves_id)\n",
    "        total_ass_moves_id.columns = ['total_ass_moves_' + str(col) for col in total_ass_moves_id.columns]\n",
    "        df_date_id.append(total_ass_moves_id)\n",
    "\n",
    "#         total ass. took\n",
    "\n",
    "        total_ass_took = id_time.loc[id_time.type=='Assessment'].groupby(['title'])['game_session'].nunique()\n",
    "        total_ass_took_id = total_ass_took.groupby('title').sum()\n",
    "        total_ass_took_id = total_ass_took_id.to_frame().T\n",
    "        total_ass_took_id[id_time.title.iloc[-1]] -= 1 # not including the current ass. session\n",
    "        total_ass_took_id.index = [(name, time)] * len(total_ass_took_id)\n",
    "        total_ass_took_id.columns = ['total_ass_took_' + str(col) for col in total_ass_took_id.columns]\n",
    "        df_date_id.append(total_ass_took_id)\n",
    "        \n",
    "#         total_days\n",
    "\n",
    "        total_active_days = pd.DataFrame(data={(name, time):[id_time.date.nunique()]}).T.rename(columns={0:'total_active_days'})\n",
    "        df_date_id.append(total_active_days)\n",
    "                \n",
    "#         clips\n",
    "\n",
    "        total_clips = pd.DataFrame(data={(name, time):[id_time.loc[id_time.type=='Clip'].shape[0]]}).T.rename(columns={0:'total_clips'})\n",
    "        df_date_id.append(total_clips)\n",
    "\n",
    "#         cumsum game accuracy\n",
    "\n",
    "        total_success = ass.loc[ass.correct==True, 'correct'].sum()\n",
    "                                   \n",
    "        total_tries = ass.shape[0]\n",
    "        if total_tries==0:\n",
    "            average_accuracy_score = 0\n",
    "        else:\n",
    "            average_accuracy_score = total_success / total_tries\n",
    "        average_accuracy = pd.DataFrame(data={(name, time):[average_accuracy_score]}).T.rename(columns={0:'cumsum_accuracy'})\n",
    "        df_date_id.append(average_accuracy)        \n",
    "\n",
    "#         total attempts per game\n",
    "\n",
    "        if ass.shape[0]>0:\n",
    "            attemps = ass.groupby(['title','game_session'])['correct'].count().groupby('title')\n",
    "            total_attemp = attemps.sum()\n",
    "            total_attemp_df = total_attemp.to_frame().T\n",
    "            total_attemp_df.index = [(name, time)] * len(total_attemp_df)\n",
    "            total_attemp_df.columns = ['total_attempts_' + str(col) for col in total_attemp_df.columns]\n",
    "            df_date_id.append(total_attemp_df)        \n",
    "        else:\n",
    "            pass\n",
    "        \n",
    "        \n",
    "#         average group_score by title\n",
    "\n",
    "        if ass.shape[0]>0:\n",
    "            avg_group_score = ass.groupby(['title','game_session'])['correct'].agg(true_attemp_num).apply(group_score)\\\n",
    "            .groupby('title').mean().to_frame().T\n",
    "            avg_group_score.index = [(name, time)] * len(avg_group_score)\n",
    "            avg_group_score.columns = ['avg_group_score_' + str(col) for col in avg_group_score.columns]\n",
    "            df_date_id.append(avg_group_score) \n",
    "        else:\n",
    "            pass\n",
    "        \n",
    "#         max_group_score\n",
    "\n",
    "        if ass.shape[0]>0:\n",
    "            max_group_score = ass.groupby(['title','game_session'])['correct'].agg(true_attemp_num).apply(group_score)\\\n",
    "            .groupby('title').max().to_frame().T\n",
    "            max_group_score.index = [(name, time)] * len(max_group_score)\n",
    "            max_group_score.columns = ['max_group_score_' + str(col) for col in max_group_score.columns]\n",
    "            df_date_id.append(max_group_score) \n",
    "        else:\n",
    "            pass\n",
    "\n",
    "#         prev_game_scores\n",
    "\n",
    "        score_table = ass.groupby(['world','title','game_session'])['correct'].agg(['count','sum']).reset_index()\n",
    "        score_table['group_score'] = 0\n",
    "        score_table['accuracy'] = 0\n",
    "\n",
    "        for row in range(score_table.shape[0]):\n",
    "            if score_table.loc[row,'sum']==0:\n",
    "                continue\n",
    "            elif score_table.loc[row,'count'] == 1:\n",
    "                score_table.loc[row,'group_score'] = 3\n",
    "                score_table.loc[row,'accuracy'] =  (1 / score_table.loc[row,'count'])\n",
    "\n",
    "            elif score_table.loc[row,'count'] > 2:\n",
    "                score_table.loc[row,'group_score'] = 1\n",
    "                score_table.loc[row,'accuracy'] = (1 / score_table.loc[row,'count'])\n",
    "            else:\n",
    "                score_table.loc[row,'group_score'] = 2\n",
    "                score_table.loc[row,'accuracy'] = (1 / score_table.loc[row,'count'])\n",
    "\n",
    "        \n",
    "#         average game accuracy\n",
    "\n",
    "        group_accuracy_prev_games = score_table.groupby('title')['group_score','accuracy'].mean().T.iloc[1].to_frame().T\n",
    "        group_accuracy_prev_games.index = [(name, time)] * len(group_accuracy_prev_games)\n",
    "        group_accuracy_prev_games.columns = ['avg_accuracy_prev_games_' + str(col) for col in group_accuracy_prev_games.columns]\n",
    "        df_date_id.append(group_accuracy_prev_games) \n",
    "        \n",
    "#         total successes in prev. games\n",
    "\n",
    "        total_wins_prev_games = score_table.groupby('title')['sum'].sum().to_frame().T\n",
    "        total_wins_prev_games.index = [(name, time)] * len(total_wins_prev_games)\n",
    "        total_wins_prev_games.columns = ['total_wins_prev_games_' + str(col) for col in total_wins_prev_games.columns]\n",
    "        df_date_id.append(total_wins_prev_games) \n",
    "        \n",
    "#         title group accuracy history\n",
    "\n",
    "        total_group_score_games = score_table.groupby(['title','group_score'])['game_session'].count().to_frame().T\n",
    "        total_group_score_games.columns = [col[0]+'_group_'+str(col[1]) for col in total_group_score_games.columns.values]\n",
    "        total_group_score_games.index = [(name, time)] * len(total_wins_prev_games)\n",
    "        df_date_id.append(total_group_score_games) \n",
    "            \n",
    "#          total group accuracy history\n",
    "\n",
    "        total_group_history = score_table.groupby('group_score')['title'].count().to_frame().T\n",
    "        total_group_history.columns = ['group_'+str(col)+'_count' for col in total_group_history.columns.values]\n",
    "        total_group_history.index = [(name, time)] * len(total_group_history)\n",
    "        df_date_id.append(total_group_history) \n",
    "#   \n",
    "#          accuracy in world ass.\n",
    "\n",
    "        avg_world_accuracy = score_table.groupby('world')['accuracy'].mean().to_frame().T\n",
    "        avg_world_accuracy.index = [(name, time)] * len(avg_world_accuracy)\n",
    "        avg_world_accuracy.columns = ['avg_accuracy_world_' + str(col) for col in avg_world_accuracy.columns]\n",
    "        df_date_id.append(avg_world_accuracy)\n",
    "    \n",
    "#         group in world ass.\n",
    "\n",
    "        avg_world_group = score_table.groupby('world')['group_score'].mean().to_frame().T\n",
    "        avg_world_group.index = [(name, time)] * len(avg_world_group)\n",
    "        avg_world_group.columns = ['avg_group_world_' + str(col) for col in avg_world_group.columns]\n",
    "        df_date_id.append(avg_world_group)    \n",
    "    \n",
    "#           games in world\n",
    "\n",
    "        world_games = id_time.loc[(id_time.world!='NONE') & \n",
    "                          (id_time.type=='Game')].groupby(['world'])['game_session'].nunique().to_frame().T\n",
    "        world_games.columns = ['total_games_'+str(col)+'_world' for col in world_games.columns.values]\n",
    "        world_games.index = [(name, time)] * len(world_games)\n",
    "        df_date_id.append(world_games) \n",
    "\n",
    "#         activities in world\n",
    "\n",
    "        world_activity = id_time.loc[(id_time.world!='NONE') & \n",
    "                                  (id_time.type=='Activity')].groupby(['world'])['game_session'].nunique().to_frame().T\n",
    "        world_activity.columns = ['total_activities_'+str(col)+'_world' for col in world_activity.columns.values]\n",
    "        world_activity.index = [(name, time)] * len(world_activity)\n",
    "        df_date_id.append(world_activity) \n",
    "        \n",
    "        # first attemp in title\n",
    "        \n",
    "        prev_game_scores = score_table.groupby('title')['group_score','accuracy'].mean()\n",
    "        if prev_game_scores.shape[0]>0:\n",
    "            first_attempt = ~pd.DataFrame(prev_game_scores.index.str.contains(id_time.title.iloc[-1], regex=False)).any()\n",
    "            first_attempt.index = [(name, time)] * len(first_attempt)\n",
    "            first_attempt.name = 'first_attempt'\n",
    "            df_date_id.append(first_attempt) \n",
    "        else:\n",
    "            df_date_id.append(pd.DataFrame([True], columns=['first_attempt'], index=[(name, time)]))\n",
    "            \n",
    "#         first attempt ever\n",
    "\n",
    "        if ass.shape[0]==0:\n",
    "            df_date_id.append(pd.DataFrame([True], columns=['first_ass'], index=[(name, time)]))\n",
    "        else:\n",
    "            df_date_id.append(pd.DataFrame([False], columns=['first_ass'], index=[(name, time)]))\n",
    "\n",
    "            \n",
    "#         event codes counter\n",
    "\n",
    "        if not(pd.isna(prev_time)) and \\\n",
    "                    id_time.iloc[-1].game_session == group.loc[group.timestamp==prev_time,'game_session'].iloc[0]: #if it's another try in ass.    \n",
    "            event_codes_per_date = group.loc[group.timestamp<=prev_time,'event_code'].value_counts().to_frame().T\n",
    "        else:\n",
    "            event_codes_per_date = id_time.loc[id_time.timestamp <= start_session_time,'event_code'].value_counts().to_frame().T\n",
    "\n",
    "        event_codes_per_date.index = [(name, time)] * len(event_codes_per_date)\n",
    "        event_codes_per_date.columns = ['event_code_' + str(col) for col in event_codes_per_date.columns]\n",
    "        df_date_id.append(event_codes_per_date)\n",
    "\n",
    "\n",
    "#         event id counter\n",
    "\n",
    "        if not(pd.isna(prev_time)) and \\\n",
    "                    id_time.iloc[-1].game_session == group.loc[group.timestamp==prev_time,'game_session'].iloc[0]: #if it's another try in ass.    \n",
    "            event_id_per_date = group.loc[group.timestamp<=prev_time,'event_id'].value_counts().to_frame().T\n",
    "        else:\n",
    "            event_id_per_date = id_time.loc[id_time.timestamp <= start_session_time,'event_id'].value_counts().to_frame().T\n",
    "        \n",
    "        try:\n",
    "            event_id_per_date.drop(columns='27253bdc', inplace=True) # similar to clip counter\n",
    "        except:\n",
    "            pass\n",
    "        event_id_per_date.index = [(name, time)] * len(event_id_per_date)\n",
    "        event_id_per_date.columns = ['event_code_' + str(col) for col in event_id_per_date.columns]\n",
    "        df_date_id.append(event_id_per_date)\n",
    "\n",
    "        \n",
    "        prev_time = time\n",
    "        df_id.append(pd.concat(df_date_id, axis=1))\n"
   ]
  },
  {
   "cell_type": "code",
   "execution_count": 49,
   "metadata": {},
   "outputs": [
    {
     "name": "stdout",
     "output_type": "stream",
     "text": [
      "538\n"
     ]
    }
   ],
   "source": [
    "col_list = []\n",
    "for df in df_id:\n",
    "    col_list.extend(df.columns.tolist())\n",
    "col_list = set(col_list)\n",
    "\n",
    "print(len(col_list))"
   ]
  },
  {
   "cell_type": "code",
   "execution_count": 50,
   "metadata": {},
   "outputs": [],
   "source": [
    "for i in range(len(df_id)):\n",
    "    for col in col_list:\n",
    "        if col in df_id[i].columns:\n",
    "            pass\n",
    "        else:\n",
    "            df_id[i][col] = 0"
   ]
  },
  {
   "cell_type": "code",
   "execution_count": 51,
   "metadata": {},
   "outputs": [
    {
     "name": "stdout",
     "output_type": "stream",
     "text": [
      "(41549, 541)\n"
     ]
    },
    {
     "data": {
      "text/html": [
       "<div>\n",
       "<style scoped>\n",
       "    .dataframe tbody tr th:only-of-type {\n",
       "        vertical-align: middle;\n",
       "    }\n",
       "\n",
       "    .dataframe tbody tr th {\n",
       "        vertical-align: top;\n",
       "    }\n",
       "\n",
       "    .dataframe thead th {\n",
       "        text-align: right;\n",
       "    }\n",
       "</style>\n",
       "<table border=\"1\" class=\"dataframe\">\n",
       "  <thead>\n",
       "    <tr style=\"text-align: right;\">\n",
       "      <th></th>\n",
       "      <th>index</th>\n",
       "      <th>Bird Measurer (Assessment)_group_0</th>\n",
       "      <th>Bird Measurer (Assessment)_group_1</th>\n",
       "      <th>Bird Measurer (Assessment)_group_2</th>\n",
       "      <th>Bird Measurer (Assessment)_group_3</th>\n",
       "      <th>Cart Balancer (Assessment)_group_0</th>\n",
       "      <th>Cart Balancer (Assessment)_group_1</th>\n",
       "      <th>Cart Balancer (Assessment)_group_2</th>\n",
       "      <th>Cart Balancer (Assessment)_group_3</th>\n",
       "      <th>Cauldron Filler (Assessment)_group_0</th>\n",
       "      <th>...</th>\n",
       "      <th>total_games_CRYSTALCAVES_world</th>\n",
       "      <th>total_games_MAGMAPEAK_world</th>\n",
       "      <th>total_games_TREETOPCITY_world</th>\n",
       "      <th>total_wins_prev_games_Bird Measurer (Assessment)</th>\n",
       "      <th>total_wins_prev_games_Cart Balancer (Assessment)</th>\n",
       "      <th>total_wins_prev_games_Cauldron Filler (Assessment)</th>\n",
       "      <th>total_wins_prev_games_Chest Sorter (Assessment)</th>\n",
       "      <th>total_wins_prev_games_Mushroom Sorter (Assessment)</th>\n",
       "      <th>installation_id</th>\n",
       "      <th>timestamp</th>\n",
       "    </tr>\n",
       "  </thead>\n",
       "  <tbody>\n",
       "    <tr>\n",
       "      <th>41172</th>\n",
       "      <td>(fc2aa3b2, 2019-10-02 19:06:50.986000+00:00)</td>\n",
       "      <td>1</td>\n",
       "      <td>0</td>\n",
       "      <td>0</td>\n",
       "      <td>0</td>\n",
       "      <td>0</td>\n",
       "      <td>0</td>\n",
       "      <td>0</td>\n",
       "      <td>0</td>\n",
       "      <td>0</td>\n",
       "      <td>...</td>\n",
       "      <td>0</td>\n",
       "      <td>0</td>\n",
       "      <td>2</td>\n",
       "      <td>0</td>\n",
       "      <td>0</td>\n",
       "      <td>0</td>\n",
       "      <td>0</td>\n",
       "      <td>True</td>\n",
       "      <td>fc2aa3b2</td>\n",
       "      <td>2019-10-02 19:06:50.986000+00:00</td>\n",
       "    </tr>\n",
       "    <tr>\n",
       "      <th>15257</th>\n",
       "      <td>(55fdf49f, 2019-09-21 20:47:30.414000+00:00)</td>\n",
       "      <td>1</td>\n",
       "      <td>0</td>\n",
       "      <td>0</td>\n",
       "      <td>0</td>\n",
       "      <td>0</td>\n",
       "      <td>0</td>\n",
       "      <td>0</td>\n",
       "      <td>0</td>\n",
       "      <td>0</td>\n",
       "      <td>...</td>\n",
       "      <td>0</td>\n",
       "      <td>0</td>\n",
       "      <td>4</td>\n",
       "      <td>0</td>\n",
       "      <td>0</td>\n",
       "      <td>0</td>\n",
       "      <td>0</td>\n",
       "      <td>True</td>\n",
       "      <td>55fdf49f</td>\n",
       "      <td>2019-09-21 20:47:30.414000+00:00</td>\n",
       "    </tr>\n",
       "    <tr>\n",
       "      <th>12804</th>\n",
       "      <td>(4b85deb2, 2019-09-14 19:04:08.036000+00:00)</td>\n",
       "      <td>0</td>\n",
       "      <td>1</td>\n",
       "      <td>0</td>\n",
       "      <td>0</td>\n",
       "      <td>0</td>\n",
       "      <td>0</td>\n",
       "      <td>0</td>\n",
       "      <td>1</td>\n",
       "      <td>0</td>\n",
       "      <td>...</td>\n",
       "      <td>0</td>\n",
       "      <td>1</td>\n",
       "      <td>0</td>\n",
       "      <td>1</td>\n",
       "      <td>True</td>\n",
       "      <td>0</td>\n",
       "      <td>1</td>\n",
       "      <td>0</td>\n",
       "      <td>4b85deb2</td>\n",
       "      <td>2019-09-14 19:04:08.036000+00:00</td>\n",
       "    </tr>\n",
       "    <tr>\n",
       "      <th>29691</th>\n",
       "      <td>(b6050bfe, 2019-10-06 22:25:27.134000+00:00)</td>\n",
       "      <td>0</td>\n",
       "      <td>0</td>\n",
       "      <td>0</td>\n",
       "      <td>0</td>\n",
       "      <td>0</td>\n",
       "      <td>0</td>\n",
       "      <td>0</td>\n",
       "      <td>0</td>\n",
       "      <td>0</td>\n",
       "      <td>...</td>\n",
       "      <td>22</td>\n",
       "      <td>4</td>\n",
       "      <td>5</td>\n",
       "      <td>0</td>\n",
       "      <td>0</td>\n",
       "      <td>2</td>\n",
       "      <td>0</td>\n",
       "      <td>2</td>\n",
       "      <td>b6050bfe</td>\n",
       "      <td>2019-10-06 22:25:27.134000+00:00</td>\n",
       "    </tr>\n",
       "  </tbody>\n",
       "</table>\n",
       "<p>4 rows × 541 columns</p>\n",
       "</div>"
      ],
      "text/plain": [
       "                                              index  \\\n",
       "41172  (fc2aa3b2, 2019-10-02 19:06:50.986000+00:00)   \n",
       "15257  (55fdf49f, 2019-09-21 20:47:30.414000+00:00)   \n",
       "12804  (4b85deb2, 2019-09-14 19:04:08.036000+00:00)   \n",
       "29691  (b6050bfe, 2019-10-06 22:25:27.134000+00:00)   \n",
       "\n",
       "       Bird Measurer (Assessment)_group_0  Bird Measurer (Assessment)_group_1  \\\n",
       "41172                                   1                                   0   \n",
       "15257                                   1                                   0   \n",
       "12804                                   0                                   1   \n",
       "29691                                   0                                   0   \n",
       "\n",
       "       Bird Measurer (Assessment)_group_2  Bird Measurer (Assessment)_group_3  \\\n",
       "41172                                   0                                   0   \n",
       "15257                                   0                                   0   \n",
       "12804                                   0                                   0   \n",
       "29691                                   0                                   0   \n",
       "\n",
       "       Cart Balancer (Assessment)_group_0  Cart Balancer (Assessment)_group_1  \\\n",
       "41172                                   0                                   0   \n",
       "15257                                   0                                   0   \n",
       "12804                                   0                                   0   \n",
       "29691                                   0                                   0   \n",
       "\n",
       "       Cart Balancer (Assessment)_group_2  Cart Balancer (Assessment)_group_3  \\\n",
       "41172                                   0                                   0   \n",
       "15257                                   0                                   0   \n",
       "12804                                   0                                   1   \n",
       "29691                                   0                                   0   \n",
       "\n",
       "       Cauldron Filler (Assessment)_group_0  ...  \\\n",
       "41172                                     0  ...   \n",
       "15257                                     0  ...   \n",
       "12804                                     0  ...   \n",
       "29691                                     0  ...   \n",
       "\n",
       "       total_games_CRYSTALCAVES_world  total_games_MAGMAPEAK_world  \\\n",
       "41172                               0                            0   \n",
       "15257                               0                            0   \n",
       "12804                               0                            1   \n",
       "29691                              22                            4   \n",
       "\n",
       "       total_games_TREETOPCITY_world  \\\n",
       "41172                              2   \n",
       "15257                              4   \n",
       "12804                              0   \n",
       "29691                              5   \n",
       "\n",
       "       total_wins_prev_games_Bird Measurer (Assessment)  \\\n",
       "41172                                                 0   \n",
       "15257                                                 0   \n",
       "12804                                                 1   \n",
       "29691                                                 0   \n",
       "\n",
       "       total_wins_prev_games_Cart Balancer (Assessment)  \\\n",
       "41172                                                 0   \n",
       "15257                                                 0   \n",
       "12804                                              True   \n",
       "29691                                                 0   \n",
       "\n",
       "       total_wins_prev_games_Cauldron Filler (Assessment)  \\\n",
       "41172                                                   0   \n",
       "15257                                                   0   \n",
       "12804                                                   0   \n",
       "29691                                                   2   \n",
       "\n",
       "       total_wins_prev_games_Chest Sorter (Assessment)  \\\n",
       "41172                                                0   \n",
       "15257                                                0   \n",
       "12804                                                1   \n",
       "29691                                                0   \n",
       "\n",
       "       total_wins_prev_games_Mushroom Sorter (Assessment)  installation_id  \\\n",
       "41172                                                True         fc2aa3b2   \n",
       "15257                                                True         55fdf49f   \n",
       "12804                                                   0         4b85deb2   \n",
       "29691                                                   2         b6050bfe   \n",
       "\n",
       "                             timestamp  \n",
       "41172 2019-10-02 19:06:50.986000+00:00  \n",
       "15257 2019-09-21 20:47:30.414000+00:00  \n",
       "12804 2019-09-14 19:04:08.036000+00:00  \n",
       "29691 2019-10-06 22:25:27.134000+00:00  \n",
       "\n",
       "[4 rows x 541 columns]"
      ]
     },
     "execution_count": 51,
     "metadata": {},
     "output_type": "execute_result"
    }
   ],
   "source": [
    "main_features = pd.concat(df_id).reset_index()\n",
    "main_features['installation_id'] = main_features['index'].apply(lambda i: i[0])\n",
    "main_features['timestamp'] = main_features['index'].apply(lambda i: i[1])\n",
    "main_features.fillna(0, inplace=True)\n",
    "print(main_features.shape)\n",
    "main_features.sample(4)"
   ]
  },
  {
   "cell_type": "markdown",
   "metadata": {},
   "source": [
    "**Saving Checkpoint**"
   ]
  },
  {
   "cell_type": "code",
   "execution_count": 65,
   "metadata": {},
   "outputs": [],
   "source": [
    "with open('main_features.pickle', 'wb') as f:\n",
    "    pickle.dump(main_features, f, pickle.HIGHEST_PROTOCOL)"
   ]
  },
  {
   "cell_type": "code",
   "execution_count": 66,
   "metadata": {},
   "outputs": [],
   "source": [
    "with open('main_features.pickle', 'rb') as f:\n",
    "    main_features = pickle.load(f)"
   ]
  },
  {
   "cell_type": "markdown",
   "metadata": {},
   "source": [
    "del df_id\n",
    "gc.collect()"
   ]
  },
  {
   "cell_type": "markdown",
   "metadata": {},
   "source": [
    "# Game Statistics Features"
   ]
  },
  {
   "cell_type": "code",
   "execution_count": 67,
   "metadata": {},
   "outputs": [
    {
     "data": {
      "text/html": [
       "<div>\n",
       "<style scoped>\n",
       "    .dataframe tbody tr th:only-of-type {\n",
       "        vertical-align: middle;\n",
       "    }\n",
       "\n",
       "    .dataframe tbody tr th {\n",
       "        vertical-align: top;\n",
       "    }\n",
       "\n",
       "    .dataframe thead th {\n",
       "        text-align: right;\n",
       "    }\n",
       "</style>\n",
       "<table border=\"1\" class=\"dataframe\">\n",
       "  <thead>\n",
       "    <tr style=\"text-align: right;\">\n",
       "      <th></th>\n",
       "      <th>title</th>\n",
       "      <th>game_session</th>\n",
       "      <th>count</th>\n",
       "      <th>sum</th>\n",
       "      <th>group_score</th>\n",
       "      <th>accuracy</th>\n",
       "      <th>success_rate</th>\n",
       "    </tr>\n",
       "  </thead>\n",
       "  <tbody>\n",
       "    <tr>\n",
       "      <th>0</th>\n",
       "      <td>Bird Measurer (Assessment)</td>\n",
       "      <td>0014403daadf67aa</td>\n",
       "      <td>4</td>\n",
       "      <td>1</td>\n",
       "      <td>1</td>\n",
       "      <td>0.25</td>\n",
       "      <td>1</td>\n",
       "    </tr>\n",
       "    <tr>\n",
       "      <th>1</th>\n",
       "      <td>Bird Measurer (Assessment)</td>\n",
       "      <td>001c49e9e9968dbe</td>\n",
       "      <td>2</td>\n",
       "      <td>1</td>\n",
       "      <td>2</td>\n",
       "      <td>0.50</td>\n",
       "      <td>1</td>\n",
       "    </tr>\n",
       "    <tr>\n",
       "      <th>2</th>\n",
       "      <td>Bird Measurer (Assessment)</td>\n",
       "      <td>002396a496a0c1c7</td>\n",
       "      <td>1</td>\n",
       "      <td>True</td>\n",
       "      <td>3</td>\n",
       "      <td>1.00</td>\n",
       "      <td>1</td>\n",
       "    </tr>\n",
       "    <tr>\n",
       "      <th>3</th>\n",
       "      <td>Bird Measurer (Assessment)</td>\n",
       "      <td>0024681d73e46aca</td>\n",
       "      <td>1</td>\n",
       "      <td>False</td>\n",
       "      <td>0</td>\n",
       "      <td>0.00</td>\n",
       "      <td>0</td>\n",
       "    </tr>\n",
       "    <tr>\n",
       "      <th>4</th>\n",
       "      <td>Bird Measurer (Assessment)</td>\n",
       "      <td>0060b5da47c841d3</td>\n",
       "      <td>1</td>\n",
       "      <td>True</td>\n",
       "      <td>3</td>\n",
       "      <td>1.00</td>\n",
       "      <td>1</td>\n",
       "    </tr>\n",
       "    <tr>\n",
       "      <th>...</th>\n",
       "      <td>...</td>\n",
       "      <td>...</td>\n",
       "      <td>...</td>\n",
       "      <td>...</td>\n",
       "      <td>...</td>\n",
       "      <td>...</td>\n",
       "      <td>...</td>\n",
       "    </tr>\n",
       "    <tr>\n",
       "      <th>17685</th>\n",
       "      <td>Mushroom Sorter (Assessment)</td>\n",
       "      <td>ffde5ebf5d6df684</td>\n",
       "      <td>1</td>\n",
       "      <td>True</td>\n",
       "      <td>3</td>\n",
       "      <td>1.00</td>\n",
       "      <td>1</td>\n",
       "    </tr>\n",
       "    <tr>\n",
       "      <th>17686</th>\n",
       "      <td>Mushroom Sorter (Assessment)</td>\n",
       "      <td>ffe06fe14beb0276</td>\n",
       "      <td>1</td>\n",
       "      <td>True</td>\n",
       "      <td>3</td>\n",
       "      <td>1.00</td>\n",
       "      <td>1</td>\n",
       "    </tr>\n",
       "    <tr>\n",
       "      <th>17687</th>\n",
       "      <td>Mushroom Sorter (Assessment)</td>\n",
       "      <td>ffe4149114747eb7</td>\n",
       "      <td>2</td>\n",
       "      <td>1</td>\n",
       "      <td>2</td>\n",
       "      <td>0.50</td>\n",
       "      <td>1</td>\n",
       "    </tr>\n",
       "    <tr>\n",
       "      <th>17688</th>\n",
       "      <td>Mushroom Sorter (Assessment)</td>\n",
       "      <td>ffe43e55c3f6a209</td>\n",
       "      <td>2</td>\n",
       "      <td>1</td>\n",
       "      <td>2</td>\n",
       "      <td>0.50</td>\n",
       "      <td>1</td>\n",
       "    </tr>\n",
       "    <tr>\n",
       "      <th>17689</th>\n",
       "      <td>Mushroom Sorter (Assessment)</td>\n",
       "      <td>fff641eaf483ae2b</td>\n",
       "      <td>1</td>\n",
       "      <td>True</td>\n",
       "      <td>3</td>\n",
       "      <td>1.00</td>\n",
       "      <td>1</td>\n",
       "    </tr>\n",
       "  </tbody>\n",
       "</table>\n",
       "<p>17690 rows × 7 columns</p>\n",
       "</div>"
      ],
      "text/plain": [
       "                              title      game_session  count    sum  \\\n",
       "0        Bird Measurer (Assessment)  0014403daadf67aa      4      1   \n",
       "1        Bird Measurer (Assessment)  001c49e9e9968dbe      2      1   \n",
       "2        Bird Measurer (Assessment)  002396a496a0c1c7      1   True   \n",
       "3        Bird Measurer (Assessment)  0024681d73e46aca      1  False   \n",
       "4        Bird Measurer (Assessment)  0060b5da47c841d3      1   True   \n",
       "...                             ...               ...    ...    ...   \n",
       "17685  Mushroom Sorter (Assessment)  ffde5ebf5d6df684      1   True   \n",
       "17686  Mushroom Sorter (Assessment)  ffe06fe14beb0276      1   True   \n",
       "17687  Mushroom Sorter (Assessment)  ffe4149114747eb7      2      1   \n",
       "17688  Mushroom Sorter (Assessment)  ffe43e55c3f6a209      2      1   \n",
       "17689  Mushroom Sorter (Assessment)  fff641eaf483ae2b      1   True   \n",
       "\n",
       "       group_score  accuracy  success_rate  \n",
       "0                1      0.25             1  \n",
       "1                2      0.50             1  \n",
       "2                3      1.00             1  \n",
       "3                0      0.00             0  \n",
       "4                3      1.00             1  \n",
       "...            ...       ...           ...  \n",
       "17685            3      1.00             1  \n",
       "17686            3      1.00             1  \n",
       "17687            2      0.50             1  \n",
       "17688            2      0.50             1  \n",
       "17689            3      1.00             1  \n",
       "\n",
       "[17690 rows x 7 columns]"
      ]
     },
     "execution_count": 67,
     "metadata": {},
     "output_type": "execute_result"
    }
   ],
   "source": [
    "score_table"
   ]
  },
  {
   "cell_type": "code",
   "execution_count": 68,
   "metadata": {},
   "outputs": [],
   "source": [
    "score_table = train_with_ass.loc[(((train_with_ass.title=='Bird Measurer (Assessment)') & (train_with_ass.event_code==4110)) |\n",
    "                ((train_with_ass.title!='Bird Measurer (Assessment)') & \n",
    "                 (train_with_ass.event_code==4100) &\n",
    "                 (train_with_ass.type=='Assessment')))].groupby(['title','game_session'])['correct'].agg(['count','sum']).reset_index()\n",
    "\n",
    "score_table['group_score'] = 0\n",
    "score_table['accuracy'] = 0\n",
    "score_table['success_rate'] = 1\n",
    "\n",
    "for row in range(score_table.shape[0]):\n",
    "    if score_table.loc[row,'sum']==0:  # mission did not completed\n",
    "        score_table.loc[row,'success_rate'] = 0\n",
    "    elif score_table.loc[row,'count'] == 1:\n",
    "        score_table.loc[row,'group_score'] = 3\n",
    "        score_table.loc[row,'accuracy'] =  (1 / score_table.loc[row,'count'])\n",
    "\n",
    "    elif score_table.loc[row,'count'] > 2:\n",
    "        score_table.loc[row,'group_score'] = 1\n",
    "        score_table.loc[row,'accuracy'] = (1 / score_table.loc[row,'count'])\n",
    "    else:\n",
    "        score_table.loc[row,'group_score'] = 2\n",
    "        score_table.loc[row,'accuracy'] = (1 / score_table.loc[row,'count'])\n",
    "\n",
    "\n",
    "game_stats =  score_table.groupby('title')['group_score','accuracy','success_rate'].agg({\n",
    "    'group_score':'mean','accuracy':'mean','success_rate':['sum','count']\n",
    "    }).reset_index()\n"
   ]
  },
  {
   "cell_type": "code",
   "execution_count": 69,
   "metadata": {},
   "outputs": [],
   "source": [
    "game_stats['success_rate'] = (game_stats['success_rate']['sum']) / game_stats['success_rate']['count']"
   ]
  },
  {
   "cell_type": "code",
   "execution_count": 70,
   "metadata": {},
   "outputs": [],
   "source": [
    "game_stats.columns = game_stats.columns.droplevel(1)\n",
    "game_stats = game_stats.T.drop_duplicates().T.set_index('title')"
   ]
  },
  {
   "cell_type": "code",
   "execution_count": 71,
   "metadata": {},
   "outputs": [],
   "source": [
    "game_stats.group_score = game_stats.group_score.astype(float)\n",
    "game_stats.accuracy = game_stats.accuracy.astype(float)\n",
    "game_stats.success_rate = game_stats.success_rate.astype(float)"
   ]
  },
  {
   "cell_type": "code",
   "execution_count": 72,
   "metadata": {},
   "outputs": [
    {
     "data": {
      "text/html": [
       "<div>\n",
       "<style scoped>\n",
       "    .dataframe tbody tr th:only-of-type {\n",
       "        vertical-align: middle;\n",
       "    }\n",
       "\n",
       "    .dataframe tbody tr th {\n",
       "        vertical-align: top;\n",
       "    }\n",
       "\n",
       "    .dataframe thead th {\n",
       "        text-align: right;\n",
       "    }\n",
       "</style>\n",
       "<table border=\"1\" class=\"dataframe\">\n",
       "  <thead>\n",
       "    <tr style=\"text-align: right;\">\n",
       "      <th></th>\n",
       "      <th>group_score</th>\n",
       "      <th>accuracy</th>\n",
       "      <th>success_rate</th>\n",
       "    </tr>\n",
       "  </thead>\n",
       "  <tbody>\n",
       "    <tr>\n",
       "      <th>group_score</th>\n",
       "      <td>1.000000</td>\n",
       "      <td>0.998991</td>\n",
       "      <td>0.971444</td>\n",
       "    </tr>\n",
       "    <tr>\n",
       "      <th>accuracy</th>\n",
       "      <td>0.998991</td>\n",
       "      <td>1.000000</td>\n",
       "      <td>0.959823</td>\n",
       "    </tr>\n",
       "    <tr>\n",
       "      <th>success_rate</th>\n",
       "      <td>0.971444</td>\n",
       "      <td>0.959823</td>\n",
       "      <td>1.000000</td>\n",
       "    </tr>\n",
       "  </tbody>\n",
       "</table>\n",
       "</div>"
      ],
      "text/plain": [
       "              group_score  accuracy  success_rate\n",
       "group_score      1.000000  0.998991      0.971444\n",
       "accuracy         0.998991  1.000000      0.959823\n",
       "success_rate     0.971444  0.959823      1.000000"
      ]
     },
     "execution_count": 72,
     "metadata": {},
     "output_type": "execute_result"
    }
   ],
   "source": [
    "game_stats.corr()"
   ]
  },
  {
   "cell_type": "code",
   "execution_count": 73,
   "metadata": {},
   "outputs": [],
   "source": [
    "#  I'll drop group_score attribute because od high correaltion with accuracy\n",
    "\n",
    "game_stats.drop(columns=['group_score'], inplace=True)"
   ]
  },
  {
   "cell_type": "code",
   "execution_count": 74,
   "metadata": {},
   "outputs": [
    {
     "data": {
      "text/html": [
       "<div>\n",
       "<style scoped>\n",
       "    .dataframe tbody tr th:only-of-type {\n",
       "        vertical-align: middle;\n",
       "    }\n",
       "\n",
       "    .dataframe tbody tr th {\n",
       "        vertical-align: top;\n",
       "    }\n",
       "\n",
       "    .dataframe thead th {\n",
       "        text-align: right;\n",
       "    }\n",
       "</style>\n",
       "<table border=\"1\" class=\"dataframe\">\n",
       "  <thead>\n",
       "    <tr style=\"text-align: right;\">\n",
       "      <th></th>\n",
       "      <th>accuracy</th>\n",
       "      <th>success_rate</th>\n",
       "    </tr>\n",
       "    <tr>\n",
       "      <th>title</th>\n",
       "      <th></th>\n",
       "      <th></th>\n",
       "    </tr>\n",
       "  </thead>\n",
       "  <tbody>\n",
       "    <tr>\n",
       "      <th>Bird Measurer (Assessment)</th>\n",
       "      <td>0.387379</td>\n",
       "      <td>0.677349</td>\n",
       "    </tr>\n",
       "    <tr>\n",
       "      <th>Cart Balancer (Assessment)</th>\n",
       "      <td>0.742232</td>\n",
       "      <td>0.861238</td>\n",
       "    </tr>\n",
       "    <tr>\n",
       "      <th>Cauldron Filler (Assessment)</th>\n",
       "      <td>0.735537</td>\n",
       "      <td>0.896178</td>\n",
       "    </tr>\n",
       "    <tr>\n",
       "      <th>Chest Sorter (Assessment)</th>\n",
       "      <td>0.248625</td>\n",
       "      <td>0.412278</td>\n",
       "    </tr>\n",
       "    <tr>\n",
       "      <th>Mushroom Sorter (Assessment)</th>\n",
       "      <td>0.711042</td>\n",
       "      <td>0.841895</td>\n",
       "    </tr>\n",
       "  </tbody>\n",
       "</table>\n",
       "</div>"
      ],
      "text/plain": [
       "                              accuracy  success_rate\n",
       "title                                               \n",
       "Bird Measurer (Assessment)    0.387379      0.677349\n",
       "Cart Balancer (Assessment)    0.742232      0.861238\n",
       "Cauldron Filler (Assessment)  0.735537      0.896178\n",
       "Chest Sorter (Assessment)     0.248625      0.412278\n",
       "Mushroom Sorter (Assessment)  0.711042      0.841895"
      ]
     },
     "execution_count": 74,
     "metadata": {},
     "output_type": "execute_result"
    }
   ],
   "source": [
    "game_stats"
   ]
  },
  {
   "cell_type": "markdown",
   "metadata": {},
   "source": [
    "# **Game Overall Success Rate** "
   ]
  },
  {
   "cell_type": "code",
   "execution_count": 75,
   "metadata": {},
   "outputs": [
    {
     "data": {
      "text/html": [
       "<div>\n",
       "<style scoped>\n",
       "    .dataframe tbody tr th:only-of-type {\n",
       "        vertical-align: middle;\n",
       "    }\n",
       "\n",
       "    .dataframe tbody tr th {\n",
       "        vertical-align: top;\n",
       "    }\n",
       "\n",
       "    .dataframe thead th {\n",
       "        text-align: right;\n",
       "    }\n",
       "</style>\n",
       "<table border=\"1\" class=\"dataframe\">\n",
       "  <thead>\n",
       "    <tr style=\"text-align: right;\">\n",
       "      <th>correct</th>\n",
       "      <th>title</th>\n",
       "      <th>False</th>\n",
       "      <th>True</th>\n",
       "    </tr>\n",
       "  </thead>\n",
       "  <tbody>\n",
       "    <tr>\n",
       "      <th>0</th>\n",
       "      <td>Bird Measurer (Assessment)</td>\n",
       "      <td>9298</td>\n",
       "      <td>1860</td>\n",
       "    </tr>\n",
       "    <tr>\n",
       "      <th>1</th>\n",
       "      <td>Cart Balancer (Assessment)</td>\n",
       "      <td>3122</td>\n",
       "      <td>3575</td>\n",
       "    </tr>\n",
       "    <tr>\n",
       "      <th>2</th>\n",
       "      <td>Cauldron Filler (Assessment)</td>\n",
       "      <td>3834</td>\n",
       "      <td>3634</td>\n",
       "    </tr>\n",
       "    <tr>\n",
       "      <th>3</th>\n",
       "      <td>Chest Sorter (Assessment)</td>\n",
       "      <td>8738</td>\n",
       "      <td>1229</td>\n",
       "    </tr>\n",
       "    <tr>\n",
       "      <th>4</th>\n",
       "      <td>Mushroom Sorter (Assessment)</td>\n",
       "      <td>3096</td>\n",
       "      <td>3163</td>\n",
       "    </tr>\n",
       "  </tbody>\n",
       "</table>\n",
       "</div>"
      ],
      "text/plain": [
       "correct                         title  False  True\n",
       "0          Bird Measurer (Assessment)   9298  1860\n",
       "1          Cart Balancer (Assessment)   3122  3575\n",
       "2        Cauldron Filler (Assessment)   3834  3634\n",
       "3           Chest Sorter (Assessment)   8738  1229\n",
       "4        Mushroom Sorter (Assessment)   3096  3163"
      ]
     },
     "execution_count": 75,
     "metadata": {},
     "output_type": "execute_result"
    }
   ],
   "source": [
    "overall_success = train_with_ass.loc[(((train_with_ass.title=='Bird Measurer (Assessment)') & \n",
    "                                       (train_with_ass.event_code==4110)) |\n",
    "                ((train_with_ass.title!='Bird Measurer (Assessment)') & (train_with_ass.event_code==4100)& \n",
    "                 (train_with_ass.type=='Assessment')))].pivot_table(index='title',\n",
    "                                                                    columns='correct',\n",
    "                                                                    values='type',\n",
    "                                                                    aggfunc='count')\n",
    "overall_success = overall_success.reset_index()\n",
    "overall_success"
   ]
  },
  {
   "cell_type": "code",
   "execution_count": 76,
   "metadata": {},
   "outputs": [],
   "source": [
    "overall_success.set_index('title', inplace=True)\n",
    "overall_success['success_rate'] = overall_success[True] / (overall_success[True] + overall_success[False])"
   ]
  },
  {
   "cell_type": "code",
   "execution_count": 77,
   "metadata": {},
   "outputs": [],
   "source": [
    "# adding overall success rate to the game statistics\n",
    "\n",
    "overall_success_rate = overall_success.success_rate\n",
    "overall_success_rate.name = 'overall_success_rate'\n",
    "game_stats = game_stats.join(overall_success_rate)"
   ]
  },
  {
   "cell_type": "code",
   "execution_count": 78,
   "metadata": {},
   "outputs": [
    {
     "data": {
      "text/html": [
       "<div>\n",
       "<style scoped>\n",
       "    .dataframe tbody tr th:only-of-type {\n",
       "        vertical-align: middle;\n",
       "    }\n",
       "\n",
       "    .dataframe tbody tr th {\n",
       "        vertical-align: top;\n",
       "    }\n",
       "\n",
       "    .dataframe thead th {\n",
       "        text-align: right;\n",
       "    }\n",
       "</style>\n",
       "<table border=\"1\" class=\"dataframe\">\n",
       "  <thead>\n",
       "    <tr style=\"text-align: right;\">\n",
       "      <th></th>\n",
       "      <th>accuracy</th>\n",
       "      <th>success_rate</th>\n",
       "      <th>overall_success_rate</th>\n",
       "    </tr>\n",
       "  </thead>\n",
       "  <tbody>\n",
       "    <tr>\n",
       "      <th>accuracy</th>\n",
       "      <td>1.000000</td>\n",
       "      <td>0.959823</td>\n",
       "      <td>0.987182</td>\n",
       "    </tr>\n",
       "    <tr>\n",
       "      <th>success_rate</th>\n",
       "      <td>0.959823</td>\n",
       "      <td>1.000000</td>\n",
       "      <td>0.904382</td>\n",
       "    </tr>\n",
       "    <tr>\n",
       "      <th>overall_success_rate</th>\n",
       "      <td>0.987182</td>\n",
       "      <td>0.904382</td>\n",
       "      <td>1.000000</td>\n",
       "    </tr>\n",
       "  </tbody>\n",
       "</table>\n",
       "</div>"
      ],
      "text/plain": [
       "                      accuracy  success_rate  overall_success_rate\n",
       "accuracy              1.000000      0.959823              0.987182\n",
       "success_rate          0.959823      1.000000              0.904382\n",
       "overall_success_rate  0.987182      0.904382              1.000000"
      ]
     },
     "execution_count": 78,
     "metadata": {},
     "output_type": "execute_result"
    }
   ],
   "source": [
    "game_stats.corr()"
   ]
  },
  {
   "cell_type": "markdown",
   "metadata": {},
   "source": [
    "For now I'll keep all features eventhough the high correlation."
   ]
  },
  {
   "cell_type": "markdown",
   "metadata": {},
   "source": [
    "# Calculating Train Label\n",
    "The train label wasn't calculated for the test set so I'll bulid the function to calculate the target label and use it also for the train set."
   ]
  },
  {
   "cell_type": "code",
   "execution_count": 79,
   "metadata": {},
   "outputs": [],
   "source": [
    "def label_group_score(installaion_group):\n",
    "    \n",
    "    ### function for calculating the group_score by df\n",
    "    ### input: installaion_group\n",
    "    ### output: accuracy_group\n",
    "\n",
    "    local_df = installaion_group.loc[(((installaion_group.title=='Bird Measurer (Assessment)') & (installaion_group.event_code==4110)) |\n",
    "                ((installaion_group.title!='Bird Measurer (Assessment)') & (installaion_group.event_code==4100)&\n",
    "                 (installaion_group.type=='Assessment')))]\n",
    "    score_table = local_df.groupby(['title','game_session'])['correct'].agg(['count','sum']).reset_index()\n",
    "\n",
    "    scores = [0 for row in range(len(score_table))]\n",
    "    for row in range(len(score_table)):\n",
    "        if score_table.loc[row,'sum']==0:\n",
    "            scores[row] = 0\n",
    "        elif score_table.loc[row,'count'] == 1:\n",
    "            scores[row] = 3\n",
    "        elif score_table.loc[row,'count'] > 2:\n",
    "            scores[row] = 1\n",
    "        else:\n",
    "            scores[row] = 2\n",
    "    score_table['accuracy_group'] = pd.Series(scores)\n",
    "    score_table.set_index('game_session', inplace=True)\n",
    "    return score_table['accuracy_group']"
   ]
  },
  {
   "cell_type": "code",
   "execution_count": 80,
   "metadata": {},
   "outputs": [],
   "source": [
    "ins_groups = train_with_ass.groupby(['installation_id'])\n",
    "accuracy_group = []\n",
    "for name, group in ins_groups:\n",
    "    accuracy_group.append(label_group_score(group))"
   ]
  },
  {
   "cell_type": "code",
   "execution_count": 81,
   "metadata": {},
   "outputs": [],
   "source": [
    "accuracy_group = pd.concat(accuracy_group)"
   ]
  },
  {
   "cell_type": "code",
   "execution_count": 82,
   "metadata": {},
   "outputs": [
    {
     "data": {
      "text/plain": [
       "game_session\n",
       "77b8ee947eb84b4e    0\n",
       "a9ef3ecb3d1acc6a    3\n",
       "6bdf9623adc94d89    3\n",
       "901acc108f55a5a1    3\n",
       "9501794defd84e4d    2\n",
       "Name: accuracy_group, dtype: int64"
      ]
     },
     "execution_count": 82,
     "metadata": {},
     "output_type": "execute_result"
    }
   ],
   "source": [
    "accuracy_group[:5]"
   ]
  },
  {
   "cell_type": "markdown",
   "metadata": {},
   "source": [
    "# Constructing The Training Dataset"
   ]
  },
  {
   "cell_type": "code",
   "execution_count": 83,
   "metadata": {},
   "outputs": [],
   "source": [
    "train_agg = train_with_ass.loc[(((train_with_ass.title=='Bird Measurer (Assessment)') \n",
    "                                        & (train_with_ass.event_code==4110)) |\n",
    "                                            ((train_with_ass.title!='Bird Measurer (Assessment)') \n",
    "                                             & (train_with_ass.event_code==4100)& \n",
    "                                             (train_with_ass.type=='Assessment')))]"
   ]
  },
  {
   "cell_type": "code",
   "execution_count": 84,
   "metadata": {},
   "outputs": [],
   "source": [
    "train_agg = train_agg.merge(main_features, how='left', left_on=['timestamp','installation_id'],\n",
    "             right_on=['timestamp','installation_id'])"
   ]
  },
  {
   "cell_type": "code",
   "execution_count": 85,
   "metadata": {},
   "outputs": [],
   "source": [
    "train_agg = train_agg.merge(game_stats, left_on='title', right_index=True,\n",
    "                             how='left')"
   ]
  },
  {
   "cell_type": "code",
   "execution_count": 86,
   "metadata": {},
   "outputs": [],
   "source": [
    "train_agg = train_agg.merge(accuracy_group, left_on='game_session', right_index=True,\n",
    "                             how='left')"
   ]
  },
  {
   "cell_type": "markdown",
   "metadata": {},
   "source": [
    "### New Features - Hour of Day & Weekday\n",
    "**I'll use these attributes as (cyclical) features**"
   ]
  },
  {
   "cell_type": "code",
   "execution_count": 87,
   "metadata": {},
   "outputs": [],
   "source": [
    "train_agg.drop(columns=['time','date'],inplace=True)\n",
    "train_agg['weekday'] = train_agg.timestamp.dt.weekday\n",
    "train_agg['hour_of_day'] = train_agg.timestamp.dt.hour"
   ]
  },
  {
   "cell_type": "code",
   "execution_count": 88,
   "metadata": {},
   "outputs": [],
   "source": [
    "train_agg['sin_time'] = np.sin(2 * np.pi * train_agg.hour_of_day/24)\n",
    "train_agg['cos_time'] = np.cos(2 * np.pi * train_agg.hour_of_day/24)\n",
    "train_agg['sin_weekday'] = np.sin(2 * np.pi * train_agg.weekday/7)\n",
    "train_agg['cos_weekday'] = np.cos(2 * np.pi * train_agg.weekday/7)\n",
    "\n",
    "train_agg.drop(columns=['hour_of_day','weekday'], inplace=True)"
   ]
  },
  {
   "cell_type": "code",
   "execution_count": 89,
   "metadata": {},
   "outputs": [
    {
     "data": {
      "text/plain": [
       "(41549, 549)"
      ]
     },
     "execution_count": 89,
     "metadata": {},
     "output_type": "execute_result"
    }
   ],
   "source": [
    "train_agg_clean = train_agg.drop(columns=['timestamp', 'game_session',\n",
    "                                        'type','index', 'correct',\n",
    "                                         'event_code','event_id',\n",
    "                                         'event_count','game_time'])\n",
    "\n",
    "train_agg_clean.shape"
   ]
  },
  {
   "cell_type": "markdown",
   "metadata": {},
   "source": [
    "## Converting Categorical Features Into Numeric"
   ]
  },
  {
   "cell_type": "code",
   "execution_count": 90,
   "metadata": {},
   "outputs": [
    {
     "data": {
      "text/plain": [
       "installation_id                                          object\n",
       "world                                                    object\n",
       "title                                                    object\n",
       "Bird Measurer (Assessment)_group_0                        int64\n",
       "Bird Measurer (Assessment)_group_1                        int64\n",
       "Bird Measurer (Assessment)_group_2                        int64\n",
       "Bird Measurer (Assessment)_group_3                        int64\n",
       "Cart Balancer (Assessment)_group_0                        int64\n",
       "Cart Balancer (Assessment)_group_1                        int64\n",
       "Cart Balancer (Assessment)_group_2                        int64\n",
       "Cart Balancer (Assessment)_group_3                        int64\n",
       "Cauldron Filler (Assessment)_group_0                      int64\n",
       "Cauldron Filler (Assessment)_group_1                      int64\n",
       "Cauldron Filler (Assessment)_group_2                      int64\n",
       "Cauldron Filler (Assessment)_group_3                      int64\n",
       "Chest Sorter (Assessment)_group_0                         int64\n",
       "Chest Sorter (Assessment)_group_1                         int64\n",
       "Chest Sorter (Assessment)_group_2                         int64\n",
       "Chest Sorter (Assessment)_group_3                         int64\n",
       "Mushroom Sorter (Assessment)_group_0                      int64\n",
       "Mushroom Sorter (Assessment)_group_1                      int64\n",
       "Mushroom Sorter (Assessment)_group_2                      int64\n",
       "Mushroom Sorter (Assessment)_group_3                      int64\n",
       "avg_accuracy_prev_games_Bird Measurer (Assessment)      float64\n",
       "avg_accuracy_prev_games_Cart Balancer (Assessment)      float64\n",
       "avg_accuracy_prev_games_Cauldron Filler (Assessment)    float64\n",
       "avg_accuracy_prev_games_Chest Sorter (Assessment)       float64\n",
       "avg_accuracy_prev_games_Mushroom Sorter (Assessment)    float64\n",
       "avg_accuracy_world_CRYSTALCAVES                         float64\n",
       "avg_accuracy_world_MAGMAPEAK                            float64\n",
       "avg_accuracy_world_TREETOPCITY                          float64\n",
       "avg_group_score_Bird Measurer (Assessment)              float64\n",
       "avg_group_score_Cart Balancer (Assessment)              float64\n",
       "avg_group_score_Cauldron Filler (Assessment)            float64\n",
       "avg_group_score_Chest Sorter (Assessment)               float64\n",
       "avg_group_score_Mushroom Sorter (Assessment)            float64\n",
       "avg_group_world_CRYSTALCAVES                            float64\n",
       "avg_group_world_MAGMAPEAK                               float64\n",
       "avg_group_world_TREETOPCITY                             float64\n",
       "cumsum_accuracy                                         float64\n",
       "event_code_0086365d                                       int64\n",
       "event_code_00c73085                                       int64\n",
       "event_code_01ca3a3c                                       int64\n",
       "event_code_022b4259                                       int64\n",
       "event_code_02a42007                                       int64\n",
       "event_code_0330ab6a                                       int64\n",
       "event_code_0413e89d                                       int64\n",
       "event_code_04df9b66                                       int64\n",
       "event_code_05ad839b                                       int64\n",
       "event_code_06372577                                       int64\n",
       "event_code_070a5291                                       int64\n",
       "event_code_08fd73f3                                       int64\n",
       "event_code_08ff79ad                                       int64\n",
       "event_code_0a08139c                                       int64\n",
       "event_code_0ce40006                                       int64\n",
       "event_code_0d18d96c                                       int64\n",
       "event_code_0d1da71f                                       int64\n",
       "event_code_0db6d71d                                       int64\n",
       "event_code_119b5b02                                       int64\n",
       "event_code_1325467d                                       int64\n",
       "event_code_1340b8d7                                       int64\n",
       "event_code_1375ccb7                                       int64\n",
       "event_code_13f56524                                       int64\n",
       "event_code_14de4c5d                                       int64\n",
       "event_code_155f62a4                                       int64\n",
       "event_code_1575e76c                                       int64\n",
       "event_code_15a43e5b                                       int64\n",
       "event_code_15ba1109                                       int64\n",
       "event_code_15eb4a7d                                       int64\n",
       "event_code_15f99afc                                       int64\n",
       "event_code_160654fd                                       int64\n",
       "event_code_16667cc5                                       int64\n",
       "event_code_16dffff1                                       int64\n",
       "event_code_17113b36                                       int64\n",
       "event_code_19967db1                                       int64\n",
       "event_code_1996c610                                       int64\n",
       "event_code_1af8be29                                       int64\n",
       "event_code_1b54d27f                                       int64\n",
       "event_code_1bb5fbdb                                       int64\n",
       "event_code_1beb320a                                       int64\n",
       "event_code_1c178d24                                       int64\n",
       "event_code_1cc7cfca                                       int64\n",
       "event_code_1cf54632                                       int64\n",
       "event_code_1f19558b                                       int64\n",
       "event_code_2000                                           int64\n",
       "event_code_2010                                           int64\n",
       "event_code_2020                                           int64\n",
       "event_code_2025                                           int64\n",
       "event_code_2030                                           int64\n",
       "event_code_2035                                           int64\n",
       "event_code_2040                                           int64\n",
       "event_code_2050                                           int64\n",
       "event_code_2060                                           int64\n",
       "event_code_2070                                           int64\n",
       "event_code_2075                                           int64\n",
       "event_code_2080                                           int64\n",
       "event_code_2081                                           int64\n",
       "event_code_2083                                           int64\n",
       "event_code_222660ff                                       int64\n",
       "event_code_2230fab4                                       int64\n",
       "event_code_250513af                                       int64\n",
       "event_code_25fa8af4                                       int64\n",
       "event_code_262136f4                                       int64\n",
       "event_code_26a5a3dd                                       int64\n",
       "event_code_26fd2d99                                       int64\n",
       "event_code_28520915                                       int64\n",
       "event_code_28a4eb9a                                       int64\n",
       "event_code_28ed704e                                       int64\n",
       "event_code_28f975ea                                       int64\n",
       "event_code_29a42aea                                       int64\n",
       "event_code_29bdd9ba                                       int64\n",
       "event_code_29f54413                                       int64\n",
       "event_code_2a444e03                                       int64\n",
       "event_code_2a512369                                       int64\n",
       "event_code_2b058fe3                                       int64\n",
       "event_code_2b9272f4                                       int64\n",
       "event_code_2c4e6db0                                       int64\n",
       "event_code_2dc29e21                                       int64\n",
       "event_code_2dcad279                                       int64\n",
       "event_code_2ec694de                                       int64\n",
       "event_code_2fb91ec1                                       int64\n",
       "event_code_3010                                           int64\n",
       "event_code_3020                                           int64\n",
       "event_code_3021                                           int64\n",
       "event_code_30614231                                       int64\n",
       "event_code_30df3273                                       int64\n",
       "event_code_3110                                           int64\n",
       "event_code_3120                                           int64\n",
       "event_code_3121                                           int64\n",
       "event_code_31973d56                                       int64\n",
       "event_code_3323d7e9                                       int64\n",
       "event_code_33505eae                                       int64\n",
       "event_code_3393b68b                                       int64\n",
       "event_code_363c86c9                                       int64\n",
       "event_code_363d3849                                       int64\n",
       "event_code_36fa3ebe                                       int64\n",
       "event_code_37937459                                       int64\n",
       "event_code_37c53127                                       int64\n",
       "event_code_37db1c2f                                       int64\n",
       "event_code_37ee8496                                       int64\n",
       "event_code_38074c54                                       int64\n",
       "event_code_392e14df                                       int64\n",
       "event_code_3a4be871                                       int64\n",
       "event_code_3afb49e6                                       int64\n",
       "event_code_3afde5dd                                       int64\n",
       "event_code_3b2048ee                                       int64\n",
       "event_code_3babcb9b                                       int64\n",
       "event_code_3bb91ced                                       int64\n",
       "event_code_3bb91dda                                       int64\n",
       "event_code_3bf1cf26                                       int64\n",
       "event_code_3bfd1a65                                       int64\n",
       "event_code_3ccd3f02                                       int64\n",
       "event_code_3d0b9317                                       int64\n",
       "event_code_3d63345e                                       int64\n",
       "event_code_3d8c61b0                                       int64\n",
       "event_code_3dcdda7f                                       int64\n",
       "event_code_3ddc79c3                                       int64\n",
       "event_code_3dfd4aa4                                       int64\n",
       "event_code_3edf6747                                       int64\n",
       "event_code_3ee399c3                                       int64\n",
       "event_code_4010                                           int64\n",
       "event_code_4020                                           int64\n",
       "event_code_4021                                           int64\n",
       "event_code_4022                                           int64\n",
       "event_code_4025                                           int64\n",
       "event_code_4030                                           int64\n",
       "event_code_4031                                           int64\n",
       "event_code_4035                                           int64\n",
       "event_code_4040                                           int64\n",
       "event_code_4045                                           int64\n",
       "event_code_4050                                           int64\n",
       "event_code_4070                                           int64\n",
       "event_code_4080                                           int64\n",
       "event_code_4090                                           int64\n",
       "event_code_4095                                           int64\n",
       "event_code_4100                                           int64\n",
       "event_code_4110                                           int64\n",
       "event_code_4220                                           int64\n",
       "event_code_4230                                           int64\n",
       "event_code_4235                                           int64\n",
       "event_code_44cb4907                                       int64\n",
       "event_code_45d01abe                                       int64\n",
       "event_code_461eace6                                       int64\n",
       "event_code_46b50ba8                                       int64\n",
       "event_code_46cd75b4                                       int64\n",
       "event_code_47026d5f                                       int64\n",
       "event_code_47efca07                                       int64\n",
       "event_code_47f43a44                                       int64\n",
       "event_code_48349b14                                       int64\n",
       "event_code_4901243f                                       int64\n",
       "event_code_499edb7c                                       int64\n",
       "event_code_49ed92e9                                       int64\n",
       "event_code_4a09ace1                                       int64\n",
       "event_code_4a4c3d21                                       int64\n",
       "event_code_4b5efe37                                       int64\n",
       "event_code_4bb2f698                                       int64\n",
       "event_code_4c2ec19f                                       int64\n",
       "event_code_4d6737eb                                       int64\n",
       "event_code_4d911100                                       int64\n",
       "event_code_4e5fc6f5                                       int64\n",
       "event_code_4ef8cdd3                                       int64\n",
       "event_code_5000                                           int64\n",
       "event_code_5010                                           int64\n",
       "event_code_51102b85                                       int64\n",
       "event_code_51311d7a                                       int64\n",
       "event_code_5154fc30                                       int64\n",
       "event_code_5290eab1                                       int64\n",
       "event_code_532a2afb                                       int64\n",
       "event_code_5348fd84                                       int64\n",
       "event_code_53c6e11a                                       int64\n",
       "event_code_55115cbd                                       int64\n",
       "event_code_562cec5f                                       int64\n",
       "event_code_565a3990                                       int64\n",
       "event_code_56817e2b                                       int64\n",
       "event_code_56bcd38d                                       int64\n",
       "event_code_56cd3b43                                       int64\n",
       "event_code_5859dfb6                                       int64\n",
       "event_code_587b5989                                       int64\n",
       "event_code_58a0de5c                                       int64\n",
       "event_code_598f4598                                       int64\n",
       "event_code_5a848010                                       int64\n",
       "event_code_5b49460a                                       int64\n",
       "event_code_5be391b5                                       int64\n",
       "event_code_5c2f29ca                                       int64\n",
       "event_code_5c3d2b2f                                       int64\n",
       "event_code_5d042115                                       int64\n",
       "event_code_5de79a6a                                       int64\n",
       "event_code_5e109ec3                                       int64\n",
       "event_code_5e3ea25a                                       int64\n",
       "event_code_5e812b27                                       int64\n",
       "event_code_5f0eb72c                                       int64\n",
       "event_code_5f5b2617                                       int64\n",
       "event_code_6043a2b4                                       int64\n",
       "event_code_6077cc36                                       int64\n",
       "event_code_6088b756                                       int64\n",
       "event_code_611485c5                                       int64\n",
       "event_code_63f13dd7                                       int64\n",
       "event_code_65a38bf7                                       int64\n",
       "event_code_65abac75                                       int64\n",
       "event_code_67439901                                       int64\n",
       "event_code_67aa2ada                                       int64\n",
       "event_code_69fdac0a                                       int64\n",
       "event_code_6aeafed4                                       int64\n",
       "event_code_6bf9e3e1                                       int64\n",
       "event_code_6c517a88                                       int64\n",
       "event_code_6c930e6e                                       int64\n",
       "event_code_6cf7d25c                                       int64\n",
       "event_code_6d90d394                                       int64\n",
       "event_code_6f445b57                                       int64\n",
       "event_code_6f4adc4b                                       int64\n",
       "event_code_6f4bd64e                                       int64\n",
       "event_code_6f8106d9                                       int64\n",
       "event_code_7040c096                                       int64\n",
       "event_code_709b1251                                       int64\n",
       "event_code_71e712d8                                       int64\n",
       "event_code_71fe8f75                                       int64\n",
       "event_code_731c0cbe                                       int64\n",
       "event_code_736f9581                                       int64\n",
       "event_code_7372e1a5                                       int64\n",
       "event_code_73757a5e                                       int64\n",
       "event_code_7423acbc                                       int64\n",
       "event_code_74e5f8a7                                       int64\n",
       "event_code_7525289a                                       int64\n",
       "event_code_756e5507                                       int64\n",
       "event_code_763fc34e                                       int64\n",
       "event_code_76babcde                                       int64\n",
       "event_code_77261ab5                                       int64\n",
       "event_code_77c76bc5                                       int64\n",
       "event_code_77ead60d                                       int64\n",
       "event_code_792530f8                                       int64\n",
       "event_code_795e4a37                                       int64\n",
       "event_code_7961e599                                       int64\n",
       "event_code_7ab78247                                       int64\n",
       "event_code_7ad3efc6                                       int64\n",
       "event_code_7cf1bc53                                       int64\n",
       "event_code_7d093bf9                                       int64\n",
       "event_code_7d5c30a2                                       int64\n",
       "event_code_7da34a02                                       int64\n",
       "event_code_7dfe6d8a                                       int64\n",
       "event_code_7ec0c298                                       int64\n",
       "event_code_7f0836bf                                       int64\n",
       "event_code_7fd1ac25                                       int64\n",
       "event_code_804ee27f                                       int64\n",
       "event_code_828e68f9                                       int64\n",
       "event_code_832735e1                                       int64\n",
       "event_code_83c6c409                                       int64\n",
       "event_code_84538528                                       int64\n",
       "event_code_84b0e0c8                                       int64\n",
       "event_code_857f21c0                                       int64\n",
       "event_code_85d1b0de                                       int64\n",
       "event_code_85de926c                                       int64\n",
       "event_code_86ba578b                                       int64\n",
       "event_code_86c924c4                                       int64\n",
       "event_code_87d743c1                                       int64\n",
       "event_code_884228c8                                       int64\n",
       "event_code_88d4a5be                                       int64\n",
       "event_code_895865f3                                       int64\n",
       "event_code_89aace00                                       int64\n",
       "event_code_8ac7cce4                                       int64\n",
       "event_code_8af75982                                       int64\n",
       "event_code_8b757ab8                                       int64\n",
       "event_code_8d748b58                                       int64\n",
       "event_code_8d7e386c                                       int64\n",
       "event_code_8d84fa81                                       int64\n",
       "event_code_8f094001                                       int64\n",
       "event_code_8fee50e2                                       int64\n",
       "event_code_907a054b                                       int64\n",
       "event_code_90d848e0                                       int64\n",
       "event_code_90ea0bac                                       int64\n",
       "event_code_90efca10                                       int64\n",
       "event_code_91561152                                       int64\n",
       "event_code_923afab1                                       int64\n",
       "event_code_92687c59                                       int64\n",
       "event_code_93b353f2                                       int64\n",
       "event_code_93edfe2e                                       int64\n",
       "event_code_9554a50b                                       int64\n",
       "event_code_99abe2bb                                       int64\n",
       "event_code_99ea62f3                                       int64\n",
       "event_code_9b01374f                                       int64\n",
       "event_code_9b23e8ee                                       int64\n",
       "event_code_9b4001e4                                       int64\n",
       "event_code_9c5ef70c                                       int64\n",
       "event_code_9ce586dd                                       int64\n",
       "event_code_9d29771f                                       int64\n",
       "event_code_9d4e7b25                                       int64\n",
       "event_code_9de5e594                                       int64\n",
       "event_code_9e34ea74                                       int64\n",
       "event_code_9e4c8c7b                                       int64\n",
       "event_code_9e6b7fb5                                       int64\n",
       "event_code_9ed8f6da                                       int64\n",
       "event_code_9ee1c98c                                       int64\n",
       "event_code_a0faea5d                                       int64\n",
       "event_code_a1192f43                                       int64\n",
       "event_code_a16a373e                                       int64\n",
       "event_code_a1bbe385                                       int64\n",
       "event_code_a1e4395d                                       int64\n",
       "event_code_a29c5338                                       int64\n",
       "event_code_a2df0760                                       int64\n",
       "event_code_a44b10dc                                       int64\n",
       "event_code_a52b92d5                                       int64\n",
       "event_code_a592d54e                                       int64\n",
       "event_code_a5be6304                                       int64\n",
       "event_code_a5e9da97                                       int64\n",
       "event_code_a6d66e51                                       int64\n",
       "event_code_a76029ee                                       int64\n",
       "event_code_a7640a16                                       int64\n",
       "event_code_a8876db3                                       int64\n",
       "event_code_a8a78786                                       int64\n",
       "event_code_a8efe47b                                       int64\n",
       "event_code_ab3136ba                                       int64\n",
       "event_code_ab4ec3a4                                       int64\n",
       "event_code_abc5811c                                       int64\n",
       "event_code_ac92046e                                       int64\n",
       "event_code_acf5c23f                                       int64\n",
       "event_code_ad148f58                                       int64\n",
       "event_code_ad2fc29c                                       int64\n",
       "event_code_b012cd7f                                       int64\n",
       "event_code_b120f2ac                                       int64\n",
       "event_code_b1d5101d                                       int64\n",
       "event_code_b2dba42b                                       int64\n",
       "event_code_b2e5b0f1                                       int64\n",
       "event_code_b5053438                                       int64\n",
       "event_code_b74258a0                                       int64\n",
       "event_code_b7530680                                       int64\n",
       "event_code_b7dc8128                                       int64\n",
       "event_code_b80e5e84                                       int64\n",
       "event_code_b88f38da                                       int64\n",
       "event_code_bb3e370b                                       int64\n",
       "event_code_bbfe0445                                       int64\n",
       "event_code_bc8f2793                                       int64\n",
       "event_code_bcceccc6                                       int64\n",
       "event_code_bd612267                                       int64\n",
       "event_code_bd701df8                                       int64\n",
       "event_code_bdf49a58                                       int64\n",
       "event_code_beb0a7b9                                       int64\n",
       "event_code_bfc77bd6                                       int64\n",
       "event_code_c0415e5c                                       int64\n",
       "event_code_c189aaf2                                       int64\n",
       "event_code_c1cac9a2                                       int64\n",
       "event_code_c277e121                                       int64\n",
       "event_code_c2baf0bd                                       int64\n",
       "event_code_c51d8688                                       int64\n",
       "event_code_c54cf6c5                                       int64\n",
       "event_code_c58186bf                                       int64\n",
       "event_code_c6971acf                                       int64\n",
       "event_code_c7128948                                       int64\n",
       "event_code_c74f40cd                                       int64\n",
       "event_code_c7f7f0e1                                       int64\n",
       "event_code_c7fe2a55                                       int64\n",
       "event_code_c952eb01                                       int64\n",
       "event_code_ca11f653                                       int64\n",
       "event_code_cb1178ad                                       int64\n",
       "event_code_cb6010f8                                       int64\n",
       "event_code_cc5087a3                                       int64\n",
       "event_code_cdd22e43                                       int64\n",
       "event_code_cf7638f3                                       int64\n",
       "event_code_cf82af56                                       int64\n",
       "event_code_cfbd47c8                                       int64\n",
       "event_code_d02b7a8e                                       int64\n",
       "event_code_d06f75b5                                       int64\n",
       "event_code_d122731b                                       int64\n",
       "event_code_d185d3ea                                       int64\n",
       "event_code_d2278a3b                                       int64\n",
       "event_code_d2659ab4                                       int64\n",
       "event_code_d2e9262e                                       int64\n",
       "event_code_d3268efa                                       int64\n",
       "event_code_d3640339                                       int64\n",
       "event_code_d38c2fd7                                       int64\n",
       "event_code_d3f1e122                                       int64\n",
       "event_code_d45ed6a1                                       int64\n",
       "event_code_d51b1749                                       int64\n",
       "event_code_d88ca108                                       int64\n",
       "event_code_d88e8f25                                       int64\n",
       "event_code_d9c005dd                                       int64\n",
       "event_code_daac11b0                                       int64\n",
       "event_code_db02c830                                       int64\n",
       "event_code_dcaede90                                       int64\n",
       "event_code_dcb55a27                                       int64\n",
       "event_code_de26c3a6                                       int64\n",
       "event_code_df4940d3                                       int64\n",
       "event_code_df4fe8b6                                       int64\n",
       "event_code_e04fb33d                                       int64\n",
       "event_code_e080a381                                       int64\n",
       "event_code_e37a2b78                                       int64\n",
       "event_code_e3ff61fb                                       int64\n",
       "event_code_e4d32835                                       int64\n",
       "event_code_e4f1efe6                                       int64\n",
       "event_code_e5734469                                       int64\n",
       "event_code_e57dd7af                                       int64\n",
       "event_code_e5c9df6f                                       int64\n",
       "event_code_e64e2cfd                                       int64\n",
       "event_code_e694a35b                                       int64\n",
       "event_code_e720d930                                       int64\n",
       "event_code_e7561dd2                                       int64\n",
       "event_code_e79f3763                                       int64\n",
       "event_code_e7e44842                                       int64\n",
       "event_code_e9c52111                                       int64\n",
       "event_code_ea296733                                       int64\n",
       "event_code_ea321fb1                                       int64\n",
       "event_code_eb2c19cd                                       int64\n",
       "event_code_ec138c1c                                       int64\n",
       "event_code_ecaab346                                       int64\n",
       "event_code_ecc36b7f                                       int64\n",
       "event_code_ecc6157f                                       int64\n",
       "event_code_f28c589a                                       int64\n",
       "event_code_f32856e4                                       int64\n",
       "event_code_f3cd5473                                       int64\n",
       "event_code_f50fc6c1                                       int64\n",
       "event_code_f54238ee                                       int64\n",
       "event_code_f56e0afc                                       int64\n",
       "event_code_f5b8c21a                                       int64\n",
       "event_code_f6947f54                                       int64\n",
       "event_code_f71c4741                                       int64\n",
       "event_code_f7e47413                                       int64\n",
       "event_code_f806dc10                                       int64\n",
       "event_code_f93fc684                                       int64\n",
       "event_code_fbaf3456                                       int64\n",
       "event_code_fcfdffb6                                       int64\n",
       "event_code_fd20ea40                                       int64\n",
       "first_ass                                                  bool\n",
       "first_attempt                                              bool\n",
       "group_0_count                                             int64\n",
       "group_1_count                                             int64\n",
       "group_2_count                                             int64\n",
       "group_3_count                                             int64\n",
       "max_group_score_Bird Measurer (Assessment)                int64\n",
       "max_group_score_Cart Balancer (Assessment)                int64\n",
       "max_group_score_Cauldron Filler (Assessment)              int64\n",
       "max_group_score_Chest Sorter (Assessment)                 int64\n",
       "max_group_score_Mushroom Sorter (Assessment)              int64\n",
       "total_active_days                                         int64\n",
       "total_activities_CRYSTALCAVES_world                       int64\n",
       "total_activities_MAGMAPEAK_world                          int64\n",
       "total_activities_TREETOPCITY_world                        int64\n",
       "total_activity_moves_Bottle Filler (Activity)             int64\n",
       "total_activity_moves_Bug Measurer (Activity)              int64\n",
       "total_activity_moves_Chicken Balancer (Activity)          int64\n",
       "total_activity_moves_Egg Dropper (Activity)               int64\n",
       "total_activity_moves_Fireworks (Activity)                 int64\n",
       "total_activity_moves_Flower Waterer (Activity)            int64\n",
       "total_activity_moves_Sandcastle Builder (Activity)        int64\n",
       "total_activity_moves_Watering Hole (Activity)             int64\n",
       "total_activity_time_Bottle Filler (Activity)              int64\n",
       "total_activity_time_Bug Measurer (Activity)               int64\n",
       "total_activity_time_Chicken Balancer (Activity)           int64\n",
       "total_activity_time_Egg Dropper (Activity)                int64\n",
       "total_activity_time_Fireworks (Activity)                  int64\n",
       "total_activity_time_Flower Waterer (Activity)             int64\n",
       "total_activity_time_Sandcastle Builder (Activity)         int64\n",
       "total_activity_time_Watering Hole (Activity)              int64\n",
       "total_ass_moves_Bird Measurer (Assessment)                int64\n",
       "total_ass_moves_Cart Balancer (Assessment)                int64\n",
       "total_ass_moves_Cauldron Filler (Assessment)              int64\n",
       "total_ass_moves_Chest Sorter (Assessment)                 int64\n",
       "total_ass_moves_Mushroom Sorter (Assessment)              int64\n",
       "total_ass_time_Bird Measurer (Assessment)                 int64\n",
       "total_ass_time_Cart Balancer (Assessment)                 int64\n",
       "total_ass_time_Cauldron Filler (Assessment)               int64\n",
       "total_ass_time_Chest Sorter (Assessment)                  int64\n",
       "total_ass_time_Mushroom Sorter (Assessment)               int64\n",
       "total_ass_took_Bird Measurer (Assessment)                 int64\n",
       "total_ass_took_Cart Balancer (Assessment)                 int64\n",
       "total_ass_took_Cauldron Filler (Assessment)               int64\n",
       "total_ass_took_Chest Sorter (Assessment)                  int64\n",
       "total_ass_took_Mushroom Sorter (Assessment)               int64\n",
       "total_attempts_Bird Measurer (Assessment)                 int64\n",
       "total_attempts_Cart Balancer (Assessment)                 int64\n",
       "total_attempts_Cauldron Filler (Assessment)               int64\n",
       "total_attempts_Chest Sorter (Assessment)                  int64\n",
       "total_attempts_Mushroom Sorter (Assessment)               int64\n",
       "total_clips                                               int64\n",
       "total_game_moves_Air Show                                 int64\n",
       "total_game_moves_All Star Sorting                         int64\n",
       "total_game_moves_Bubble Bath                              int64\n",
       "total_game_moves_Chow Time                                int64\n",
       "total_game_moves_Crystals Rule                            int64\n",
       "total_game_moves_Dino Dive                                int64\n",
       "total_game_moves_Dino Drink                               int64\n",
       "total_game_moves_Happy Camel                              int64\n",
       "total_game_moves_Leaf Leader                              int64\n",
       "total_game_moves_Pan Balance                              int64\n",
       "total_game_moves_Scrub-A-Dub                              int64\n",
       "total_game_time_Air Show                                  int64\n",
       "total_game_time_All Star Sorting                          int64\n",
       "total_game_time_Bubble Bath                               int64\n",
       "total_game_time_Chow Time                                 int64\n",
       "total_game_time_Crystals Rule                             int64\n",
       "total_game_time_Dino Dive                                 int64\n",
       "total_game_time_Dino Drink                                int64\n",
       "total_game_time_Happy Camel                               int64\n",
       "total_game_time_Leaf Leader                               int64\n",
       "total_game_time_Pan Balance                               int64\n",
       "total_game_time_Scrub-A-Dub                               int64\n",
       "total_games_CRYSTALCAVES_world                            int64\n",
       "total_games_MAGMAPEAK_world                               int64\n",
       "total_games_TREETOPCITY_world                             int64\n",
       "total_wins_prev_games_Bird Measurer (Assessment)         object\n",
       "total_wins_prev_games_Cart Balancer (Assessment)         object\n",
       "total_wins_prev_games_Cauldron Filler (Assessment)       object\n",
       "total_wins_prev_games_Chest Sorter (Assessment)          object\n",
       "total_wins_prev_games_Mushroom Sorter (Assessment)       object\n",
       "accuracy                                                float64\n",
       "success_rate                                            float64\n",
       "overall_success_rate                                    float64\n",
       "accuracy_group                                            int64\n",
       "sin_time                                                float64\n",
       "cos_time                                                float64\n",
       "sin_weekday                                             float64\n",
       "cos_weekday                                             float64\n",
       "dtype: object"
      ]
     },
     "execution_count": 90,
     "metadata": {},
     "output_type": "execute_result"
    }
   ],
   "source": [
    "train_agg_clean.dtypes"
   ]
  },
  {
   "cell_type": "code",
   "execution_count": 91,
   "metadata": {},
   "outputs": [],
   "source": [
    "# converting into the right dtype\n",
    "\n",
    "train_agg_clean['total_wins_prev_games_Bird Measurer (Assessment)'] = train_agg_clean['total_wins_prev_games_Bird Measurer (Assessment)'].astype(int)\n",
    "train_agg_clean['total_wins_prev_games_Cart Balancer (Assessment)'] = train_agg_clean['total_wins_prev_games_Cart Balancer (Assessment)'].astype(int)\n",
    "train_agg_clean['total_wins_prev_games_Cauldron Filler (Assessment)'] = train_agg_clean['total_wins_prev_games_Cauldron Filler (Assessment)'].astype(int)\n",
    "train_agg_clean['total_wins_prev_games_Chest Sorter (Assessment)'] = train_agg_clean['total_wins_prev_games_Chest Sorter (Assessment)'].astype(int)\n",
    "train_agg_clean['total_wins_prev_games_Mushroom Sorter (Assessment)'] = train_agg_clean['total_wins_prev_games_Mushroom Sorter (Assessment)'].astype(int)"
   ]
  },
  {
   "cell_type": "code",
   "execution_count": 118,
   "metadata": {},
   "outputs": [
    {
     "name": "stdout",
     "output_type": "stream",
     "text": [
      "(41549, 549)\n"
     ]
    },
    {
     "data": {
      "text/plain": [
       "(41549, 555)"
      ]
     },
     "execution_count": 118,
     "metadata": {},
     "output_type": "execute_result"
    }
   ],
   "source": [
    "print(train_agg_clean.shape)\n",
    "train_agg_clean_dummies = pd.get_dummies(train_agg_clean, columns=['world','title'])\n",
    "train_agg_clean_dummies.shape"
   ]
  },
  {
   "cell_type": "markdown",
   "metadata": {},
   "source": [
    "**checking for high correlation between features:**"
   ]
  },
  {
   "cell_type": "code",
   "execution_count": 121,
   "metadata": {},
   "outputs": [
    {
     "data": {
      "text/plain": [
       "world         title                       \n",
       "CRYSTALCAVES  Cart Balancer (Assessment)      1\n",
       "              Chest Sorter (Assessment)       1\n",
       "MAGMAPEAK     Cauldron Filler (Assessment)    1\n",
       "TREETOPCITY   Bird Measurer (Assessment)      1\n",
       "              Mushroom Sorter (Assessment)    1\n",
       "Name: title, dtype: int64"
      ]
     },
     "execution_count": 121,
     "metadata": {},
     "output_type": "execute_result"
    }
   ],
   "source": [
    "train_with_ass.loc[(((train_with_ass.title=='Bird Measurer (Assessment)') \n",
    "                                        & (train_with_ass.event_code==4110)) |\n",
    "                                            ((train_with_ass.title!='Bird Measurer (Assessment)') \n",
    "                                             & (train_with_ass.event_code==4100) & \n",
    "                                             (train_with_ass.type=='Assessment')))].groupby(['world','title'])['title'].nunique()"
   ]
  },
  {
   "cell_type": "code",
   "execution_count": 122,
   "metadata": {},
   "outputs": [
    {
     "data": {
      "text/html": [
       "<div>\n",
       "<style scoped>\n",
       "    .dataframe tbody tr th:only-of-type {\n",
       "        vertical-align: middle;\n",
       "    }\n",
       "\n",
       "    .dataframe tbody tr th {\n",
       "        vertical-align: top;\n",
       "    }\n",
       "\n",
       "    .dataframe thead th {\n",
       "        text-align: right;\n",
       "    }\n",
       "</style>\n",
       "<table border=\"1\" class=\"dataframe\">\n",
       "  <thead>\n",
       "    <tr style=\"text-align: right;\">\n",
       "      <th></th>\n",
       "      <th>level_0</th>\n",
       "      <th>level_1</th>\n",
       "      <th>0</th>\n",
       "    </tr>\n",
       "  </thead>\n",
       "  <tbody>\n",
       "    <tr>\n",
       "      <th>99145</th>\n",
       "      <td>event_code_45d01abe</td>\n",
       "      <td>total_wins_prev_games_Bird Measurer (Assessment)</td>\n",
       "      <td>1.0</td>\n",
       "    </tr>\n",
       "    <tr>\n",
       "      <th>97791</th>\n",
       "      <td>event_code_4235</td>\n",
       "      <td>event_code_85de926c</td>\n",
       "      <td>1.0</td>\n",
       "    </tr>\n",
       "    <tr>\n",
       "      <th>97301</th>\n",
       "      <td>event_code_4230</td>\n",
       "      <td>event_code_ad148f58</td>\n",
       "      <td>1.0</td>\n",
       "    </tr>\n",
       "    <tr>\n",
       "      <th>96453</th>\n",
       "      <td>event_code_4220</td>\n",
       "      <td>event_code_1340b8d7</td>\n",
       "      <td>1.0</td>\n",
       "    </tr>\n",
       "    <tr>\n",
       "      <th>110497</th>\n",
       "      <td>event_code_5010</td>\n",
       "      <td>event_code_71e712d8</td>\n",
       "      <td>1.0</td>\n",
       "    </tr>\n",
       "    <tr>\n",
       "      <th>110032</th>\n",
       "      <td>event_code_5000</td>\n",
       "      <td>event_code_a6d66e51</td>\n",
       "      <td>1.0</td>\n",
       "    </tr>\n",
       "    <tr>\n",
       "      <th>92847</th>\n",
       "      <td>event_code_4050</td>\n",
       "      <td>event_code_a1192f43</td>\n",
       "      <td>1.0</td>\n",
       "    </tr>\n",
       "    <tr>\n",
       "      <th>90374</th>\n",
       "      <td>event_code_4031</td>\n",
       "      <td>event_code_1996c610</td>\n",
       "      <td>1.0</td>\n",
       "    </tr>\n",
       "    <tr>\n",
       "      <th>141032</th>\n",
       "      <td>event_code_736f9581</td>\n",
       "      <td>event_code_9b23e8ee</td>\n",
       "      <td>1.0</td>\n",
       "    </tr>\n",
       "    <tr>\n",
       "      <th>139253</th>\n",
       "      <td>event_code_71e712d8</td>\n",
       "      <td>event_code_5010</td>\n",
       "      <td>1.0</td>\n",
       "    </tr>\n",
       "    <tr>\n",
       "      <th>76956</th>\n",
       "      <td>event_code_392e14df</td>\n",
       "      <td>total_attempts_Cauldron Filler (Assessment)</td>\n",
       "      <td>1.0</td>\n",
       "    </tr>\n",
       "    <tr>\n",
       "      <th>75993</th>\n",
       "      <td>event_code_38074c54</td>\n",
       "      <td>event_code_222660ff</td>\n",
       "      <td>1.0</td>\n",
       "    </tr>\n",
       "    <tr>\n",
       "      <th>31752</th>\n",
       "      <td>event_code_1340b8d7</td>\n",
       "      <td>event_code_4220</td>\n",
       "      <td>1.0</td>\n",
       "    </tr>\n",
       "    <tr>\n",
       "      <th>18866</th>\n",
       "      <td>avg_group_world_MAGMAPEAK</td>\n",
       "      <td>avg_group_score_Cauldron Filler (Assessment)</td>\n",
       "      <td>1.0</td>\n",
       "    </tr>\n",
       "    <tr>\n",
       "      <th>16654</th>\n",
       "      <td>avg_group_score_Cauldron Filler (Assessment)</td>\n",
       "      <td>avg_group_world_MAGMAPEAK</td>\n",
       "      <td>1.0</td>\n",
       "    </tr>\n",
       "    <tr>\n",
       "      <th>14426</th>\n",
       "      <td>avg_accuracy_world_MAGMAPEAK</td>\n",
       "      <td>avg_accuracy_prev_games_Cauldron Filler (Assessment)</td>\n",
       "      <td>1.0</td>\n",
       "    </tr>\n",
       "    <tr>\n",
       "      <th>12214</th>\n",
       "      <td>avg_accuracy_prev_games_Cauldron Filler (Assessment)</td>\n",
       "      <td>avg_accuracy_world_MAGMAPEAK</td>\n",
       "      <td>1.0</td>\n",
       "    </tr>\n",
       "    <tr>\n",
       "      <th>39282</th>\n",
       "      <td>event_code_17113b36</td>\n",
       "      <td>total_attempts_Bird Measurer (Assessment)</td>\n",
       "      <td>1.0</td>\n",
       "    </tr>\n",
       "    <tr>\n",
       "      <th>74324</th>\n",
       "      <td>event_code_37c53127</td>\n",
       "      <td>event_code_2050</td>\n",
       "      <td>1.0</td>\n",
       "    </tr>\n",
       "    <tr>\n",
       "      <th>40051</th>\n",
       "      <td>event_code_1996c610</td>\n",
       "      <td>event_code_4031</td>\n",
       "      <td>1.0</td>\n",
       "    </tr>\n",
       "  </tbody>\n",
       "</table>\n",
       "</div>"
      ],
      "text/plain": [
       "                                                     level_0  \\\n",
       "99145                                    event_code_45d01abe   \n",
       "97791                                        event_code_4235   \n",
       "97301                                        event_code_4230   \n",
       "96453                                        event_code_4220   \n",
       "110497                                       event_code_5010   \n",
       "110032                                       event_code_5000   \n",
       "92847                                        event_code_4050   \n",
       "90374                                        event_code_4031   \n",
       "141032                                   event_code_736f9581   \n",
       "139253                                   event_code_71e712d8   \n",
       "76956                                    event_code_392e14df   \n",
       "75993                                    event_code_38074c54   \n",
       "31752                                    event_code_1340b8d7   \n",
       "18866                              avg_group_world_MAGMAPEAK   \n",
       "16654           avg_group_score_Cauldron Filler (Assessment)   \n",
       "14426                           avg_accuracy_world_MAGMAPEAK   \n",
       "12214   avg_accuracy_prev_games_Cauldron Filler (Assessment)   \n",
       "39282                                    event_code_17113b36   \n",
       "74324                                    event_code_37c53127   \n",
       "40051                                    event_code_1996c610   \n",
       "\n",
       "                                                     level_1    0  \n",
       "99145       total_wins_prev_games_Bird Measurer (Assessment)  1.0  \n",
       "97791                                    event_code_85de926c  1.0  \n",
       "97301                                    event_code_ad148f58  1.0  \n",
       "96453                                    event_code_1340b8d7  1.0  \n",
       "110497                                   event_code_71e712d8  1.0  \n",
       "110032                                   event_code_a6d66e51  1.0  \n",
       "92847                                    event_code_a1192f43  1.0  \n",
       "90374                                    event_code_1996c610  1.0  \n",
       "141032                                   event_code_9b23e8ee  1.0  \n",
       "139253                                       event_code_5010  1.0  \n",
       "76956            total_attempts_Cauldron Filler (Assessment)  1.0  \n",
       "75993                                    event_code_222660ff  1.0  \n",
       "31752                                        event_code_4220  1.0  \n",
       "18866           avg_group_score_Cauldron Filler (Assessment)  1.0  \n",
       "16654                              avg_group_world_MAGMAPEAK  1.0  \n",
       "14426   avg_accuracy_prev_games_Cauldron Filler (Assessment)  1.0  \n",
       "12214                           avg_accuracy_world_MAGMAPEAK  1.0  \n",
       "39282              total_attempts_Bird Measurer (Assessment)  1.0  \n",
       "74324                                        event_code_2050  1.0  \n",
       "40051                                        event_code_4031  1.0  "
      ]
     },
     "execution_count": 122,
     "metadata": {},
     "output_type": "execute_result"
    }
   ],
   "source": [
    "corr_matrix = train_agg_clean_dummies.corr().abs().unstack().reset_index().sort_values(0, ascending=False)\n",
    "corr_matrix.loc[corr_matrix.level_0 != corr_matrix.level_1].head(20)"
   ]
  },
  {
   "cell_type": "code",
   "execution_count": 123,
   "metadata": {},
   "outputs": [
    {
     "data": {
      "text/plain": [
       "(165, 3)"
      ]
     },
     "execution_count": 123,
     "metadata": {},
     "output_type": "execute_result"
    }
   ],
   "source": [
    "# set on cols appears only once\n",
    "high_corr_matrix = corr_matrix.loc[(corr_matrix[0]>0.997) & (corr_matrix.level_0 > corr_matrix.level_1)]\n",
    "high_corr_matrix.shape"
   ]
  },
  {
   "cell_type": "code",
   "execution_count": 124,
   "metadata": {},
   "outputs": [
    {
     "data": {
      "text/plain": [
       "['event_code_1340b8d7',\n",
       " 'event_code_1996c610',\n",
       " 'event_code_5010',\n",
       " 'event_code_222660ff',\n",
       " 'avg_group_score_Cauldron Filler (Assessment)',\n",
       " 'avg_accuracy_prev_games_Cauldron Filler (Assessment)']"
      ]
     },
     "execution_count": 124,
     "metadata": {},
     "output_type": "execute_result"
    }
   ],
   "source": [
    "cols_to_remove_corr = high_corr_matrix.level_1.tolist()\n",
    "cols_to_remove_corr[:6]"
   ]
  },
  {
   "cell_type": "code",
   "execution_count": 125,
   "metadata": {},
   "outputs": [],
   "source": [
    "train_agg_clean_dummies.drop(columns=cols_to_remove_corr, inplace=True)"
   ]
  },
  {
   "cell_type": "code",
   "execution_count": 126,
   "metadata": {},
   "outputs": [],
   "source": [
    "model_col_list = train_agg_clean_dummies.columns"
   ]
  },
  {
   "cell_type": "markdown",
   "metadata": {},
   "source": [
    "del train_agg\n",
    "del train_agg_clean\n",
    "del train_with_ass\n",
    "del corr_matrix\n",
    "\n",
    "gc.collect()"
   ]
  },
  {
   "cell_type": "markdown",
   "metadata": {},
   "source": [
    "# Scoring Function"
   ]
  },
  {
   "cell_type": "code",
   "execution_count": 127,
   "metadata": {},
   "outputs": [],
   "source": [
    "def reg_to_class(y_pred):\n",
    "    y_pred_class = []\n",
    "    for y in y_pred:\n",
    "        if y<0:\n",
    "            y_pred_class.append(0)\n",
    "        elif y>3:\n",
    "            y_pred_class.append(3)\n",
    "        else:\n",
    "            y_pred_class.append(round(y,0))\n",
    "    return np.array(y_pred_class)"
   ]
  },
  {
   "cell_type": "markdown",
   "metadata": {},
   "source": [
    "# Modeling"
   ]
  },
  {
   "cell_type": "code",
   "execution_count": 129,
   "metadata": {},
   "outputs": [
    {
     "data": {
      "text/html": [
       "<div>\n",
       "<style scoped>\n",
       "    .dataframe tbody tr th:only-of-type {\n",
       "        vertical-align: middle;\n",
       "    }\n",
       "\n",
       "    .dataframe tbody tr th {\n",
       "        vertical-align: top;\n",
       "    }\n",
       "\n",
       "    .dataframe thead th {\n",
       "        text-align: right;\n",
       "    }\n",
       "</style>\n",
       "<table border=\"1\" class=\"dataframe\">\n",
       "  <thead>\n",
       "    <tr style=\"text-align: right;\">\n",
       "      <th></th>\n",
       "      <th>installation_id</th>\n",
       "      <th>Bird Measurer (Assessment)_group_0</th>\n",
       "      <th>Bird Measurer (Assessment)_group_1</th>\n",
       "      <th>Bird Measurer (Assessment)_group_2</th>\n",
       "      <th>Bird Measurer (Assessment)_group_3</th>\n",
       "      <th>Cart Balancer (Assessment)_group_0</th>\n",
       "      <th>Cart Balancer (Assessment)_group_1</th>\n",
       "      <th>Cart Balancer (Assessment)_group_2</th>\n",
       "      <th>Cart Balancer (Assessment)_group_3</th>\n",
       "      <th>Cauldron Filler (Assessment)_group_0</th>\n",
       "      <th>...</th>\n",
       "      <th>cos_time</th>\n",
       "      <th>sin_weekday</th>\n",
       "      <th>cos_weekday</th>\n",
       "      <th>world_CRYSTALCAVES</th>\n",
       "      <th>world_MAGMAPEAK</th>\n",
       "      <th>world_TREETOPCITY</th>\n",
       "      <th>title_Bird Measurer (Assessment)</th>\n",
       "      <th>title_Cart Balancer (Assessment)</th>\n",
       "      <th>title_Chest Sorter (Assessment)</th>\n",
       "      <th>title_Mushroom Sorter (Assessment)</th>\n",
       "    </tr>\n",
       "  </thead>\n",
       "  <tbody>\n",
       "    <tr>\n",
       "      <th>0</th>\n",
       "      <td>0006a69f</td>\n",
       "      <td>0</td>\n",
       "      <td>0</td>\n",
       "      <td>0</td>\n",
       "      <td>0</td>\n",
       "      <td>0</td>\n",
       "      <td>0</td>\n",
       "      <td>0</td>\n",
       "      <td>0</td>\n",
       "      <td>0</td>\n",
       "      <td>...</td>\n",
       "      <td>0.258819</td>\n",
       "      <td>0.781831</td>\n",
       "      <td>0.62349</td>\n",
       "      <td>0</td>\n",
       "      <td>0</td>\n",
       "      <td>1</td>\n",
       "      <td>0</td>\n",
       "      <td>0</td>\n",
       "      <td>0</td>\n",
       "      <td>1</td>\n",
       "    </tr>\n",
       "    <tr>\n",
       "      <th>1</th>\n",
       "      <td>0006a69f</td>\n",
       "      <td>0</td>\n",
       "      <td>0</td>\n",
       "      <td>0</td>\n",
       "      <td>0</td>\n",
       "      <td>0</td>\n",
       "      <td>0</td>\n",
       "      <td>0</td>\n",
       "      <td>0</td>\n",
       "      <td>0</td>\n",
       "      <td>...</td>\n",
       "      <td>0.258819</td>\n",
       "      <td>0.781831</td>\n",
       "      <td>0.62349</td>\n",
       "      <td>0</td>\n",
       "      <td>0</td>\n",
       "      <td>1</td>\n",
       "      <td>1</td>\n",
       "      <td>0</td>\n",
       "      <td>0</td>\n",
       "      <td>0</td>\n",
       "    </tr>\n",
       "  </tbody>\n",
       "</table>\n",
       "<p>2 rows × 440 columns</p>\n",
       "</div>"
      ],
      "text/plain": [
       "  installation_id  Bird Measurer (Assessment)_group_0  \\\n",
       "0        0006a69f                                   0   \n",
       "1        0006a69f                                   0   \n",
       "\n",
       "   Bird Measurer (Assessment)_group_1  Bird Measurer (Assessment)_group_2  \\\n",
       "0                                   0                                   0   \n",
       "1                                   0                                   0   \n",
       "\n",
       "   Bird Measurer (Assessment)_group_3  Cart Balancer (Assessment)_group_0  \\\n",
       "0                                   0                                   0   \n",
       "1                                   0                                   0   \n",
       "\n",
       "   Cart Balancer (Assessment)_group_1  Cart Balancer (Assessment)_group_2  \\\n",
       "0                                   0                                   0   \n",
       "1                                   0                                   0   \n",
       "\n",
       "   Cart Balancer (Assessment)_group_3  Cauldron Filler (Assessment)_group_0  \\\n",
       "0                                   0                                     0   \n",
       "1                                   0                                     0   \n",
       "\n",
       "   ...  cos_time  sin_weekday  cos_weekday  world_CRYSTALCAVES  \\\n",
       "0  ...  0.258819     0.781831      0.62349                   0   \n",
       "1  ...  0.258819     0.781831      0.62349                   0   \n",
       "\n",
       "   world_MAGMAPEAK  world_TREETOPCITY  title_Bird Measurer (Assessment)  \\\n",
       "0                0                  1                                 0   \n",
       "1                0                  1                                 1   \n",
       "\n",
       "   title_Cart Balancer (Assessment)  title_Chest Sorter (Assessment)  \\\n",
       "0                                 0                                0   \n",
       "1                                 0                                0   \n",
       "\n",
       "   title_Mushroom Sorter (Assessment)  \n",
       "0                                   1  \n",
       "1                                   0  \n",
       "\n",
       "[2 rows x 440 columns]"
      ]
     },
     "execution_count": 129,
     "metadata": {},
     "output_type": "execute_result"
    }
   ],
   "source": [
    "train_agg_clean_dummies.head(2)"
   ]
  },
  {
   "cell_type": "code",
   "execution_count": 130,
   "metadata": {},
   "outputs": [
    {
     "data": {
      "text/plain": [
       "accuracy_group\n",
       "0    16348\n",
       "1    11946\n",
       "2     4410\n",
       "3     8845\n",
       "Name: installation_id, dtype: int64"
      ]
     },
     "execution_count": 130,
     "metadata": {},
     "output_type": "execute_result"
    }
   ],
   "source": [
    "# exploring the target feature:\n",
    "\n",
    "train_agg_clean_dummies.groupby('accuracy_group')['installation_id'].count()"
   ]
  },
  {
   "cell_type": "markdown",
   "metadata": {},
   "source": [
    "There's quite imbalance between the classes. Later I'll use oversampling method to deal with it."
   ]
  },
  {
   "cell_type": "markdown",
   "metadata": {},
   "source": [
    "## Xgboost"
   ]
  },
  {
   "cell_type": "code",
   "execution_count": 131,
   "metadata": {},
   "outputs": [],
   "source": [
    "def train_xgb(X_train, y_train, X_test, y_test):\n",
    "\n",
    "    \n",
    "    cv = GroupKFold(n_splits=10)\n",
    "    cv.get_n_splits(X_train.drop(columns=['installation_id']), y_train)\n",
    "    splits_iter = cv.split(X_train.drop(columns='installation_id'), y_train, X_train.installation_id)\n",
    "    \n",
    "    pipe = Pipeline([('scaler', StandardScaler()),\n",
    "#                      ('resample',SMOTE(random_state=42)), \n",
    "                    ('clf',xgb.XGBRegressor(base_score=0.5, booster='gbtree', colsample_bylevel=1,\n",
    "                                         colsample_bynode=1, colsample_bytree=0.8, gamma=0.5,\n",
    "                                         importance_type='gain', learning_rate=0.01, max_delta_step=0,\n",
    "                                         max_depth=7, min_child_weight=3, missing=None, n_estimators=500,\n",
    "                                         n_jobs=1, nthread=None, objective='reg:linear', random_state=0,\n",
    "                                         reg_alpha=0.75, reg_lambda=1, scale_pos_weight=1, seed=42,\n",
    "                                         silent=None, subsample=0.8, verbosity=1))])\n",
    "    \n",
    "    \n",
    "    X_test = X_test.to_numpy()\n",
    "    y_train = np.array(y_train)\n",
    "    y_test = np.array(y_test)\n",
    "    \n",
    "    gs_params = {\n",
    "        'clf__max_depth':[7,8,9],\n",
    "        'clf__learning_rate':[0.01,0.03,0.05],\n",
    "        'clf__n_estimators':[300,500,750]\n",
    "    }\n",
    "    \n",
    "    \n",
    "     \n",
    "    xgb_gs = GridSearchCV(pipe, param_grid=gs_params,  \n",
    "                                cv=splits_iter, n_jobs=-1,\n",
    "                                scoring='neg_mean_squared_error', verbose=3)\n",
    "\n",
    "    xgb_gs.fit(X_train.drop(columns='installation_id').to_numpy(), y_train)\n",
    "    xgb_est = xgb_gs.best_estimator_\n",
    "\n",
    "    y_train_pred = xgb_est.predict(X_train.drop(columns='installation_id').to_numpy())\n",
    "    y_test_pred = xgb_est.predict(X_test)\n",
    "\n",
    "\n",
    "    print('cohen kappa score train: ',cohen_kappa_score(y_train.astype(int), reg_to_class(y_train_pred), weights='quadratic'))\n",
    "    print('cohen kappa score test: ',cohen_kappa_score(y_test.astype(int), reg_to_class(y_test_pred), weights='quadratic'))\n",
    "    return cohen_kappa_score(y_test.astype(int), reg_to_class(y_test_pred), weights='quadratic'), xgb_est"
   ]
  },
  {
   "cell_type": "markdown",
   "metadata": {},
   "source": [
    "## LightGBM"
   ]
  },
  {
   "cell_type": "code",
   "execution_count": 132,
   "metadata": {},
   "outputs": [],
   "source": [
    "def train_lgb(X_train, y_train, X_test, y_test):\n",
    "    \n",
    "    \n",
    "    cv = GroupKFold(n_splits=10)\n",
    "    cv.get_n_splits(X_train.drop(columns='installation_id'), y_train)\n",
    "    splits_iter = cv.split(X_train.drop(columns='installation_id'), y_train, X_train.installation_id)\n",
    "    \n",
    "    pipe = Pipeline([('scaler', StandardScaler()),\n",
    "#                      ('resample',SMOTE(random_state=42)), \n",
    "                    ('clf',lgb.LGBMRegressor(boosting_type='gbdt', class_weight=None, colsample_bytree=0.6,\n",
    "                                              gamma=0.3, importance_type='split', learning_rate=0.015,\n",
    "                                              max_depth=11, min_child_samples=20, min_child_weight=0.5,\n",
    "                                              min_split_gain=0.0, n_estimators=500, n_jobs=-1, num_leaves=31,\n",
    "                                              objective=None, random_state=None, reg_alpha=0.75, reg_lambda=0.5,\n",
    "                                              seed=42, silent=True, subsample=1, subsample_for_bin=200000,\n",
    "                                              subsample_freq=0))])\n",
    "    \n",
    "    params = {\n",
    "        'clf__gamma':[0.3],\n",
    "        'clf__max_depth':[9,10,11],\n",
    "        'clf__n_estimators':[300,500,750],\n",
    "        'clf__learning_rate':[0.01,0.015,0.03]\n",
    "    }\n",
    "\n",
    "\n",
    "    \n",
    "  \n",
    "    lgb_gs = GridSearchCV(pipe, param_grid=params, cv=splits_iter,  \n",
    "                              scoring='neg_mean_squared_error', n_jobs=-1, verbose=3)\n",
    "\n",
    "    lgb_gs.fit(X_train.drop(columns='installation_id'), y_train)\n",
    "    lgb_est = lgb_gs.best_estimator_     \n",
    "\n",
    "    y_train_pred = lgb_est.predict(X_train.drop(columns='installation_id'))\n",
    "    y_test_pred = lgb_est.predict(X_test)\n",
    "\n",
    "    print('cohen kappa score train: ',cohen_kappa_score(y_train.astype(int), reg_to_class(y_train_pred), weights='quadratic'))\n",
    "    print('cohen kappa score test: ',cohen_kappa_score(y_test.astype(int), reg_to_class(y_test_pred), weights='quadratic'))\n",
    "    return cohen_kappa_score(y_test.astype(int), reg_to_class(y_test_pred), weights='quadratic'), lgb_est"
   ]
  },
  {
   "cell_type": "markdown",
   "metadata": {},
   "source": [
    "# New Users Model"
   ]
  },
  {
   "cell_type": "code",
   "execution_count": 133,
   "metadata": {},
   "outputs": [],
   "source": [
    "def train_xgb_new(X_train, y_train, X_test, y_test):\n",
    "\n",
    "    \n",
    "    cv = GroupKFold(n_splits=10)\n",
    "    cv.get_n_splits(X_train.drop(columns=['installation_id']), y_train)\n",
    "    splits_iter = cv.split(X_train.drop(columns='installation_id'), y_train, X_train.installation_id)\n",
    "    \n",
    "    pipe = Pipeline([('scaler', StandardScaler()),\n",
    "#                      ('resample',SMOTE(random_state=42)), \n",
    "                    ('clf',xgb.XGBRegressor(base_score=0.5, booster='gbtree', colsample_bylevel=0.4,\n",
    "                                         colsample_bynode=1, colsample_bytree=0.8, gamma=2,\n",
    "                                         importance_type='gain', learning_rate=0.05, max_delta_step=0,\n",
    "                                         max_depth=15, min_child_weight=1, missing=None, n_estimators=1000,\n",
    "                                         n_jobs=1, nthread=None, objective='reg:linear', random_state=0,\n",
    "                                         reg_alpha=1, reg_lambda=1, scale_pos_weight=1, seed=None,\n",
    "                                         silent=None, subsample=1, verbosity=1))])\n",
    "    \n",
    "    \n",
    "    X_test = X_test.to_numpy()\n",
    "    y_train = np.array(y_train)\n",
    "    y_test = np.array(y_test)\n",
    "    \n",
    "    gs_params = {\n",
    "        'clf__max_depth':[5,10,15],\n",
    "        'clf__n_estimators':[400,700,1000],\n",
    "        'clf__learning_rate':[0.01,0.05,0.1]\n",
    "    }\n",
    "\n",
    "     \n",
    "    xgb_gs = GridSearchCV(pipe, param_grid=gs_params, \n",
    "                                cv=splits_iter, n_jobs=-1,\n",
    "                                scoring='neg_mean_absolute_error', verbose=3)\n",
    "\n",
    "    xgb_gs.fit(X_train.drop(columns='installation_id').to_numpy(), y_train)\n",
    "    xgb_est = xgb_gs.best_estimator_\n",
    "\n",
    "    y_train_pred = xgb_est.predict(X_train.drop(columns='installation_id').to_numpy())\n",
    "    y_test_pred = xgb_est.predict(X_test)\n",
    "\n",
    "\n",
    "    print('cohen kappa score train: ',cohen_kappa_score(y_train.astype(int), reg_to_class(y_train_pred), weights='quadratic'))\n",
    "    print('cohen kappa score test: ',cohen_kappa_score(y_test.astype(int), reg_to_class(y_test_pred), weights='quadratic'))\n",
    "    return cohen_kappa_score(y_test.astype(int), reg_to_class(y_test_pred), weights='quadratic'), xgb_est"
   ]
  },
  {
   "cell_type": "code",
   "execution_count": 134,
   "metadata": {},
   "outputs": [],
   "source": [
    "def train_lgb_new(X_train, y_train, X_test, y_test):\n",
    "    \n",
    "    \n",
    "    cv = GroupKFold(n_splits=10)\n",
    "    cv.get_n_splits(X_train.drop(columns='installation_id'), y_train)\n",
    "    splits_iter = cv.split(X_train.drop(columns='installation_id'), y_train, X_train.installation_id)\n",
    "    \n",
    "    pipe = Pipeline([('scaler', StandardScaler()),\n",
    "#                      ('resample',SMOTE(random_state=42)), \n",
    "                    ('clf',lgb.LGBMRegressor(boosting_type='gbdt', class_weight=None, colsample_bytree=0.4,\n",
    "                                              gamma=1, importance_type='split', learning_rate=0.02,\n",
    "                                              max_depth=10, min_child_samples=20, min_child_weight=2,\n",
    "                                              min_split_gain=0.0, n_estimators=500, n_jobs=-1, num_leaves=31,\n",
    "                                              objective=None, random_state=None, reg_alpha=1, reg_lambda=1,\n",
    "                                              seed=42, silent=True, subsample=0.8, subsample_for_bin=200000,\n",
    "                                              subsample_freq=0))])\n",
    "    \n",
    "    params = {\n",
    "        'clf__max_depth':[10],\n",
    "        'clf__n_estimators':[300,500,750],\n",
    "        'clf__learning_rate':[0.01,0.015,0.02]\n",
    "    }\n",
    "\n",
    "\n",
    "    \n",
    "    lgb_gs = GridSearchCV(pipe, param_grid=params, cv=splits_iter,  \n",
    "                              scoring='neg_mean_absolute_error', n_jobs=-1, verbose=3)\n",
    "    \n",
    "    lgb_gs.fit(X_train.drop(columns='installation_id'), y_train)\n",
    "    lgb_est = lgb_gs.best_estimator_     \n",
    "\n",
    "    y_train_pred = lgb_est.predict(X_train.drop(columns='installation_id'))\n",
    "    y_test_pred = lgb_est.predict(X_test)\n",
    "\n",
    "    print('cohen kappa score train: ',cohen_kappa_score(y_train.astype(int), reg_to_class(y_train_pred), weights='quadratic'))\n",
    "    print('cohen kappa score test: ',cohen_kappa_score(y_test.astype(int), reg_to_class(y_test_pred), weights='quadratic'))\n",
    "    return cohen_kappa_score(y_test.astype(int), reg_to_class(y_test_pred), weights='quadratic'), lgb_est"
   ]
  },
  {
   "cell_type": "code",
   "execution_count": 135,
   "metadata": {},
   "outputs": [],
   "source": [
    "def fit_model(estimator, X_train, y_train, X_test, y_test):\n",
    "    X_test = X_test.to_numpy()\n",
    "    estimator.fit(X_train, y_train)\n",
    "    y_train_pred = estimator.predict(X_train)\n",
    "    y_test_pred = estimator.predict(X_test)\n",
    "    return cohen_kappa_score(y_train, reg_to_class(y_train_pred), weights='quadratic'), cohen_kappa_score(y_test, reg_to_class(y_test_pred), weights='quadratic')     "
   ]
  },
  {
   "cell_type": "markdown",
   "metadata": {},
   "source": [
    "# Splitting to new / exprienced users"
   ]
  },
  {
   "cell_type": "code",
   "execution_count": 136,
   "metadata": {},
   "outputs": [
    {
     "data": {
      "text/plain": [
       "((3614, 360), (41549, 440))"
      ]
     },
     "execution_count": 136,
     "metadata": {},
     "output_type": "execute_result"
    }
   ],
   "source": [
    "# New users\n",
    "train_agg_clean_dummies_no_ass = train_agg_clean_dummies.loc[train_agg_clean_dummies.first_ass==1].T.drop_duplicates().T\n",
    "train_agg_clean_dummies_no_ass.shape, train_agg_clean_dummies.shape"
   ]
  },
  {
   "cell_type": "code",
   "execution_count": 137,
   "metadata": {},
   "outputs": [
    {
     "data": {
      "text/plain": [
       "1"
      ]
     },
     "execution_count": 137,
     "metadata": {},
     "output_type": "execute_result"
    }
   ],
   "source": [
    "cols_to_remove = train_agg_clean_dummies_no_ass.apply(lambda c: True if c.sum()==0 else False) # remove columns with no data\n",
    "train_agg_clean_dummies_no_ass.drop(columns=train_agg_clean_dummies_no_ass.loc[:,cols_to_remove].columns.tolist(),inplace=True)\n",
    "train_agg_clean_dummies_no_ass.drop(columns='first_ass', inplace=True)\n",
    "train_agg_clean_dummies.drop(columns='first_ass', inplace=True)\n",
    "sum(cols_to_remove)"
   ]
  },
  {
   "cell_type": "code",
   "execution_count": 138,
   "metadata": {},
   "outputs": [
    {
     "data": {
      "text/plain": [
       "accuracy_group\n",
       "0     811\n",
       "1     409\n",
       "2     433\n",
       "3    1961\n",
       "Name: installation_id, dtype: int64"
      ]
     },
     "execution_count": 138,
     "metadata": {},
     "output_type": "execute_result"
    }
   ],
   "source": [
    "train_agg_clean_dummies_no_ass.groupby('accuracy_group')['installation_id'].count()"
   ]
  },
  {
   "cell_type": "code",
   "execution_count": 139,
   "metadata": {},
   "outputs": [],
   "source": [
    "idx_no_ass = train_agg_clean_dummies_no_ass.index"
   ]
  },
  {
   "cell_type": "markdown",
   "metadata": {},
   "source": [
    "# Creating CV\n",
    "Becuase the same user data was splited into several data sets according to the number of assessments he\\she took, I'll use GroupKfold by installaion_id."
   ]
  },
  {
   "cell_type": "code",
   "execution_count": 142,
   "metadata": {},
   "outputs": [
    {
     "data": {
      "text/plain": [
       "((30380, 438), (7555, 438), (30380,), (7555,))"
      ]
     },
     "execution_count": 142,
     "metadata": {},
     "output_type": "execute_result"
    }
   ],
   "source": [
    "# experienced users\n",
    "\n",
    "X = train_agg_clean_dummies.loc[~train_agg_clean_dummies.index.isin(idx_no_ass)].drop(columns=['accuracy_group']) # I won't drop 'installation_id' for later use in group kfold\n",
    "y = train_agg_clean_dummies.loc[~train_agg_clean_dummies.index.isin(idx_no_ass)].accuracy_group\n",
    "\n",
    "gss = GroupShuffleSplit(1, test_size=0.2, random_state=4)\n",
    "gss.get_n_splits()\n",
    "\n",
    "for train_idx, test_idx in gss.split(X, y, train_agg_clean_dummies.loc[~train_agg_clean_dummies.index.isin(idx_no_ass)].installation_id):\n",
    "    X_train = X.iloc[train_idx]\n",
    "    X_test = X.iloc[test_idx]\n",
    "    y_train = y.iloc[train_idx]\n",
    "    y_test = y.iloc[test_idx]\n",
    "\n",
    "X_train.shape, X_test.shape, y_train.shape, y_test.shape"
   ]
  },
  {
   "cell_type": "code",
   "execution_count": 143,
   "metadata": {},
   "outputs": [
    {
     "data": {
      "text/plain": [
       "((3071, 357), (543, 357), (3071,), (543,))"
      ]
     },
     "execution_count": 143,
     "metadata": {},
     "output_type": "execute_result"
    }
   ],
   "source": [
    "# new users\n",
    "\n",
    "X_no_ass = train_agg_clean_dummies_no_ass.drop(columns=['accuracy_group']) # I won't drop 'installation_id' for later use in group kfold\n",
    "y_no_ass = train_agg_clean_dummies_no_ass.accuracy_group\n",
    "\n",
    "gss_no_ass = GroupShuffleSplit(1, test_size=0.15, random_state=4)\n",
    "gss_no_ass.get_n_splits()\n",
    "\n",
    "for train_idx, test_idx in gss_no_ass.split(X_no_ass, y_no_ass, train_agg_clean_dummies_no_ass.installation_id):\n",
    "    X_train_no_ass = X_no_ass.iloc[train_idx]\n",
    "    X_test_no_ass = X_no_ass.iloc[test_idx]\n",
    "    y_train_no_ass = y_no_ass.iloc[train_idx]\n",
    "    y_test_no_ass = y_no_ass.iloc[test_idx]\n",
    "\n",
    "X_train_no_ass.shape, X_test_no_ass.shape, y_train_no_ass.shape, y_test_no_ass.shape"
   ]
  },
  {
   "cell_type": "markdown",
   "metadata": {},
   "source": [
    "## Oversampling minority classes using SMOTE and hyper-parameters tuning using GridSearch"
   ]
  },
  {
   "cell_type": "markdown",
   "metadata": {},
   "source": [
    "Note: After some trails the performance was better without oversampling at all."
   ]
  },
  {
   "cell_type": "code",
   "execution_count": 144,
   "metadata": {},
   "outputs": [
    {
     "name": "stdout",
     "output_type": "stream",
     "text": [
      "Fitting 10 folds for each of 27 candidates, totalling 270 fits\n"
     ]
    },
    {
     "name": "stderr",
     "output_type": "stream",
     "text": [
      "[Parallel(n_jobs=-1)]: Using backend LokyBackend with 6 concurrent workers.\n",
      "[Parallel(n_jobs=-1)]: Done  20 tasks      | elapsed: 19.6min\n",
      "[Parallel(n_jobs=-1)]: Done 116 tasks      | elapsed: 126.5min\n",
      "[Parallel(n_jobs=-1)]: Done 270 out of 270 | elapsed: 287.7min finished\n"
     ]
    },
    {
     "name": "stdout",
     "output_type": "stream",
     "text": [
      "[22:01:13] WARNING: C:/Jenkins/workspace/xgboost-win64_release_0.90/src/objective/regression_obj.cu:152: reg:linear is now deprecated in favor of reg:squarederror.\n",
      "cohen kappa score train:  0.8162593080902081\n",
      "cohen kappa score test:  0.6530678229774609\n",
      "Fitting 10 folds for each of 27 candidates, totalling 270 fits\n"
     ]
    },
    {
     "name": "stderr",
     "output_type": "stream",
     "text": [
      "[Parallel(n_jobs=-1)]: Using backend LokyBackend with 6 concurrent workers.\n",
      "[Parallel(n_jobs=-1)]: Done  20 tasks      | elapsed:  2.3min\n",
      "[Parallel(n_jobs=-1)]: Done 116 tasks      | elapsed: 13.3min\n",
      "[Parallel(n_jobs=-1)]: Done 270 out of 270 | elapsed: 28.9min finished\n"
     ]
    },
    {
     "name": "stdout",
     "output_type": "stream",
     "text": [
      "cohen kappa score train:  0.772429288334224\n",
      "cohen kappa score test:  0.6585534011039766\n"
     ]
    }
   ],
   "source": [
    "### experienced users ###\n",
    "\n",
    "xgb_model = train_xgb(X_train, y_train, \n",
    "                      X_test.drop(columns='installation_id'), y_test)\n",
    "lgb_model = train_lgb(X_train, y_train, \n",
    "                      X_test.drop(columns='installation_id'), y_test)"
   ]
  },
  {
   "cell_type": "code",
   "execution_count": 210,
   "metadata": {},
   "outputs": [
    {
     "data": {
      "text/plain": [
       "Text(0.5, 1.0, \"experienced user's target values distribution - TRAIN SET\")"
      ]
     },
     "execution_count": 210,
     "metadata": {},
     "output_type": "execute_result"
    },
    {
     "data": {
      "image/png": "[encoded data removed]",
      "text/plain": [
       "<Figure size 432x288 with 1 Axes>"
      ]
     },
     "metadata": {
      "needs_background": "light"
     },
     "output_type": "display_data"
    }
   ],
   "source": [
    "# train set \n",
    "y_true = y_train.value_counts()\n",
    "y_true.name = 'y_true'\n",
    "lgb_preds = pd.Series(reg_to_class(lgb_model[1].predict(X_train.drop(columns='installation_id').to_numpy()))).value_counts()\n",
    "lgb_preds.name = 'lgb_preds'\n",
    "xgb_preds = pd.Series(reg_to_class(xgb_model[1].predict(X_train.drop(columns='installation_id').to_numpy()))).value_counts()\n",
    "xgb_preds.name = 'xgb_preds'\n",
    "\n",
    "lgb_preds.to_frame().join(xgb_preds).join(y_true).sort_index().plot.bar()\n",
    "plt.title(\"experienced user's target values distribution - TRAIN SET\")\n",
    "plt.show()"
   ]
  },
  {
   "cell_type": "code",
   "execution_count": 211,
   "metadata": {},
   "outputs": [
    {
     "data": {
      "text/plain": [
       "Text(0.5, 1.0, \"experienced user's target values distribution - VALIDATION SET\")"
      ]
     },
     "execution_count": 211,
     "metadata": {},
     "output_type": "execute_result"
    },
    {
     "data": {
      "image/png": "[encoded data removed]",
      "text/plain": [
       "<Figure size 432x288 with 1 Axes>"
      ]
     },
     "metadata": {
      "needs_background": "light"
     },
     "output_type": "display_data"
    }
   ],
   "source": [
    "# test set\n",
    "y_true = y_test.value_counts()\n",
    "y_true.name = 'y_true'\n",
    "lgb_preds = pd.Series(reg_to_class(lgb_model[1].predict(X_test.drop(columns='installation_id').to_numpy()))).value_counts()\n",
    "lgb_preds.name = 'lgb_preds'\n",
    "xgb_preds = pd.Series(reg_to_class(xgb_model[1].predict(X_test.drop(columns='installation_id').to_numpy()))).value_counts()\n",
    "xgb_preds.name = 'xgb_preds'\n",
    "\n",
    "lgb_preds.to_frame().join(xgb_preds).join(y_true).sort_index().plot.bar()\n",
    "plt.title(\"experienced user's target values distribution - VALIDATION SET\")\n",
    "plt.show()"
   ]
  },
  {
   "cell_type": "code",
   "execution_count": 147,
   "metadata": {},
   "outputs": [
    {
     "name": "stdout",
     "output_type": "stream",
     "text": [
      "Fitting 10 folds for each of 27 candidates, totalling 270 fits\n"
     ]
    },
    {
     "name": "stderr",
     "output_type": "stream",
     "text": [
      "[Parallel(n_jobs=-1)]: Using backend LokyBackend with 6 concurrent workers.\n",
      "[Parallel(n_jobs=-1)]: Done  20 tasks      | elapsed:   51.1s\n",
      "[Parallel(n_jobs=-1)]: Done 116 tasks      | elapsed:  7.5min\n",
      "[Parallel(n_jobs=-1)]: Done 270 out of 270 | elapsed: 18.9min finished\n"
     ]
    },
    {
     "name": "stdout",
     "output_type": "stream",
     "text": [
      "[22:55:18] WARNING: C:/Jenkins/workspace/xgboost-win64_release_0.90/src/objective/regression_obj.cu:152: reg:linear is now deprecated in favor of reg:squarederror.\n",
      "cohen kappa score train:  0.8829759866372295\n",
      "cohen kappa score test:  0.4004120380454512\n",
      "Fitting 10 folds for each of 9 candidates, totalling 90 fits\n"
     ]
    },
    {
     "name": "stderr",
     "output_type": "stream",
     "text": [
      "[Parallel(n_jobs=-1)]: Using backend LokyBackend with 6 concurrent workers.\n",
      "[Parallel(n_jobs=-1)]: Done  20 tasks      | elapsed:    8.8s\n",
      "[Parallel(n_jobs=-1)]: Done  90 out of  90 | elapsed:   41.4s finished\n"
     ]
    },
    {
     "name": "stdout",
     "output_type": "stream",
     "text": [
      "cohen kappa score train:  0.7406894792435917\n",
      "cohen kappa score test:  0.45063107390964197\n"
     ]
    }
   ],
   "source": [
    "### New users ###\n",
    "xgb_model_no_ass = train_xgb_new(X_train_no_ass, y_train_no_ass,\n",
    "                             X_test_no_ass.drop(columns='installation_id'), y_test_no_ass)\n",
    "lgb_model_no_ass = train_lgb_new(X_train_no_ass, y_train_no_ass,\n",
    "                             X_test_no_ass.drop(columns='installation_id'), y_test_no_ass)"
   ]
  },
  {
   "cell_type": "code",
   "execution_count": 212,
   "metadata": {},
   "outputs": [
    {
     "data": {
      "text/plain": [
       "Text(0.5, 1.0, \"new user's target values distribution - TRAIN SET\")"
      ]
     },
     "execution_count": 212,
     "metadata": {},
     "output_type": "execute_result"
    },
    {
     "data": {
      "image/png": "[encoded data removed]",
      "text/plain": [
       "<Figure size 432x288 with 1 Axes>"
      ]
     },
     "metadata": {
      "needs_background": "light"
     },
     "output_type": "display_data"
    }
   ],
   "source": [
    "# train set\n",
    "y_true_no_ass = y_train_no_ass.value_counts()\n",
    "y_true_no_ass.name = 'y_true'\n",
    "lgb_preds_no_ass = pd.Series(reg_to_class(lgb_model_no_ass[1].predict(X_train_no_ass.drop(columns='installation_id').to_numpy()))).value_counts()\n",
    "lgb_preds_no_ass.name = 'lgb_preds_no_ass'\n",
    "xgb_preds_no_ass = pd.Series(reg_to_class(xgb_model_no_ass[1].predict(X_train_no_ass.drop(columns='installation_id').to_numpy()))).value_counts()\n",
    "xgb_preds_no_ass.name = 'xgb_preds_no_ass'\n",
    "\n",
    "xgb_preds_no_ass.to_frame().join(lgb_preds_no_ass).join(y_true_no_ass).sort_index().plot.bar()\n",
    "plt.title(\"new user's target values distribution - TRAIN SET\")\n",
    "plt.show()"
   ]
  },
  {
   "cell_type": "code",
   "execution_count": 213,
   "metadata": {},
   "outputs": [
    {
     "data": {
      "text/plain": [
       "Text(0.5, 1.0, \"new user's target values distribution - VALIDATION SET\")"
      ]
     },
     "execution_count": 213,
     "metadata": {},
     "output_type": "execute_result"
    },
    {
     "data": {
      "image/png": "[encoded data removed]",
      "text/plain": [
       "<Figure size 432x288 with 1 Axes>"
      ]
     },
     "metadata": {
      "needs_background": "light"
     },
     "output_type": "display_data"
    }
   ],
   "source": [
    "# test set\n",
    "y_true_no_ass = y_test_no_ass.value_counts()\n",
    "y_true_no_ass.name = 'y_true'\n",
    "lgb_preds_no_ass = pd.Series(reg_to_class(lgb_model_no_ass[1].predict(X_test_no_ass.drop(columns='installation_id').to_numpy()))).value_counts()\n",
    "lgb_preds_no_ass.name = 'lgb_preds_no_ass'\n",
    "xgb_preds_no_ass = pd.Series(reg_to_class(xgb_model_no_ass[1].predict(X_test_no_ass.drop(columns='installation_id').to_numpy()))).value_counts()\n",
    "xgb_preds_no_ass.name = 'xgb_preds_no_ass'\n",
    "\n",
    "xgb_preds_no_ass.to_frame().join(lgb_preds_no_ass).join(y_true_no_ass).sort_index().plot.bar()\n",
    "plt.title(\"new user's target values distribution - VALIDATION SET\")\n",
    "plt.show()"
   ]
  },
  {
   "cell_type": "markdown",
   "metadata": {},
   "source": [
    "#### Expreienced Users Score:"
   ]
  },
  {
   "cell_type": "code",
   "execution_count": 235,
   "metadata": {},
   "outputs": [
    {
     "data": {
      "text/plain": [
       "0.6585534011039766"
      ]
     },
     "execution_count": 235,
     "metadata": {},
     "output_type": "execute_result"
    }
   ],
   "source": [
    "# users with no assessments history perform worse\n",
    "\n",
    "exp_lgbm = \\\n",
    "cohen_kappa_score(y_test.astype(int), \n",
    "                  reg_to_class(lgb_model[1].predict(X_test.drop(columns='installation_id').to_numpy())),\n",
    "                  weights='quadratic')\n",
    "exp_lgbm"
   ]
  },
  {
   "cell_type": "code",
   "execution_count": 236,
   "metadata": {},
   "outputs": [
    {
     "data": {
      "text/plain": [
       "0.6530678229774609"
      ]
     },
     "execution_count": 236,
     "metadata": {},
     "output_type": "execute_result"
    }
   ],
   "source": [
    "exp_xgb = \\\n",
    "cohen_kappa_score(y_test.astype(int), \n",
    "                  reg_to_class(xgb_model[1].predict(X_test.drop(columns='installation_id').to_numpy())),\n",
    "                  weights='quadratic')\n",
    "exp_xgb"
   ]
  },
  {
   "cell_type": "markdown",
   "metadata": {},
   "source": [
    "**Experienced users score perform well with both models.**"
   ]
  },
  {
   "cell_type": "markdown",
   "metadata": {},
   "source": [
    "#### New Users Score:"
   ]
  },
  {
   "cell_type": "code",
   "execution_count": 233,
   "metadata": {},
   "outputs": [
    {
     "data": {
      "text/plain": [
       "0.45063107390964197"
      ]
     },
     "execution_count": 233,
     "metadata": {},
     "output_type": "execute_result"
    }
   ],
   "source": [
    "# users with no assessments history perform worse\n",
    "\n",
    "new_lgbm = \\\n",
    "cohen_kappa_score(y_test_no_ass.astype(int), \n",
    "                  reg_to_class(lgb_model_no_ass[1].predict(X_test_no_ass.drop(columns='installation_id').to_numpy())), \n",
    "                  weights='quadratic')\n",
    "new_lgbm"
   ]
  },
  {
   "cell_type": "code",
   "execution_count": 234,
   "metadata": {},
   "outputs": [
    {
     "data": {
      "text/plain": [
       "0.4004120380454512"
      ]
     },
     "execution_count": 234,
     "metadata": {},
     "output_type": "execute_result"
    }
   ],
   "source": [
    "new_gxb = \\\n",
    "cohen_kappa_score(y_test_no_ass.astype(int), \n",
    "                  reg_to_class(xgb_model_no_ass[1].predict(X_test_no_ass.drop(columns='installation_id').to_numpy())), \n",
    "                  weights='quadratic')\n",
    "new_gxb"
   ]
  },
  {
   "cell_type": "markdown",
   "metadata": {},
   "source": [
    "**In general prediction on new users perform worse. LGBM model is prefered.**"
   ]
  },
  {
   "cell_type": "code",
   "execution_count": 230,
   "metadata": {},
   "outputs": [
    {
     "name": "stdout",
     "output_type": "stream",
     "text": [
      "experienced users train score: 0.772429288334224\n",
      "new users train score: 0.7406894792435917\n"
     ]
    }
   ],
   "source": [
    "# checking for overfitting:\n",
    "\n",
    "print('experienced users train score:',\n",
    "     cohen_kappa_score(y_train.astype(int), \n",
    "                  reg_to_class(lgb_model[1].predict(X_train.drop(columns='installation_id').to_numpy())),\n",
    "                  weights='quadratic'))\n",
    "print('new users train score:',\n",
    "     cohen_kappa_score(y_train_no_ass.astype(int), \n",
    "                  reg_to_class(lgb_model_no_ass[1].predict(X_train_no_ass.drop(columns='installation_id').to_numpy())), \n",
    "                  weights='quadratic'))"
   ]
  },
  {
   "cell_type": "markdown",
   "metadata": {},
   "source": [
    "**New users model is overfitted but I'll keep it as it is.**"
   ]
  },
  {
   "cell_type": "markdown",
   "metadata": {},
   "source": [
    "### Mean Score - Experienced & New Users"
   ]
  },
  {
   "cell_type": "code",
   "execution_count": 237,
   "metadata": {},
   "outputs": [
    {
     "data": {
      "text/plain": [
       "2.4601107131227615"
      ]
     },
     "execution_count": 237,
     "metadata": {},
     "output_type": "execute_result"
    }
   ],
   "source": [
    "# experienced / new users ratio \n",
    "\n",
    "exp_ratio = len(y_test) / len(y_train_no_ass)\n",
    "exp_ratio"
   ]
  },
  {
   "cell_type": "code",
   "execution_count": 247,
   "metadata": {},
   "outputs": [
    {
     "name": "stdout",
     "output_type": "stream",
     "text": [
      "mean score: 0.580\n"
     ]
    }
   ],
   "source": [
    "# mean score\n",
    "\n",
    "print(f'mean score: {(new_gxb + exp_ratio * exp_xgb) / (1 + exp_ratio):.3f}')"
   ]
  },
  {
   "cell_type": "markdown",
   "metadata": {},
   "source": [
    "**For comparison, the top 100 score was 0.547**."
   ]
  },
  {
   "cell_type": "markdown",
   "metadata": {},
   "source": [
    "# Test Set\n",
    "I'll follow the same steps used on train set for setting the test set ready for predictions."
   ]
  },
  {
   "cell_type": "code",
   "execution_count": 252,
   "metadata": {},
   "outputs": [],
   "source": [
    "test = pd.read_csv('test.csv')"
   ]
  },
  {
   "cell_type": "code",
   "execution_count": 253,
   "metadata": {},
   "outputs": [],
   "source": [
    "test.timestamp = pd.to_datetime(test.timestamp)\n",
    "test['date'] = test.timestamp.dt.date "
   ]
  },
  {
   "cell_type": "code",
   "execution_count": 254,
   "metadata": {},
   "outputs": [
    {
     "data": {
      "text/html": [
       "<div>\n",
       "<style scoped>\n",
       "    .dataframe tbody tr th:only-of-type {\n",
       "        vertical-align: middle;\n",
       "    }\n",
       "\n",
       "    .dataframe tbody tr th {\n",
       "        vertical-align: top;\n",
       "    }\n",
       "\n",
       "    .dataframe thead th {\n",
       "        text-align: right;\n",
       "    }\n",
       "</style>\n",
       "<table border=\"1\" class=\"dataframe\">\n",
       "  <thead>\n",
       "    <tr style=\"text-align: right;\">\n",
       "      <th></th>\n",
       "      <th>event_id</th>\n",
       "      <th>game_session</th>\n",
       "      <th>timestamp</th>\n",
       "      <th>event_data</th>\n",
       "      <th>installation_id</th>\n",
       "      <th>event_count</th>\n",
       "      <th>event_code</th>\n",
       "      <th>game_time</th>\n",
       "      <th>title</th>\n",
       "      <th>type</th>\n",
       "      <th>world</th>\n",
       "      <th>date</th>\n",
       "    </tr>\n",
       "  </thead>\n",
       "  <tbody>\n",
       "    <tr>\n",
       "      <th>0</th>\n",
       "      <td>27253bdc</td>\n",
       "      <td>0ea9ecc81a565215</td>\n",
       "      <td>2019-09-10 16:50:24.910000+00:00</td>\n",
       "      <td>{\"event_code\": 2000, \"event_count\": 1}</td>\n",
       "      <td>00abaee7</td>\n",
       "      <td>1</td>\n",
       "      <td>2000</td>\n",
       "      <td>0</td>\n",
       "      <td>Welcome to Lost Lagoon!</td>\n",
       "      <td>Clip</td>\n",
       "      <td>NONE</td>\n",
       "      <td>2019-09-10</td>\n",
       "    </tr>\n",
       "    <tr>\n",
       "      <th>1</th>\n",
       "      <td>27253bdc</td>\n",
       "      <td>c1ea43d8b8261d27</td>\n",
       "      <td>2019-09-10 16:50:55.503000+00:00</td>\n",
       "      <td>{\"event_code\": 2000, \"event_count\": 1}</td>\n",
       "      <td>00abaee7</td>\n",
       "      <td>1</td>\n",
       "      <td>2000</td>\n",
       "      <td>0</td>\n",
       "      <td>Magma Peak - Level 1</td>\n",
       "      <td>Clip</td>\n",
       "      <td>MAGMAPEAK</td>\n",
       "      <td>2019-09-10</td>\n",
       "    </tr>\n",
       "  </tbody>\n",
       "</table>\n",
       "</div>"
      ],
      "text/plain": [
       "   event_id      game_session                        timestamp  \\\n",
       "0  27253bdc  0ea9ecc81a565215 2019-09-10 16:50:24.910000+00:00   \n",
       "1  27253bdc  c1ea43d8b8261d27 2019-09-10 16:50:55.503000+00:00   \n",
       "\n",
       "                               event_data installation_id  event_count  \\\n",
       "0  {\"event_code\": 2000, \"event_count\": 1}        00abaee7            1   \n",
       "1  {\"event_code\": 2000, \"event_count\": 1}        00abaee7            1   \n",
       "\n",
       "   event_code  game_time                    title  type      world        date  \n",
       "0        2000          0  Welcome to Lost Lagoon!  Clip       NONE  2019-09-10  \n",
       "1        2000          0     Magma Peak - Level 1  Clip  MAGMAPEAK  2019-09-10  "
      ]
     },
     "execution_count": 254,
     "metadata": {},
     "output_type": "execute_result"
    }
   ],
   "source": [
    "test.head(2)"
   ]
  },
  {
   "cell_type": "markdown",
   "metadata": {},
   "source": [
    "# Predicting Group Accuracy"
   ]
  },
  {
   "cell_type": "markdown",
   "metadata": {},
   "source": [
    "### Apply new column for checking assessment success"
   ]
  },
  {
   "cell_type": "code",
   "execution_count": 255,
   "metadata": {},
   "outputs": [],
   "source": [
    "event_test = test.loc[(((test.title=='Bird Measurer (Assessment)') & (test.event_code==4110)) |\n",
    "                ((test.title!='Bird Measurer (Assessment)') & (test.event_code==4100)& \n",
    "                 (test.type=='Assessment'))),'event_data'].apply(lambda s: json.loads(s))"
   ]
  },
  {
   "cell_type": "code",
   "execution_count": 256,
   "metadata": {},
   "outputs": [
    {
     "data": {
      "text/html": [
       "<div>\n",
       "<style scoped>\n",
       "    .dataframe tbody tr th:only-of-type {\n",
       "        vertical-align: middle;\n",
       "    }\n",
       "\n",
       "    .dataframe tbody tr th {\n",
       "        vertical-align: top;\n",
       "    }\n",
       "\n",
       "    .dataframe thead th {\n",
       "        text-align: right;\n",
       "    }\n",
       "</style>\n",
       "<table border=\"1\" class=\"dataframe\">\n",
       "  <thead>\n",
       "    <tr style=\"text-align: right;\">\n",
       "      <th></th>\n",
       "      <th>correct</th>\n",
       "    </tr>\n",
       "    <tr>\n",
       "      <th>index</th>\n",
       "      <th></th>\n",
       "    </tr>\n",
       "  </thead>\n",
       "  <tbody>\n",
       "    <tr>\n",
       "      <th>303</th>\n",
       "      <td>True</td>\n",
       "    </tr>\n",
       "    <tr>\n",
       "      <th>1561</th>\n",
       "      <td>False</td>\n",
       "    </tr>\n",
       "    <tr>\n",
       "      <th>1569</th>\n",
       "      <td>True</td>\n",
       "    </tr>\n",
       "    <tr>\n",
       "      <th>1961</th>\n",
       "      <td>True</td>\n",
       "    </tr>\n",
       "    <tr>\n",
       "      <th>2333</th>\n",
       "      <td>False</td>\n",
       "    </tr>\n",
       "  </tbody>\n",
       "</table>\n",
       "</div>"
      ],
      "text/plain": [
       "       correct\n",
       "index         \n",
       "303       True\n",
       "1561     False\n",
       "1569      True\n",
       "1961      True\n",
       "2333     False"
      ]
     },
     "execution_count": 256,
     "metadata": {},
     "output_type": "execute_result"
    }
   ],
   "source": [
    "event_test.reset_index().join(pd.io.json.json_normalize(event_test).correct).set_index('index').drop(columns='event_data').head()"
   ]
  },
  {
   "cell_type": "code",
   "execution_count": 257,
   "metadata": {},
   "outputs": [],
   "source": [
    "test = test.join(event_test.reset_index().join(pd.io.json.json_normalize(event_test).correct).set_index('index').drop(columns='event_data'))"
   ]
  },
  {
   "cell_type": "code",
   "execution_count": 258,
   "metadata": {},
   "outputs": [],
   "source": [
    "test.drop(columns='event_data', inplace=True)"
   ]
  },
  {
   "cell_type": "markdown",
   "metadata": {},
   "source": [
    "# Calculating Agg. Features For Test Set"
   ]
  },
  {
   "cell_type": "code",
   "execution_count": 259,
   "metadata": {},
   "outputs": [],
   "source": [
    "df_id_test = []\n",
    "for name, group in test.groupby('installation_id', sort=False):\n",
    "\n",
    "    ass = group.loc[(((group.title=='Bird Measurer (Assessment)') \n",
    "                                    & (group.event_code==4110)) |\n",
    "                                        ((group.title!='Bird Measurer (Assessment)') \n",
    "                                         & (group.event_code==4100)& \n",
    "                                         (group.type=='Assessment')))]\n",
    "        \n",
    "#     total games time exp.\n",
    "    test_date_id = []\n",
    "    prev_game_per_date = group.loc[group.type=='Game'].groupby(['game_session','title'])['game_time'].max()\n",
    "    total_game_time_id = prev_game_per_date.groupby('title').sum()\n",
    "    total_game_time_id = total_game_time_id.to_frame().T\n",
    "    total_game_time_id.index = [name] * len(total_game_time_id)\n",
    "    total_game_time_id.columns = ['total_game_time_' + str(col) for col in total_game_time_id.columns]\n",
    "    if total_game_time_id.shape[1]>0:\n",
    "        test_date_id.append(total_game_time_id)\n",
    "    else:\n",
    "        pass\n",
    "\n",
    "    prev_game_moves_per_date = group.loc[group.type=='Game'].groupby(['game_session','title'])['event_count'].max()\n",
    "    total_game_moves_id = prev_game_moves_per_date.groupby('title').sum()\n",
    "#         formating as line for df\n",
    "    total_game_moves_id = total_game_moves_id.to_frame().T\n",
    "    total_game_moves_id.index = [name] * len(total_game_moves_id)\n",
    "    total_game_moves_id.columns = ['total_game_moves_' + str(col) for col in total_game_moves_id.columns]\n",
    "    if total_game_moves_id.shape[1]>0:\n",
    "        test_date_id.append(total_game_moves_id)\n",
    "    else:\n",
    "        pass\n",
    "    \n",
    "    prev_activity_per_date = group.loc[group.type=='Activity'].groupby(['game_session','title'])['game_time'].max()\n",
    "    total_activity_time_id = prev_activity_per_date.groupby('title').sum()\n",
    "#         formating as line for df\n",
    "    total_activity_time_id = total_activity_time_id.to_frame().T\n",
    "    total_activity_time_id.index = [name] * len(total_activity_time_id)\n",
    "    total_activity_time_id.columns = ['total_activity_time_' + str(col) for col in total_activity_time_id.columns]\n",
    "    if total_activity_time_id.shape[1]>0:\n",
    "        test_date_id.append(total_activity_time_id)\n",
    "    else:\n",
    "        pass\n",
    "\n",
    "    prev_activity_moves_per_date = group.loc[group.type=='Activity'].groupby(['game_session','title'])['event_count'].max()\n",
    "    total_activity_moves_id = prev_activity_moves_per_date.groupby('title').sum()\n",
    "#         formating as line for df\n",
    "    total_activity_moves_id = total_activity_moves_id.to_frame().T\n",
    "    total_activity_moves_id.index = [name] * len(total_activity_moves_id)\n",
    "    total_activity_moves_id.columns = ['total_activity_moves_' + str(col) for col in total_activity_moves_id.columns]\n",
    "    if total_activity_moves_id.shape[1]>0:\n",
    "        test_date_id.append(total_activity_moves_id)\n",
    "    else:\n",
    "        pass\n",
    "\n",
    "    prev_ass_per_date = group.loc[group.type=='Assessment'].groupby(['game_session','title'])['game_time'].max()\n",
    "    total_ass_time_id = prev_ass_per_date.groupby('title').sum()\n",
    "#         formating as line for df\n",
    "    total_ass_time_id = total_ass_time_id.to_frame().T\n",
    "    total_ass_time_id.index = [name] * len(total_ass_time_id)\n",
    "    total_ass_time_id.columns = ['total_ass_time_' + str(col) for col in total_ass_time_id.columns]\n",
    "    if total_ass_time_id.shape[1]>0:\n",
    "        test_date_id.append(total_ass_time_id)\n",
    "    else:\n",
    "        pass\n",
    "\n",
    "    prev_ass_moves_per_date = group.loc[group.type=='Assessment'].groupby(['game_session','title'])['event_count'].max()\n",
    "    total_ass_moves_id = prev_ass_moves_per_date.groupby('title').sum()\n",
    "#         formating as line for df\n",
    "    total_ass_moves_id = total_ass_moves_id.to_frame().T\n",
    "    total_ass_moves_id.index = [name] * len(total_ass_moves_id)\n",
    "    total_ass_moves_id.columns = ['total_ass_moves_' + str(col) for col in total_ass_moves_id.columns]\n",
    "    if total_ass_moves_id.shape[1]>0:\n",
    "        test_date_id.append(total_ass_moves_id)\n",
    "    else:\n",
    "        pass\n",
    "    \n",
    "#         total ass. took\n",
    "    total_ass_took = group.loc[group.type=='Assessment'].groupby(['title'])['game_session'].nunique()\n",
    "    total_ass_took_id = total_ass_took.groupby('title').sum()\n",
    "    total_ass_took_id = total_ass_took_id.to_frame().T\n",
    "    total_ass_took_id[group.title.iloc[-1]] -= -1\n",
    "    total_ass_took_id.index = [name] * len(total_ass_took_id)\n",
    "    total_ass_took_id.columns = ['total_ass_took_' + str(col) for col in total_ass_took_id.columns]\n",
    "    if total_ass_took_id.shape[1]>0:    \n",
    "        test_date_id.append(total_ass_took_id)\n",
    "    else:\n",
    "        pass\n",
    "\n",
    "#         total_days\n",
    "    total_active_days = pd.DataFrame(data={name:[group.date.nunique()]}).T.rename(columns={0:'total_active_days'})\n",
    "    test_date_id.append(total_active_days)\n",
    "\n",
    "#         clips\n",
    "    total_clips = pd.DataFrame(data={name:[group.loc[group.type=='Clip'].shape[0]]}).T.rename(columns={0:'total_clips'})\n",
    "    test_date_id.append(total_clips)\n",
    "\n",
    "#         cumsum game accuracy\n",
    "    total_success = ass.loc[ass.correct==True, 'correct'].sum()\n",
    "\n",
    "    total_tries = ass.shape[0]\n",
    "    if total_tries==0:\n",
    "        average_accuracy_score = 0\n",
    "    else:\n",
    "        average_accuracy_score = total_success / total_tries\n",
    "    average_accuracy = pd.DataFrame(data={name:[average_accuracy_score]}).T.rename(columns={0:'cumsum_accuracy'})\n",
    "    test_date_id.append(average_accuracy)        \n",
    "\n",
    "#         total attempts per game\n",
    "    if ass.shape[0]>0:\n",
    "        attemps = ass.groupby(['title','game_session'])['correct'].count().groupby('title') \n",
    "        total_attemp = attemps.sum()\n",
    "        total_attemp_df = total_attemp.to_frame().T\n",
    "        try:\n",
    "            total_attemp_df = total_attemp_df.drop(columns='total_clips')\n",
    "        except:\n",
    "            pass\n",
    "        total_attemp_df.index = [name] * len(total_attemp_df)\n",
    "        total_attemp_df.columns = ['total_attempts_' + str(col) for col in total_attemp_df.columns]\n",
    "        test_date_id.append(total_attemp_df)        \n",
    "    else:\n",
    "        pass\n",
    "\n",
    "\n",
    "#         average group_score by title\n",
    "    if ass.shape[0]>0:\n",
    "        avg_group_score = ass.groupby(['title','game_session'])['correct'].agg(true_attemp_num).apply(group_score)\\\n",
    "        .groupby('title').mean().to_frame().T\n",
    "        avg_group_score.index = [name] * len(avg_group_score)\n",
    "        avg_group_score.columns = ['avg_group_score_' + str(col) for col in avg_group_score.columns]\n",
    "        test_date_id.append(avg_group_score) \n",
    "    else:\n",
    "        pass\n",
    "\n",
    "#         max_group_score\n",
    "    if ass.shape[0]>0:\n",
    "        max_group_score = attemps.max().apply(group_score).to_frame().T\n",
    "        max_group_score.index = [name] * len(max_group_score)\n",
    "        max_group_score.columns = ['max_group_score_' + str(col) for col in max_group_score.columns]\n",
    "        test_date_id.append(max_group_score) \n",
    "    else:\n",
    "        pass\n",
    "\n",
    "#         prev_game_scores\n",
    "\n",
    "    score_table = ass.groupby(['world','title','game_session'])['correct'].agg(['count','sum']).reset_index()\n",
    "    score_table['group_score'] = 0\n",
    "    score_table['accuracy'] = 0\n",
    "\n",
    "    for row in range(score_table.shape[0]):\n",
    "        if score_table.loc[row,'sum']==0:\n",
    "            continue\n",
    "        elif score_table.loc[row,'count'] == 1:\n",
    "            score_table.loc[row,'group_score'] = 3\n",
    "            score_table.loc[row,'accuracy'] =  (1 / score_table.loc[row,'count'])\n",
    "\n",
    "        elif score_table.loc[row,'count'] > 2:\n",
    "            score_table.loc[row,'group_score'] = 1\n",
    "            score_table.loc[row,'accuracy'] = (1 / score_table.loc[row,'count'])\n",
    "        else:\n",
    "            score_table.loc[row,'group_score'] = 2\n",
    "            score_table.loc[row,'accuracy'] = (1 / score_table.loc[row,'count'])\n",
    "\n",
    "    if score_table.shape[0]>0:\n",
    "\n",
    "        group_accuracy_prev_games = score_table.groupby('title')['group_score','accuracy'].mean().T.iloc[1].to_frame().T\n",
    "        group_accuracy_prev_games.index = [name] * len(group_accuracy_prev_games)\n",
    "        group_accuracy_prev_games.columns = ['avg_accuracy_prev_games_' + str(col) for col in group_accuracy_prev_games.columns]\n",
    "        test_date_id.append(group_accuracy_prev_games) \n",
    "\n",
    "        total_wins_prev_games = score_table.groupby('title')['sum'].sum().to_frame().T\n",
    "        total_wins_prev_games.index = [name] * len(total_wins_prev_games)\n",
    "        total_wins_prev_games.columns = ['total_wins_prev_games_' + str(col) for col in total_wins_prev_games.columns]\n",
    "        test_date_id.append(total_wins_prev_games)         \n",
    "\n",
    "        total_group_score_games = score_table.groupby(['title','group_score'])['game_session'].count().to_frame().T\n",
    "        total_group_score_games.columns = [col[0] + '_group_' + str(col[1]) for col in total_group_score_games.columns.values]\n",
    "        total_group_score_games.index = [name] * len(total_wins_prev_games)\n",
    "        test_date_id.append(total_group_score_games) \n",
    "\n",
    "    #          total group accuracy history\n",
    "        total_group_history = score_table.groupby('group_score')['title'].count().to_frame().T\n",
    "        total_group_history.columns = ['group_'+str(col)+'_count' for col in total_group_history.columns.values]\n",
    "        total_group_history.index = [name] * len(total_group_history)\n",
    "        test_date_id.append(total_group_history) \n",
    "\n",
    "    #         accuracy in world ass.\n",
    "        avg_world_accuracy = score_table.groupby('world')['accuracy'].mean().to_frame().T\n",
    "        avg_world_accuracy.index = [name] * len(avg_world_accuracy)\n",
    "        avg_world_accuracy.columns = ['avg_accuracy_world_' + str(col) for col in avg_world_accuracy.columns]\n",
    "        test_date_id.append(avg_world_accuracy)\n",
    "\n",
    "    #         group in world ass.\n",
    "        avg_world_group = score_table.groupby('world')['group_score'].mean().to_frame().T\n",
    "        avg_world_group.index = [name] * len(avg_world_group)\n",
    "        avg_world_group.columns = ['avg_group_world_' + str(col) for col in avg_world_group.columns]\n",
    "        test_date_id.append(avg_world_group)\n",
    "\n",
    "\n",
    "    else:\n",
    "        pass\n",
    "\n",
    "    # first attemp in title\n",
    "    if prev_game_scores.shape[0]>0:\n",
    "        first_attempt = ~pd.DataFrame(prev_game_scores.index.str.contains(group.title.iloc[-1], regex=False)).any()\n",
    "        first_attempt.index = [name] * len(first_attempt)\n",
    "#         first_attempt.rename(columns={0:'first_attempt'},inplace=True)\n",
    "        first_attempt.name = 'first_attempt'\n",
    "        test_date_id.append(first_attempt) \n",
    "    else:\n",
    "        test_date_id.append(pd.DataFrame([True], columns=['first_attempt'], index=[name]))\n",
    "        \n",
    "#         first attempt ever\n",
    "    if ass.shape[0]==0:\n",
    "        test_date_id.append(pd.DataFrame([True], columns=['first_ass'], index=[name]))\n",
    "    else:\n",
    "        test_date_id.append(pd.DataFrame([False], columns=['first_ass'], index=[name]))\n",
    "\n",
    "#           games in world\n",
    "    world_games = group.loc[(group.world!='NONE') & \n",
    "                      (group.type=='Game')].groupby(['world'])['game_session'].nunique().to_frame().T\n",
    "    world_games.columns = ['total_games_'+str(col)+'_world' for col in world_games.columns.values]\n",
    "    world_games.index = [name] * len(world_games)\n",
    "    test_date_id.append(world_games) \n",
    "\n",
    "#         activities in world\n",
    "    world_activity = group.loc[(group.world!='NONE') & \n",
    "                              (group.type=='Activity')].groupby(['world'])['game_session'].nunique().to_frame().T\n",
    "    world_activity.columns = ['total_activities_'+str(col)+'_world' for col in world_activity.columns.values]\n",
    "    world_activity.index = [name] * len(world_activity)\n",
    "    test_date_id.append(world_activity) \n",
    "\n",
    "\n",
    "    \n",
    "#         event codes counter\n",
    "\n",
    "    event_codes_per_date = group.event_code.value_counts().to_frame().T\n",
    "    event_codes_per_date.index = [name] * len(event_codes_per_date)\n",
    "    event_codes_per_date.columns = ['event_code_' + str(col) for col in event_codes_per_date.columns]\n",
    "    test_date_id.append(event_codes_per_date)\n",
    "\n",
    "\n",
    "#         event id counter\n",
    "\n",
    "    event_id_per_date = group.event_id.value_counts().to_frame().T\n",
    "    try:\n",
    "        event_id_per_date.drop(columns='27253bdc', inplace=True) # similar to clip counter\n",
    "    except:\n",
    "        pass\n",
    "    event_id_per_date.index = [name] * len(event_id_per_date)\n",
    "    event_id_per_date.columns = ['event_code_' + str(col) for col in event_id_per_date.columns]\n",
    "    test_date_id.append(event_id_per_date)\n",
    "    \n",
    "    df_id_test.append(pd.concat(test_date_id, axis=1))\n",
    "\n"
   ]
  },
  {
   "cell_type": "code",
   "execution_count": 260,
   "metadata": {},
   "outputs": [
    {
     "name": "stdout",
     "output_type": "stream",
     "text": [
      "(1000, 526)\n"
     ]
    }
   ],
   "source": [
    "main_features_test = pd.concat(df_id_test).reset_index()\n",
    "main_features_test.fillna(0, inplace=True)\n",
    "print(main_features_test.shape)\n",
    "# main_features_test.sample(10)"
   ]
  },
  {
   "cell_type": "markdown",
   "metadata": {},
   "source": [
    "# Game Statistics"
   ]
  },
  {
   "cell_type": "code",
   "execution_count": 261,
   "metadata": {},
   "outputs": [
    {
     "data": {
      "text/html": [
       "<div>\n",
       "<style scoped>\n",
       "    .dataframe tbody tr th:only-of-type {\n",
       "        vertical-align: middle;\n",
       "    }\n",
       "\n",
       "    .dataframe tbody tr th {\n",
       "        vertical-align: top;\n",
       "    }\n",
       "\n",
       "    .dataframe thead th {\n",
       "        text-align: right;\n",
       "    }\n",
       "</style>\n",
       "<table border=\"1\" class=\"dataframe\">\n",
       "  <thead>\n",
       "    <tr style=\"text-align: right;\">\n",
       "      <th></th>\n",
       "      <th>accuracy</th>\n",
       "      <th>success_rate</th>\n",
       "      <th>overall_success_rate</th>\n",
       "    </tr>\n",
       "    <tr>\n",
       "      <th>title</th>\n",
       "      <th></th>\n",
       "      <th></th>\n",
       "      <th></th>\n",
       "    </tr>\n",
       "  </thead>\n",
       "  <tbody>\n",
       "    <tr>\n",
       "      <th>Bird Measurer (Assessment)</th>\n",
       "      <td>0.387379</td>\n",
       "      <td>0.677349</td>\n",
       "      <td>0.166697</td>\n",
       "    </tr>\n",
       "    <tr>\n",
       "      <th>Cart Balancer (Assessment)</th>\n",
       "      <td>0.742232</td>\n",
       "      <td>0.861238</td>\n",
       "      <td>0.533821</td>\n",
       "    </tr>\n",
       "    <tr>\n",
       "      <th>Cauldron Filler (Assessment)</th>\n",
       "      <td>0.735537</td>\n",
       "      <td>0.896178</td>\n",
       "      <td>0.486610</td>\n",
       "    </tr>\n",
       "    <tr>\n",
       "      <th>Chest Sorter (Assessment)</th>\n",
       "      <td>0.248625</td>\n",
       "      <td>0.412278</td>\n",
       "      <td>0.123307</td>\n",
       "    </tr>\n",
       "    <tr>\n",
       "      <th>Mushroom Sorter (Assessment)</th>\n",
       "      <td>0.711042</td>\n",
       "      <td>0.841895</td>\n",
       "      <td>0.505352</td>\n",
       "    </tr>\n",
       "  </tbody>\n",
       "</table>\n",
       "</div>"
      ],
      "text/plain": [
       "                              accuracy  success_rate  overall_success_rate\n",
       "title                                                                     \n",
       "Bird Measurer (Assessment)    0.387379      0.677349              0.166697\n",
       "Cart Balancer (Assessment)    0.742232      0.861238              0.533821\n",
       "Cauldron Filler (Assessment)  0.735537      0.896178              0.486610\n",
       "Chest Sorter (Assessment)     0.248625      0.412278              0.123307\n",
       "Mushroom Sorter (Assessment)  0.711042      0.841895              0.505352"
      ]
     },
     "execution_count": 261,
     "metadata": {},
     "output_type": "execute_result"
    }
   ],
   "source": [
    "# same stats training set\n",
    "\n",
    "game_stats"
   ]
  },
  {
   "cell_type": "markdown",
   "metadata": {},
   "source": [
    "# Constructing the test set"
   ]
  },
  {
   "cell_type": "code",
   "execution_count": 262,
   "metadata": {},
   "outputs": [
    {
     "data": {
      "text/html": [
       "<div>\n",
       "<style scoped>\n",
       "    .dataframe tbody tr th:only-of-type {\n",
       "        vertical-align: middle;\n",
       "    }\n",
       "\n",
       "    .dataframe tbody tr th {\n",
       "        vertical-align: top;\n",
       "    }\n",
       "\n",
       "    .dataframe thead th {\n",
       "        text-align: right;\n",
       "    }\n",
       "</style>\n",
       "<table border=\"1\" class=\"dataframe\">\n",
       "  <thead>\n",
       "    <tr style=\"text-align: right;\">\n",
       "      <th></th>\n",
       "      <th>event_id</th>\n",
       "      <th>game_session</th>\n",
       "      <th>timestamp</th>\n",
       "      <th>installation_id</th>\n",
       "      <th>event_count</th>\n",
       "      <th>event_code</th>\n",
       "      <th>game_time</th>\n",
       "      <th>title</th>\n",
       "      <th>type</th>\n",
       "      <th>world</th>\n",
       "      <th>date</th>\n",
       "      <th>correct</th>\n",
       "    </tr>\n",
       "  </thead>\n",
       "  <tbody>\n",
       "    <tr>\n",
       "      <th>867</th>\n",
       "      <td>90d848e0</td>\n",
       "      <td>348d7f09f96af313</td>\n",
       "      <td>2019-09-12 13:52:12.193000+00:00</td>\n",
       "      <td>00abaee7</td>\n",
       "      <td>1</td>\n",
       "      <td>2000</td>\n",
       "      <td>0</td>\n",
       "      <td>Cauldron Filler (Assessment)</td>\n",
       "      <td>Assessment</td>\n",
       "      <td>MAGMAPEAK</td>\n",
       "      <td>2019-09-12</td>\n",
       "      <td>NaN</td>\n",
       "    </tr>\n",
       "    <tr>\n",
       "      <th>3586</th>\n",
       "      <td>7ad3efc6</td>\n",
       "      <td>1fef5d54cb4b775a</td>\n",
       "      <td>2019-10-09 20:23:16.209000+00:00</td>\n",
       "      <td>01242218</td>\n",
       "      <td>1</td>\n",
       "      <td>2000</td>\n",
       "      <td>0</td>\n",
       "      <td>Cart Balancer (Assessment)</td>\n",
       "      <td>Assessment</td>\n",
       "      <td>CRYSTALCAVES</td>\n",
       "      <td>2019-10-09</td>\n",
       "      <td>NaN</td>\n",
       "    </tr>\n",
       "  </tbody>\n",
       "</table>\n",
       "</div>"
      ],
      "text/plain": [
       "      event_id      game_session                        timestamp  \\\n",
       "867   90d848e0  348d7f09f96af313 2019-09-12 13:52:12.193000+00:00   \n",
       "3586  7ad3efc6  1fef5d54cb4b775a 2019-10-09 20:23:16.209000+00:00   \n",
       "\n",
       "     installation_id  event_count  event_code  game_time  \\\n",
       "867         00abaee7            1        2000          0   \n",
       "3586        01242218            1        2000          0   \n",
       "\n",
       "                             title        type         world        date  \\\n",
       "867   Cauldron Filler (Assessment)  Assessment     MAGMAPEAK  2019-09-12   \n",
       "3586    Cart Balancer (Assessment)  Assessment  CRYSTALCAVES  2019-10-09   \n",
       "\n",
       "     correct  \n",
       "867      NaN  \n",
       "3586     NaN  "
      ]
     },
     "execution_count": 262,
     "metadata": {},
     "output_type": "execute_result"
    }
   ],
   "source": [
    "last_action = test.loc[test.reset_index().groupby('installation_id')['index'].last()]\n",
    "last_action.head(2)"
   ]
  },
  {
   "cell_type": "code",
   "execution_count": 263,
   "metadata": {},
   "outputs": [],
   "source": [
    "last_action['hour_of_day'] = last_action.timestamp.dt.hour\n",
    "last_action['weekday'] = last_action.timestamp.dt.weekday\n",
    "\n",
    "last_action['sin_time'] = np.sin(2 * np.pi * last_action.hour_of_day/24)\n",
    "last_action['cos_time'] = np.cos(2 * np.pi * last_action.hour_of_day/24)\n",
    "last_action['sin_weekday'] = np.sin(2 * np.pi * last_action.weekday/7)\n",
    "last_action['cos_weekday'] = np.cos(2 * np.pi * last_action.weekday/7)\n",
    "\n",
    "last_action.drop(columns=['hour_of_day','weekday','date'], inplace=True)"
   ]
  },
  {
   "cell_type": "code",
   "execution_count": 264,
   "metadata": {},
   "outputs": [
    {
     "name": "stdout",
     "output_type": "stream",
     "text": [
      "(1000, 15)\n",
      "(1000, 541)\n"
     ]
    }
   ],
   "source": [
    "print(last_action.shape)\n",
    "test_agg = last_action.merge(main_features_test, how='left', left_on=['installation_id'],\n",
    "             right_on=['index'])\n",
    "print(test_agg.shape)"
   ]
  },
  {
   "cell_type": "code",
   "execution_count": 265,
   "metadata": {},
   "outputs": [
    {
     "name": "stdout",
     "output_type": "stream",
     "text": [
      "(1000, 544)\n"
     ]
    }
   ],
   "source": [
    "test_agg = test_agg.merge(game_stats, left_on='title', right_index=True,\n",
    "                             how='left')\n",
    "print(test_agg.shape)"
   ]
  },
  {
   "cell_type": "code",
   "execution_count": 266,
   "metadata": {},
   "outputs": [
    {
     "data": {
      "text/plain": [
       "(1000, 535)"
      ]
     },
     "execution_count": 266,
     "metadata": {},
     "output_type": "execute_result"
    }
   ],
   "source": [
    "test_agg_clean = test_agg.drop(columns=['timestamp', 'game_session',\n",
    "                                        'type', 'index', 'correct',\n",
    "                                         'event_code','event_id',\n",
    "                                       'event_count','game_time'])\n",
    "test_agg_clean.shape"
   ]
  },
  {
   "cell_type": "code",
   "execution_count": 267,
   "metadata": {},
   "outputs": [
    {
     "data": {
      "text/plain": [
       "(1000, 541)"
      ]
     },
     "execution_count": 267,
     "metadata": {},
     "output_type": "execute_result"
    }
   ],
   "source": [
    "test_agg_clean_dummies = pd.get_dummies(test_agg_clean, columns=['world','title'])\n",
    "test_agg_clean_dummies.shape"
   ]
  },
  {
   "cell_type": "code",
   "execution_count": 268,
   "metadata": {},
   "outputs": [
    {
     "data": {
      "text/plain": [
       "(1000, 426)"
      ]
     },
     "execution_count": 268,
     "metadata": {},
     "output_type": "execute_result"
    }
   ],
   "source": [
    "# removing highly correlated columns as for the train set\n",
    "\n",
    "for col in cols_to_remove_corr:\n",
    "    try:\n",
    "        test_agg_clean_dummies.drop(columns=col, inplace=True)\n",
    "    except:\n",
    "        pass\n",
    "test_agg_clean_dummies.shape"
   ]
  },
  {
   "cell_type": "code",
   "execution_count": 269,
   "metadata": {},
   "outputs": [
    {
     "data": {
      "text/plain": [
       "(440, 426)"
      ]
     },
     "execution_count": 269,
     "metadata": {},
     "output_type": "execute_result"
    }
   ],
   "source": [
    "len(model_col_list), test_agg_clean_dummies.shape[1]"
   ]
  },
  {
   "cell_type": "markdown",
   "metadata": {},
   "source": [
    "**Using col_list from train label to complete to main_features attributes**"
   ]
  },
  {
   "cell_type": "code",
   "execution_count": 270,
   "metadata": {},
   "outputs": [],
   "source": [
    "for col in model_col_list:\n",
    "    if col in (test_agg_clean_dummies.columns):\n",
    "        pass\n",
    "    else:\n",
    "        test_agg_clean_dummies[col] = 0"
   ]
  },
  {
   "cell_type": "code",
   "execution_count": 271,
   "metadata": {},
   "outputs": [],
   "source": [
    "test_agg_clean_dummies.set_index('installation_id', inplace=True)\n",
    "test_agg_clean_dummies.fillna(0, inplace=True)"
   ]
  },
  {
   "cell_type": "code",
   "execution_count": 272,
   "metadata": {},
   "outputs": [
    {
     "data": {
      "text/plain": [
       "Index(['installation_id'], dtype='object')"
      ]
     },
     "execution_count": 272,
     "metadata": {},
     "output_type": "execute_result"
    }
   ],
   "source": [
    "# the difference is ok\n",
    "model_col_list[~model_col_list.isin(test_agg_clean_dummies)]"
   ]
  },
  {
   "cell_type": "code",
   "execution_count": 273,
   "metadata": {},
   "outputs": [
    {
     "data": {
      "text/plain": [
       "Index([], dtype='object')"
      ]
     },
     "execution_count": 273,
     "metadata": {},
     "output_type": "execute_result"
    }
   ],
   "source": [
    "test_agg_clean_dummies.columns[~test_agg_clean_dummies.columns.isin(model_col_list)]"
   ]
  },
  {
   "cell_type": "code",
   "execution_count": 274,
   "metadata": {},
   "outputs": [],
   "source": [
    "#  changing into the right types as in the train set:\n",
    "\n",
    "for col in test_agg_clean_dummies.columns:\n",
    "    if col!='first_ass':\n",
    "        test_agg_clean_dummies[col] = test_agg_clean_dummies[col].astype(train_agg_clean_dummies[col].dtype)"
   ]
  },
  {
   "cell_type": "code",
   "execution_count": 275,
   "metadata": {},
   "outputs": [
    {
     "data": {
      "text/html": [
       "<div>\n",
       "<style scoped>\n",
       "    .dataframe tbody tr th:only-of-type {\n",
       "        vertical-align: middle;\n",
       "    }\n",
       "\n",
       "    .dataframe tbody tr th {\n",
       "        vertical-align: top;\n",
       "    }\n",
       "\n",
       "    .dataframe thead th {\n",
       "        text-align: right;\n",
       "    }\n",
       "</style>\n",
       "<table border=\"1\" class=\"dataframe\">\n",
       "  <thead>\n",
       "    <tr style=\"text-align: right;\">\n",
       "      <th></th>\n",
       "      <th>sin_time</th>\n",
       "      <th>cos_time</th>\n",
       "      <th>sin_weekday</th>\n",
       "      <th>cos_weekday</th>\n",
       "      <th>Bird Measurer (Assessment)_group_0</th>\n",
       "      <th>Bird Measurer (Assessment)_group_1</th>\n",
       "      <th>Bird Measurer (Assessment)_group_2</th>\n",
       "      <th>Bird Measurer (Assessment)_group_3</th>\n",
       "      <th>Cart Balancer (Assessment)_group_0</th>\n",
       "      <th>Cart Balancer (Assessment)_group_1</th>\n",
       "      <th>...</th>\n",
       "      <th>event_code_1b54d27f</th>\n",
       "      <th>event_code_29a42aea</th>\n",
       "      <th>event_code_2ec694de</th>\n",
       "      <th>event_code_611485c5</th>\n",
       "      <th>event_code_7fd1ac25</th>\n",
       "      <th>event_code_ab4ec3a4</th>\n",
       "      <th>event_code_bfc77bd6</th>\n",
       "      <th>event_code_e4d32835</th>\n",
       "      <th>event_code_ecc6157f</th>\n",
       "      <th>accuracy_group</th>\n",
       "    </tr>\n",
       "    <tr>\n",
       "      <th>installation_id</th>\n",
       "      <th></th>\n",
       "      <th></th>\n",
       "      <th></th>\n",
       "      <th></th>\n",
       "      <th></th>\n",
       "      <th></th>\n",
       "      <th></th>\n",
       "      <th></th>\n",
       "      <th></th>\n",
       "      <th></th>\n",
       "      <th></th>\n",
       "      <th></th>\n",
       "      <th></th>\n",
       "      <th></th>\n",
       "      <th></th>\n",
       "      <th></th>\n",
       "      <th></th>\n",
       "      <th></th>\n",
       "      <th></th>\n",
       "      <th></th>\n",
       "      <th></th>\n",
       "    </tr>\n",
       "  </thead>\n",
       "  <tbody>\n",
       "    <tr>\n",
       "      <th>00abaee7</th>\n",
       "      <td>-0.258819</td>\n",
       "      <td>-9.659258e-01</td>\n",
       "      <td>0.433884</td>\n",
       "      <td>-0.900969</td>\n",
       "      <td>0</td>\n",
       "      <td>0</td>\n",
       "      <td>0</td>\n",
       "      <td>0</td>\n",
       "      <td>0</td>\n",
       "      <td>0</td>\n",
       "      <td>...</td>\n",
       "      <td>0</td>\n",
       "      <td>0</td>\n",
       "      <td>0</td>\n",
       "      <td>0</td>\n",
       "      <td>0</td>\n",
       "      <td>0</td>\n",
       "      <td>0</td>\n",
       "      <td>0</td>\n",
       "      <td>0</td>\n",
       "      <td>0</td>\n",
       "    </tr>\n",
       "    <tr>\n",
       "      <th>01242218</th>\n",
       "      <td>-0.866025</td>\n",
       "      <td>5.000000e-01</td>\n",
       "      <td>0.974928</td>\n",
       "      <td>-0.222521</td>\n",
       "      <td>0</td>\n",
       "      <td>1</td>\n",
       "      <td>0</td>\n",
       "      <td>0</td>\n",
       "      <td>0</td>\n",
       "      <td>0</td>\n",
       "      <td>...</td>\n",
       "      <td>0</td>\n",
       "      <td>0</td>\n",
       "      <td>0</td>\n",
       "      <td>0</td>\n",
       "      <td>0</td>\n",
       "      <td>0</td>\n",
       "      <td>0</td>\n",
       "      <td>0</td>\n",
       "      <td>0</td>\n",
       "      <td>0</td>\n",
       "    </tr>\n",
       "    <tr>\n",
       "      <th>017c5718</th>\n",
       "      <td>0.258819</td>\n",
       "      <td>-9.659258e-01</td>\n",
       "      <td>-0.974928</td>\n",
       "      <td>-0.222521</td>\n",
       "      <td>0</td>\n",
       "      <td>0</td>\n",
       "      <td>0</td>\n",
       "      <td>0</td>\n",
       "      <td>0</td>\n",
       "      <td>0</td>\n",
       "      <td>...</td>\n",
       "      <td>0</td>\n",
       "      <td>0</td>\n",
       "      <td>0</td>\n",
       "      <td>0</td>\n",
       "      <td>0</td>\n",
       "      <td>0</td>\n",
       "      <td>0</td>\n",
       "      <td>0</td>\n",
       "      <td>0</td>\n",
       "      <td>0</td>\n",
       "    </tr>\n",
       "    <tr>\n",
       "      <th>01a44906</th>\n",
       "      <td>-0.866025</td>\n",
       "      <td>-5.000000e-01</td>\n",
       "      <td>-0.974928</td>\n",
       "      <td>-0.222521</td>\n",
       "      <td>0</td>\n",
       "      <td>0</td>\n",
       "      <td>0</td>\n",
       "      <td>0</td>\n",
       "      <td>0</td>\n",
       "      <td>0</td>\n",
       "      <td>...</td>\n",
       "      <td>0</td>\n",
       "      <td>0</td>\n",
       "      <td>0</td>\n",
       "      <td>0</td>\n",
       "      <td>0</td>\n",
       "      <td>0</td>\n",
       "      <td>0</td>\n",
       "      <td>0</td>\n",
       "      <td>0</td>\n",
       "      <td>0</td>\n",
       "    </tr>\n",
       "    <tr>\n",
       "      <th>01bc6cb6</th>\n",
       "      <td>-1.000000</td>\n",
       "      <td>-1.836970e-16</td>\n",
       "      <td>-0.433884</td>\n",
       "      <td>-0.900969</td>\n",
       "      <td>0</td>\n",
       "      <td>0</td>\n",
       "      <td>0</td>\n",
       "      <td>0</td>\n",
       "      <td>0</td>\n",
       "      <td>0</td>\n",
       "      <td>...</td>\n",
       "      <td>0</td>\n",
       "      <td>0</td>\n",
       "      <td>0</td>\n",
       "      <td>0</td>\n",
       "      <td>0</td>\n",
       "      <td>0</td>\n",
       "      <td>0</td>\n",
       "      <td>0</td>\n",
       "      <td>0</td>\n",
       "      <td>0</td>\n",
       "    </tr>\n",
       "  </tbody>\n",
       "</table>\n",
       "<p>5 rows × 439 columns</p>\n",
       "</div>"
      ],
      "text/plain": [
       "                 sin_time      cos_time  sin_weekday  cos_weekday  \\\n",
       "installation_id                                                     \n",
       "00abaee7        -0.258819 -9.659258e-01     0.433884    -0.900969   \n",
       "01242218        -0.866025  5.000000e-01     0.974928    -0.222521   \n",
       "017c5718         0.258819 -9.659258e-01    -0.974928    -0.222521   \n",
       "01a44906        -0.866025 -5.000000e-01    -0.974928    -0.222521   \n",
       "01bc6cb6        -1.000000 -1.836970e-16    -0.433884    -0.900969   \n",
       "\n",
       "                 Bird Measurer (Assessment)_group_0  \\\n",
       "installation_id                                       \n",
       "00abaee7                                          0   \n",
       "01242218                                          0   \n",
       "017c5718                                          0   \n",
       "01a44906                                          0   \n",
       "01bc6cb6                                          0   \n",
       "\n",
       "                 Bird Measurer (Assessment)_group_1  \\\n",
       "installation_id                                       \n",
       "00abaee7                                          0   \n",
       "01242218                                          1   \n",
       "017c5718                                          0   \n",
       "01a44906                                          0   \n",
       "01bc6cb6                                          0   \n",
       "\n",
       "                 Bird Measurer (Assessment)_group_2  \\\n",
       "installation_id                                       \n",
       "00abaee7                                          0   \n",
       "01242218                                          0   \n",
       "017c5718                                          0   \n",
       "01a44906                                          0   \n",
       "01bc6cb6                                          0   \n",
       "\n",
       "                 Bird Measurer (Assessment)_group_3  \\\n",
       "installation_id                                       \n",
       "00abaee7                                          0   \n",
       "01242218                                          0   \n",
       "017c5718                                          0   \n",
       "01a44906                                          0   \n",
       "01bc6cb6                                          0   \n",
       "\n",
       "                 Cart Balancer (Assessment)_group_0  \\\n",
       "installation_id                                       \n",
       "00abaee7                                          0   \n",
       "01242218                                          0   \n",
       "017c5718                                          0   \n",
       "01a44906                                          0   \n",
       "01bc6cb6                                          0   \n",
       "\n",
       "                 Cart Balancer (Assessment)_group_1  ...  event_code_1b54d27f  \\\n",
       "installation_id                                      ...                        \n",
       "00abaee7                                          0  ...                    0   \n",
       "01242218                                          0  ...                    0   \n",
       "017c5718                                          0  ...                    0   \n",
       "01a44906                                          0  ...                    0   \n",
       "01bc6cb6                                          0  ...                    0   \n",
       "\n",
       "                 event_code_29a42aea  event_code_2ec694de  \\\n",
       "installation_id                                             \n",
       "00abaee7                           0                    0   \n",
       "01242218                           0                    0   \n",
       "017c5718                           0                    0   \n",
       "01a44906                           0                    0   \n",
       "01bc6cb6                           0                    0   \n",
       "\n",
       "                 event_code_611485c5  event_code_7fd1ac25  \\\n",
       "installation_id                                             \n",
       "00abaee7                           0                    0   \n",
       "01242218                           0                    0   \n",
       "017c5718                           0                    0   \n",
       "01a44906                           0                    0   \n",
       "01bc6cb6                           0                    0   \n",
       "\n",
       "                 event_code_ab4ec3a4  event_code_bfc77bd6  \\\n",
       "installation_id                                             \n",
       "00abaee7                           0                    0   \n",
       "01242218                           0                    0   \n",
       "017c5718                           0                    0   \n",
       "01a44906                           0                    0   \n",
       "01bc6cb6                           0                    0   \n",
       "\n",
       "                 event_code_e4d32835  event_code_ecc6157f  accuracy_group  \n",
       "installation_id                                                            \n",
       "00abaee7                           0                    0               0  \n",
       "01242218                           0                    0               0  \n",
       "017c5718                           0                    0               0  \n",
       "01a44906                           0                    0               0  \n",
       "01bc6cb6                           0                    0               0  \n",
       "\n",
       "[5 rows x 439 columns]"
      ]
     },
     "execution_count": 275,
     "metadata": {},
     "output_type": "execute_result"
    }
   ],
   "source": [
    "test_agg_clean_dummies.head()"
   ]
  },
  {
   "cell_type": "code",
   "execution_count": 276,
   "metadata": {},
   "outputs": [
    {
     "data": {
      "text/plain": [
       "22"
      ]
     },
     "execution_count": 276,
     "metadata": {},
     "output_type": "execute_result"
    }
   ],
   "source": [
    "del test_agg\n",
    "del last_action\n",
    "del test_agg_clean\n",
    "del main_features_test\n",
    "del df_id_test\n",
    "gc.collect()"
   ]
  },
  {
   "cell_type": "code",
   "execution_count": 277,
   "metadata": {},
   "outputs": [],
   "source": [
    "test_no_ass_index = test_agg_clean_dummies.loc[test_agg_clean_dummies.first_ass==True].index"
   ]
  },
  {
   "cell_type": "code",
   "execution_count": 278,
   "metadata": {},
   "outputs": [],
   "source": [
    "# cols order:\n",
    "\n",
    "cols_order = train_agg_clean_dummies.columns.tolist()\n",
    "test_agg_clean_dummies = test_agg_clean_dummies.loc[:, cols_order]\n",
    "test_agg_clean_dummies.drop(columns=['accuracy_group','installation_id'], inplace=True)"
   ]
  },
  {
   "cell_type": "markdown",
   "metadata": {},
   "source": [
    "# Make Predictions "
   ]
  },
  {
   "cell_type": "markdown",
   "metadata": {},
   "source": [
    "## Experienced Users:"
   ]
  },
  {
   "cell_type": "code",
   "execution_count": 279,
   "metadata": {},
   "outputs": [
    {
     "data": {
      "text/plain": [
       "True"
      ]
     },
     "execution_count": 279,
     "metadata": {},
     "output_type": "execute_result"
    }
   ],
   "source": [
    "# varify that each column in the train set is also in test set\n",
    "(X_train.drop(columns='installation_id').columns == test_agg_clean_dummies.columns).all()"
   ]
  },
  {
   "cell_type": "code",
   "execution_count": 280,
   "metadata": {},
   "outputs": [],
   "source": [
    "test_w_ass_index = test_agg_clean_dummies.loc[~test_agg_clean_dummies.index.isin(test_no_ass_index)].index"
   ]
  },
  {
   "cell_type": "code",
   "execution_count": 281,
   "metadata": {},
   "outputs": [],
   "source": [
    "y_test_score_pred_xgb = xgb_model[1].predict(test_agg_clean_dummies.loc[test_w_ass_index].to_numpy())\n",
    "y_test_score_pred_lgb = lgb_model[1].predict(test_agg_clean_dummies.loc[test_w_ass_index].to_numpy())"
   ]
  },
  {
   "cell_type": "code",
   "execution_count": 282,
   "metadata": {},
   "outputs": [
    {
     "data": {
      "text/plain": [
       "0.0     40\n",
       "1.0    154\n",
       "2.0    240\n",
       "3.0    123\n",
       "dtype: int64"
      ]
     },
     "execution_count": 282,
     "metadata": {},
     "output_type": "execute_result"
    }
   ],
   "source": [
    "y_test_score_pred_class = reg_to_class(y_test_score_pred_xgb*0.15 + y_test_score_pred_lgb*0.85)\n",
    "pd.Series(y_test_score_pred_class).value_counts().sort_index()"
   ]
  },
  {
   "cell_type": "code",
   "execution_count": 283,
   "metadata": {},
   "outputs": [
    {
     "data": {
      "text/html": [
       "<div>\n",
       "<style scoped>\n",
       "    .dataframe tbody tr th:only-of-type {\n",
       "        vertical-align: middle;\n",
       "    }\n",
       "\n",
       "    .dataframe tbody tr th {\n",
       "        vertical-align: top;\n",
       "    }\n",
       "\n",
       "    .dataframe thead th {\n",
       "        text-align: right;\n",
       "    }\n",
       "</style>\n",
       "<table border=\"1\" class=\"dataframe\">\n",
       "  <thead>\n",
       "    <tr style=\"text-align: right;\">\n",
       "      <th></th>\n",
       "      <th>accuracy_group</th>\n",
       "    </tr>\n",
       "    <tr>\n",
       "      <th>installation_id</th>\n",
       "      <th></th>\n",
       "    </tr>\n",
       "  </thead>\n",
       "  <tbody>\n",
       "    <tr>\n",
       "      <th>00abaee7</th>\n",
       "      <td>2.0</td>\n",
       "    </tr>\n",
       "    <tr>\n",
       "      <th>01242218</th>\n",
       "      <td>3.0</td>\n",
       "    </tr>\n",
       "    <tr>\n",
       "      <th>02256298</th>\n",
       "      <td>3.0</td>\n",
       "    </tr>\n",
       "    <tr>\n",
       "      <th>027e7ce5</th>\n",
       "      <td>2.0</td>\n",
       "    </tr>\n",
       "    <tr>\n",
       "      <th>02a29f99</th>\n",
       "      <td>0.0</td>\n",
       "    </tr>\n",
       "  </tbody>\n",
       "</table>\n",
       "</div>"
      ],
      "text/plain": [
       "                 accuracy_group\n",
       "installation_id                \n",
       "00abaee7                    2.0\n",
       "01242218                    3.0\n",
       "02256298                    3.0\n",
       "027e7ce5                    2.0\n",
       "02a29f99                    0.0"
      ]
     },
     "execution_count": 283,
     "metadata": {},
     "output_type": "execute_result"
    }
   ],
   "source": [
    "submission_w_ass = pd.DataFrame(data=y_test_score_pred_class, \n",
    "                                 index=test_w_ass_index).rename(columns={0:'accuracy_group'})\n",
    "submission_w_ass.head()    "
   ]
  },
  {
   "cell_type": "markdown",
   "metadata": {},
   "source": [
    "## New Users"
   ]
  },
  {
   "cell_type": "code",
   "execution_count": 284,
   "metadata": {},
   "outputs": [],
   "source": [
    "relevant_col_no_ass = train_agg_clean_dummies_no_ass.columns.to_list()\n",
    "relevant_col_no_ass.remove('installation_id')\n",
    "relevant_col_no_ass.remove('accuracy_group')"
   ]
  },
  {
   "cell_type": "code",
   "execution_count": 285,
   "metadata": {},
   "outputs": [
    {
     "data": {
      "text/plain": [
       "['event_code_0086365d',\n",
       " 'event_code_00c73085',\n",
       " 'event_code_022b4259',\n",
       " 'event_code_02a42007',\n",
       " 'event_code_05ad839b']"
      ]
     },
     "execution_count": 285,
     "metadata": {},
     "output_type": "execute_result"
    }
   ],
   "source": [
    "relevant_col_no_ass[:5]"
   ]
  },
  {
   "cell_type": "code",
   "execution_count": 286,
   "metadata": {},
   "outputs": [],
   "source": [
    "y_test_score_pred_no_ass_xgb = \\\n",
    "xgb_model_no_ass[1].predict(test_agg_clean_dummies.loc[test_no_ass_index, relevant_col_no_ass].to_numpy())\n",
    "y_test_score_pred_no_ass_lgb = \\\n",
    "lgb_model_no_ass[1].predict(test_agg_clean_dummies.loc[test_no_ass_index, relevant_col_no_ass].to_numpy())"
   ]
  },
  {
   "cell_type": "code",
   "execution_count": 287,
   "metadata": {},
   "outputs": [
    {
     "data": {
      "text/plain": [
       "(443, 356)"
      ]
     },
     "execution_count": 287,
     "metadata": {},
     "output_type": "execute_result"
    }
   ],
   "source": [
    "test_agg_clean_dummies.loc[test_no_ass_index, relevant_col_no_ass].shape"
   ]
  },
  {
   "cell_type": "code",
   "execution_count": 288,
   "metadata": {},
   "outputs": [
    {
     "data": {
      "text/plain": [
       "0.0     20\n",
       "1.0     73\n",
       "2.0    229\n",
       "3.0    121\n",
       "dtype: int64"
      ]
     },
     "execution_count": 288,
     "metadata": {},
     "output_type": "execute_result"
    }
   ],
   "source": [
    "y_test_score_pred_no_ass_class = reg_to_class(y_test_score_pred_no_ass_xgb*0.6 + y_test_score_pred_no_ass_lgb*0.4)\n",
    "pd.Series(y_test_score_pred_no_ass_class).value_counts().sort_index()"
   ]
  },
  {
   "cell_type": "code",
   "execution_count": 289,
   "metadata": {},
   "outputs": [
    {
     "data": {
      "text/html": [
       "<div>\n",
       "<style scoped>\n",
       "    .dataframe tbody tr th:only-of-type {\n",
       "        vertical-align: middle;\n",
       "    }\n",
       "\n",
       "    .dataframe tbody tr th {\n",
       "        vertical-align: top;\n",
       "    }\n",
       "\n",
       "    .dataframe thead th {\n",
       "        text-align: right;\n",
       "    }\n",
       "</style>\n",
       "<table border=\"1\" class=\"dataframe\">\n",
       "  <thead>\n",
       "    <tr style=\"text-align: right;\">\n",
       "      <th></th>\n",
       "      <th>accuracy_group</th>\n",
       "    </tr>\n",
       "    <tr>\n",
       "      <th>installation_id</th>\n",
       "      <th></th>\n",
       "    </tr>\n",
       "  </thead>\n",
       "  <tbody>\n",
       "    <tr>\n",
       "      <th>017c5718</th>\n",
       "      <td>3.0</td>\n",
       "    </tr>\n",
       "    <tr>\n",
       "      <th>01a44906</th>\n",
       "      <td>3.0</td>\n",
       "    </tr>\n",
       "    <tr>\n",
       "      <th>01bc6cb6</th>\n",
       "      <td>3.0</td>\n",
       "    </tr>\n",
       "    <tr>\n",
       "      <th>0267757a</th>\n",
       "      <td>2.0</td>\n",
       "    </tr>\n",
       "    <tr>\n",
       "      <th>0300c576</th>\n",
       "      <td>2.0</td>\n",
       "    </tr>\n",
       "  </tbody>\n",
       "</table>\n",
       "</div>"
      ],
      "text/plain": [
       "                 accuracy_group\n",
       "installation_id                \n",
       "017c5718                    3.0\n",
       "01a44906                    3.0\n",
       "01bc6cb6                    3.0\n",
       "0267757a                    2.0\n",
       "0300c576                    2.0"
      ]
     },
     "execution_count": 289,
     "metadata": {},
     "output_type": "execute_result"
    }
   ],
   "source": [
    "submission_no_ass = pd.DataFrame(data=reg_to_class(y_test_score_pred_no_ass_class), \n",
    "                                 index=test_no_ass_index).rename(columns={0:'accuracy_group'})\n",
    "submission_no_ass.head()                                                                                                  "
   ]
  }
 ],
 "metadata": {
  "kernelspec": {
   "display_name": "Python 3",
   "language": "python",
   "name": "python3"
  },
  "language_info": {
   "codemirror_mode": {
    "name": "ipython",
    "version": 3
   },
   "file_extension": ".py",
   "mimetype": "text/x-python",
   "name": "python",
   "nbconvert_exporter": "python",
   "pygments_lexer": "ipython3",
   "version": "3.7.3"
  }
 },
 "nbformat": 4,
 "nbformat_minor": 4
}
